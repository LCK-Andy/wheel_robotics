{
 "cells": [
  {
   "cell_type": "markdown",
   "id": "fce15a81",
   "metadata": {},
   "source": [
    "## Mixed-Integer Linear Programming"
   ]
  },
  {
   "cell_type": "code",
   "execution_count": 16,
   "id": "d2332b02",
   "metadata": {},
   "outputs": [],
   "source": [
    "from sage.all import MixedIntegerLinearProgram, Integer, set_random_seed, random"
   ]
  },
  {
   "cell_type": "code",
   "execution_count": 6,
   "id": "2573d6e5",
   "metadata": {},
   "outputs": [],
   "source": [
    "p = MixedIntegerLinearProgram()\n",
    "v = p.new_variable(real=True, nonnegative=True)\n",
    "\n",
    "x, y, z = v['x'], v['y'], v['z']\n",
    "\n",
    "# objective function\n",
    "p.set_objective(x + y + 3 * z) # maximize\n",
    "\n",
    "# constraints \n",
    "p.add_constraint(x + 2 * y <= 4)\n",
    "p.add_constraint(5 * z - y <= 8)"
   ]
  },
  {
   "cell_type": "code",
   "execution_count": 7,
   "id": "c1d7d520",
   "metadata": {},
   "outputs": [
    {
     "data": {
      "text/plain": [
       "8.8"
      ]
     },
     "execution_count": 7,
     "metadata": {},
     "output_type": "execute_result"
    }
   ],
   "source": [
    "# miximized optimal solution\n",
    "p.solve()"
   ]
  },
  {
   "cell_type": "code",
   "execution_count": 8,
   "id": "c5acef61",
   "metadata": {},
   "outputs": [
    {
     "data": {
      "text/plain": [
       "(4.0, 0.0, 1.6)"
      ]
     },
     "execution_count": 8,
     "metadata": {},
     "output_type": "execute_result"
    }
   ],
   "source": [
    "# get values of variables\n",
    "x_val = p.get_values(x)\n",
    "y_val = p.get_values(y)\n",
    "z_val = p.get_values(z)\n",
    "x_val, y_val, z_val"
   ]
  },
  {
   "cell_type": "code",
   "execution_count": null,
   "id": "f3b56618",
   "metadata": {},
   "outputs": [],
   "source": [
    "x = p.new_variable(real=True, nonnegative=True)\n",
    "p.add_constraint(x[Integer(1)] + x[Integer(12)] - x[Integer(14)] >= Integer(8))"
   ]
  },
  {
   "cell_type": "code",
   "execution_count": 11,
   "id": "012c868e",
   "metadata": {},
   "outputs": [
    {
     "data": {
      "text/plain": [
       "MIPVariable with 0 real components, >= 0"
      ]
     },
     "execution_count": 11,
     "metadata": {},
     "output_type": "execute_result"
    }
   ],
   "source": [
    "x"
   ]
  },
  {
   "cell_type": "markdown",
   "id": "08a5421e",
   "metadata": {},
   "source": [
    "### Knapsack \n",
    "\n",
    "given a collection of items having both a **weight** and a **usefulness**, we would like to fill a bag whose **capacity** is constrained while **maximizing the usefulness of the items contained in the bag**"
   ]
  },
  {
   "cell_type": "code",
   "execution_count": 31,
   "id": "b5c1e11b",
   "metadata": {},
   "outputs": [],
   "source": [
    "C = Integer(2)\n",
    "L = [\"pan\", \"book\", \"knife\", \"gourd\", \"flashlight\"]\n",
    "L.extend([\"random_stuff_\" + str(i) for i in range(Integer(20))])\n",
    "\n",
    "# assign random weights and usefulness to each object\n",
    "weight = {}\n",
    "usefulness = {}\n",
    "set_random_seed(Integer(685474))\n",
    "for o in L:\n",
    "    weight[o] = random()\n",
    "    usefulness[o] = random()"
   ]
  },
  {
   "cell_type": "code",
   "execution_count": 32,
   "id": "014cbbf2",
   "metadata": {},
   "outputs": [
    {
     "data": {
      "text/plain": [
       "4.965233878353076"
      ]
     },
     "execution_count": 32,
     "metadata": {},
     "output_type": "execute_result"
    }
   ],
   "source": [
    "P = MixedIntegerLinearProgram()\n",
    "taken = P.new_variable(binary=True)\n",
    "\n",
    "# capacity constraint\n",
    "P.add_constraint(sum(weight[o] * taken[o] for o in L) <= C)\n",
    "\n",
    "# objective function\n",
    "P.set_objective(sum(usefulness[o] * taken[o] for o in L))\n",
    "\n",
    "P.solve()"
   ]
  },
  {
   "cell_type": "code",
   "execution_count": 33,
   "id": "fc1ac99b",
   "metadata": {},
   "outputs": [
    {
     "data": {
      "text/plain": [
       "{'pan': 0.0,\n",
       " 'book': 0.0,\n",
       " 'knife': 0.0,\n",
       " 'gourd': 0.0,\n",
       " 'flashlight': 1.0,\n",
       " 'random_stuff_0': 0.0,\n",
       " 'random_stuff_1': 1.0,\n",
       " 'random_stuff_2': 0.0,\n",
       " 'random_stuff_3': 0.0,\n",
       " 'random_stuff_4': 0.0,\n",
       " 'random_stuff_5': 0.0,\n",
       " 'random_stuff_6': 0.0,\n",
       " 'random_stuff_7': 0.0,\n",
       " 'random_stuff_8': 1.0,\n",
       " 'random_stuff_9': 0.0,\n",
       " 'random_stuff_10': 0.0,\n",
       " 'random_stuff_11': 0.0,\n",
       " 'random_stuff_12': 1.0,\n",
       " 'random_stuff_13': 1.0,\n",
       " 'random_stuff_14': 0.0,\n",
       " 'random_stuff_15': 0.0,\n",
       " 'random_stuff_16': 0.0,\n",
       " 'random_stuff_17': 0.0,\n",
       " 'random_stuff_18': 0.0,\n",
       " 'random_stuff_19': 1.0}"
      ]
     },
     "execution_count": 33,
     "metadata": {},
     "output_type": "execute_result"
    }
   ],
   "source": [
    "P.get_values(taken)"
   ]
  },
  {
   "cell_type": "markdown",
   "id": "0b0bb38c",
   "metadata": {},
   "source": [
    "### Matching"
   ]
  }
 ],
 "metadata": {
  "kernelspec": {
   "display_name": "sage-env",
   "language": "python",
   "name": "python3"
  },
  "language_info": {
   "codemirror_mode": {
    "name": "ipython",
    "version": 3
   },
   "file_extension": ".py",
   "mimetype": "text/x-python",
   "name": "python",
   "nbconvert_exporter": "python",
   "pygments_lexer": "ipython3",
   "version": "3.12.12"
  }
 },
 "nbformat": 4,
 "nbformat_minor": 5
}
