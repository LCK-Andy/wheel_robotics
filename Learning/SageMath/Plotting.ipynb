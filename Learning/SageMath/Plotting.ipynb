{
 "cells": [
  {
   "cell_type": "markdown",
   "id": "f6e47389",
   "metadata": {},
   "source": [
    "## Basic 2D plotting"
   ]
  },
  {
   "cell_type": "code",
   "execution_count": null,
   "id": "b830527d",
   "metadata": {},
   "outputs": [],
   "source": [
    "from sage.all import plot, var"
   ]
  },
  {
   "cell_type": "code",
   "execution_count": 3,
   "id": "c257221d",
   "metadata": {},
   "outputs": [
    {
     "data": {
      "text/plain": [
       "x^3 + 1"
      ]
     },
     "execution_count": 3,
     "metadata": {},
     "output_type": "execute_result"
    }
   ],
   "source": [
    "x = var('x')\n",
    "f = x ** 3 + 1\n",
    "f"
   ]
  },
  {
   "cell_type": "code",
   "execution_count": 4,
   "id": "c3321856",
   "metadata": {},
   "outputs": [
    {
     "data": {
      "text/plain": [
       "Graphics object consisting of 1 graphics primitive"
      ]
     },
     "execution_count": 4,
     "metadata": {},
     "output_type": "execute_result"
    }
   ],
   "source": [
    "plot(f, (x, -1, 1))"
   ]
  }
 ],
 "metadata": {
  "kernelspec": {
   "display_name": "sage-env",
   "language": "python",
   "name": "python3"
  },
  "language_info": {
   "codemirror_mode": {
    "name": "ipython",
    "version": 3
   },
   "file_extension": ".py",
   "mimetype": "text/x-python",
   "name": "python",
   "nbconvert_exporter": "python",
   "pygments_lexer": "ipython3",
   "version": "3.12.12"
  }
 },
 "nbformat": 4,
 "nbformat_minor": 5
}
