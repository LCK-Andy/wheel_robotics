{
 "cells": [
  {
   "cell_type": "markdown",
   "id": "dd7ad018",
   "metadata": {},
   "source": [
    "# Notation for system of equations"
   ]
  },
  {
   "cell_type": "markdown",
   "id": "edb9d7fd",
   "metadata": {},
   "source": [
    "## discrete equations -> system of equations -> matrix form"
   ]
  },
  {
   "cell_type": "code",
   "execution_count": null,
   "id": "6c67e927",
   "metadata": {},
   "outputs": [
    {
     "ename": "",
     "evalue": "",
     "output_type": "error",
     "traceback": [
      "\u001b[1;31m執行具有 'Python 3.12.3' 的儲存格需要 ipykernel 套件。\n",
      "\u001b[1;31m使用所需的套件<a href='command:jupyter.createPythonEnvAndSelectController'>建立 Python 環境</a>。\n",
      "\u001b[1;31m或使用命令 '/usr/bin/python -m pip install ipykernel -U --user --force-reinstall' 安裝 'ipykernel'"
     ]
    }
   ],
   "source": [
    "from sympy import symbols, Eq, solve, Matrix\n",
    "\n",
    "# Define the symbols\n",
    "a, b, c, d, e, f, x = symbols(\"a b c d e f x\")\n",
    "\n",
    "# Define the equations\n",
    "eq1 = Eq(a * x**2 + b * x + c, 1)\n",
    "eq2 = Eq(d * x**2 + e * x + f, 2)\n",
    "\n",
    "# Group them into a system\n",
    "system = [eq1, eq2]\n"
   ]
  },
  {
   "cell_type": "code",
   "execution_count": null,
   "id": "3c546c40",
   "metadata": {},
   "outputs": [],
   "source": [
    "C_1 = Matrix([a, d])\n",
    "C_2 = Matrix([b, e])\n",
    "C_3 = Matrix([c, f])\n",
    "B = Matrix([1, 2])\n",
    "\n",
    "system = Eq(C_1 * x**2 + C_2 * x + C_3, B)\n",
    "system"
   ]
  }
 ],
 "metadata": {
  "kernelspec": {
   "display_name": "Python 3",
   "language": "python",
   "name": "python3"
  },
  "language_info": {
   "codemirror_mode": {
    "name": "ipython",
    "version": 3
   },
   "file_extension": ".py",
   "mimetype": "text/x-python",
   "name": "python",
   "nbconvert_exporter": "python",
   "pygments_lexer": "ipython3",
   "version": "3.12.3"
  }
 },
 "nbformat": 4,
 "nbformat_minor": 5
}
