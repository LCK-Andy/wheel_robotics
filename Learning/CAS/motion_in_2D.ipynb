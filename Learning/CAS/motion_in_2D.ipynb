{
 "cells": [
  {
   "cell_type": "markdown",
   "id": "9da98a88",
   "metadata": {},
   "source": [
    "## 2D motion with constant acceleration"
   ]
  },
  {
   "cell_type": "code",
   "execution_count": 1,
   "id": "2ed9e009",
   "metadata": {},
   "outputs": [
    {
     "data": {
      "text/latex": [
       "$\\displaystyle \\left(x{\\left(t \\right)}\\right)\\mathbf{\\hat{i}_{N}} + \\left(y{\\left(t \\right)}\\right)\\mathbf{\\hat{j}_{N}}$"
      ],
      "text/plain": [
       "(x(t))*N.i + (y(t))*N.j"
      ]
     },
     "execution_count": 1,
     "metadata": {},
     "output_type": "execute_result"
    }
   ],
   "source": [
    "from sympy.vector import CoordSys3D\n",
    "from sympy import symbols, Function, Eq\n",
    "\n",
    "# Define a 3D coordinate system\n",
    "N = CoordSys3D('N')\n",
    "\n",
    "t = symbols('t')  # time variable\n",
    "i = N.i  # unit vector in x-direction\n",
    "j = N.j  # unit vector in y-direction\n",
    "k = N.k  # unit vector in z-direction\n",
    "\n",
    "# x, y coordinates as functions of time\n",
    "x = Function('x')(t)\n",
    "y = Function('y')(t)\n",
    "\n",
    "r = x * i + y * j  # position vector in 2D plan\n",
    "r"
   ]
  },
  {
   "cell_type": "code",
   "execution_count": 2,
   "id": "5e4e63fc",
   "metadata": {},
   "outputs": [
    {
     "data": {
      "text/latex": [
       "$\\displaystyle \\left(\\frac{d}{d t} x{\\left(t \\right)}\\right)\\mathbf{\\hat{i}_{N}} + \\left(\\frac{d}{d t} y{\\left(t \\right)}\\right)\\mathbf{\\hat{j}_{N}}$"
      ],
      "text/plain": [
       "(Derivative(x(t), t))*N.i + (Derivative(y(t), t))*N.j"
      ]
     },
     "execution_count": 2,
     "metadata": {},
     "output_type": "execute_result"
    }
   ],
   "source": [
    "v = r.diff(t)  # velocity vector\n",
    "v"
   ]
  },
  {
   "cell_type": "code",
   "execution_count": 3,
   "id": "c966ea88",
   "metadata": {},
   "outputs": [
    {
     "data": {
      "text/latex": [
       "$\\displaystyle \\left(\\frac{d^{2}}{d t^{2}} x{\\left(t \\right)}\\right)\\mathbf{\\hat{i}_{N}} + \\left(\\frac{d^{2}}{d t^{2}} y{\\left(t \\right)}\\right)\\mathbf{\\hat{j}_{N}}$"
      ],
      "text/plain": [
       "(Derivative(x(t), (t, 2)))*N.i + (Derivative(y(t), (t, 2)))*N.j"
      ]
     },
     "execution_count": 3,
     "metadata": {},
     "output_type": "execute_result"
    }
   ],
   "source": [
    "a = v.diff(t)  # acceleration vector\n",
    "a.simplify()"
   ]
  },
  {
   "cell_type": "code",
   "execution_count": 4,
   "id": "af39ca6f",
   "metadata": {},
   "outputs": [
    {
     "data": {
      "text/latex": [
       "$\\displaystyle \\left(a_{x} t + v_{i x}\\right)\\mathbf{\\hat{i}_{N}} + \\left(a_{y} t + v_{i y}\\right)\\mathbf{\\hat{j}_{N}}$"
      ],
      "text/plain": [
       "(a_x*t + v_i_x)*N.i + (a_y*t + v_i_y)*N.j"
      ]
     },
     "execution_count": 4,
     "metadata": {},
     "output_type": "execute_result"
    }
   ],
   "source": [
    "a_x, a_y = symbols(\"a_x a_y\")\n",
    "acc = a_x * i + a_y * j  # constant acceleration vector\n",
    "\n",
    "# Integrate acceleration to get velocity (+ constant)\n",
    "C_1_x, C_1_y = symbols(\"v_i_x v_i_y\")\n",
    "C_1 = C_1_x * i + C_1_y * j\n",
    "v_integrated = acc.integrate(t) + C_1\n",
    "v_integrated_simplified = v_integrated.simplify()\n",
    "v_integrated_simplified"
   ]
  },
  {
   "cell_type": "code",
   "execution_count": 5,
   "id": "ff61c841",
   "metadata": {},
   "outputs": [
    {
     "data": {
      "text/latex": [
       "$\\displaystyle \\left(\\frac{a_{x} t^{2}}{2} + r_{i x} + t v_{i x}\\right)\\mathbf{\\hat{i}_{N}} + \\left(\\frac{a_{y} t^{2}}{2} + r_{i y} + t v_{i y}\\right)\\mathbf{\\hat{j}_{N}}$"
      ],
      "text/plain": [
       "(a_x*t**2/2 + r_i_x + t*v_i_x)*N.i + (a_y*t**2/2 + r_i_y + t*v_i_y)*N.j"
      ]
     },
     "execution_count": 5,
     "metadata": {},
     "output_type": "execute_result"
    }
   ],
   "source": [
    "# Integrate velocity to get position (+ constant)\n",
    "C_2_x, C_2_y = symbols(\"r_i_x r_i_y\")\n",
    "C_2 = C_2_x * i + C_2_y * j\n",
    "r_integrated = v_integrated.integrate(t) + C_2\n",
    "r_integrated_simplified = r_integrated.simplify()\n",
    "r_integrated_simplified"
   ]
  },
  {
   "cell_type": "code",
   "execution_count": 6,
   "id": "a56f524c",
   "metadata": {},
   "outputs": [
    {
     "data": {
      "text/latex": [
       "$\\displaystyle \\left[\\begin{matrix}x{\\left(t \\right)}\\\\y{\\left(t \\right)}\\end{matrix}\\right]$"
      ],
      "text/plain": [
       "Matrix([\n",
       "[x(t)],\n",
       "[y(t)]])"
      ]
     },
     "execution_count": 6,
     "metadata": {},
     "output_type": "execute_result"
    }
   ],
   "source": [
    "### Better notation: Matrix \n",
    "from sympy import Matrix \n",
    "\n",
    "r = Matrix([x,y])\n",
    "r"
   ]
  },
  {
   "cell_type": "code",
   "execution_count": 7,
   "id": "4c2c1776",
   "metadata": {},
   "outputs": [
    {
     "data": {
      "text/latex": [
       "$\\displaystyle \\left[\\begin{matrix}\\frac{d}{d t} x{\\left(t \\right)}\\\\\\frac{d}{d t} y{\\left(t \\right)}\\end{matrix}\\right]$"
      ],
      "text/plain": [
       "Matrix([\n",
       "[Derivative(x(t), t)],\n",
       "[Derivative(y(t), t)]])"
      ]
     },
     "execution_count": 7,
     "metadata": {},
     "output_type": "execute_result"
    }
   ],
   "source": [
    "v = r.diff(t)\n",
    "v"
   ]
  },
  {
   "cell_type": "code",
   "execution_count": 8,
   "id": "da469e4d",
   "metadata": {},
   "outputs": [
    {
     "data": {
      "text/latex": [
       "$\\displaystyle \\left[\\begin{matrix}\\frac{d^{2}}{d t^{2}} x{\\left(t \\right)}\\\\\\frac{d^{2}}{d t^{2}} y{\\left(t \\right)}\\end{matrix}\\right]$"
      ],
      "text/plain": [
       "Matrix([\n",
       "[Derivative(x(t), (t, 2))],\n",
       "[Derivative(y(t), (t, 2))]])"
      ]
     },
     "execution_count": 8,
     "metadata": {},
     "output_type": "execute_result"
    }
   ],
   "source": [
    "a = v.diff(t)  # acceleration vector\n",
    "a"
   ]
  },
  {
   "cell_type": "code",
   "execution_count": 9,
   "id": "54342df9",
   "metadata": {},
   "outputs": [
    {
     "data": {
      "text/latex": [
       "$\\displaystyle \\left[\\begin{matrix}a_{x}\\\\a_{y}\\end{matrix}\\right]$"
      ],
      "text/plain": [
       "Matrix([\n",
       "[a_x],\n",
       "[a_y]])"
      ]
     },
     "execution_count": 9,
     "metadata": {},
     "output_type": "execute_result"
    }
   ],
   "source": [
    "a = Matrix([a_x, a_y])\n",
    "a"
   ]
  },
  {
   "cell_type": "code",
   "execution_count": 10,
   "id": "cc98b190",
   "metadata": {},
   "outputs": [
    {
     "data": {
      "text/latex": [
       "$\\displaystyle \\left[\\begin{matrix}a_{x} t + v_{i x}\\\\a_{y} t + v_{i y}\\end{matrix}\\right]$"
      ],
      "text/plain": [
       "Matrix([\n",
       "[a_x*t + v_i_x],\n",
       "[a_y*t + v_i_y]])"
      ]
     },
     "execution_count": 10,
     "metadata": {},
     "output_type": "execute_result"
    }
   ],
   "source": [
    "v_i_x, v_i_y = symbols(\"v_i_x v_i_y\")\n",
    "v = a.integrate(t) + Matrix([v_i_x, v_i_y])\n",
    "v"
   ]
  },
  {
   "cell_type": "code",
   "execution_count": 11,
   "id": "a97a1134",
   "metadata": {},
   "outputs": [
    {
     "data": {
      "text/latex": [
       "$\\displaystyle \\left[\\begin{matrix}\\frac{a_{x} t^{2}}{2} + r_{i x} + t v_{i x}\\\\\\frac{a_{y} t^{2}}{2} + r_{i y} + t v_{i y}\\end{matrix}\\right]$"
      ],
      "text/plain": [
       "Matrix([\n",
       "[a_x*t**2/2 + r_i_x + t*v_i_x],\n",
       "[a_y*t**2/2 + r_i_y + t*v_i_y]])"
      ]
     },
     "execution_count": 11,
     "metadata": {},
     "output_type": "execute_result"
    }
   ],
   "source": [
    "r_i_x, r_i_y = symbols(\"r_i_x r_i_y\")\n",
    "r = v.integrate(t) + Matrix([r_i_x, r_i_y])\n",
    "r"
   ]
  },
  {
   "cell_type": "markdown",
   "id": "af62db3b",
   "metadata": {},
   "source": [
    "### Example 4.1\n",
    "\n",
    "A particle starts from the origin at t  0 with an initial velocity having an x component of 20 m/s and a y component of $-15$ m/s. The particle moves in the xy plane with an x component of acceleration only, given by ax  $4.0 m/s^2$. \n",
    "\n",
    "(A) Determine the total velocity vector at any time."
   ]
  },
  {
   "cell_type": "code",
   "execution_count": 12,
   "id": "916c37dd",
   "metadata": {},
   "outputs": [
    {
     "data": {
      "text/latex": [
       "$\\displaystyle \\left(4.0 t + 20.0\\right)\\mathbf{\\hat{i}_{N}} + \\left(-15.0\\right)\\mathbf{\\hat{j}_{N}}$"
      ],
      "text/plain": [
       "(4.0*t + 20.0)*N.i + (-15.0)*N.j"
      ]
     },
     "execution_count": 12,
     "metadata": {},
     "output_type": "execute_result"
    }
   ],
   "source": [
    "from sympy import symbols, Function, Eq, integrate, solve\n",
    "from sympy.vector import CoordSys3D\n",
    "\n",
    "# Define coordinate system and time symbol\n",
    "N = CoordSys3D(\"N\")\n",
    "t = symbols(\"t\", real=True)\n",
    "\n",
    "\n",
    "# given constant  \n",
    "a_x = 4.0  # m/s^2\n",
    "v_x_0 = 20.0  # m/s\n",
    "v_y_0 = -15.0  # m/s\n",
    "\n",
    "# unit vector\n",
    "i = N.i\n",
    "j = N.j\n",
    "\n",
    "# Acceleration vector\n",
    "a = a_x * i + 0 * j\n",
    "\n",
    "# integrate acceleration to get velocity\n",
    "C_1_x, C_1_y = symbols(\"C_1_x C_1_y\")\n",
    "C_1 = C_1_x * i + C_1_y * j\n",
    "\n",
    "v = a.integrate(t) + C_1\n",
    "\n",
    "# apply initial conditions to find constants\n",
    "v_0 = v_x_0 * i + v_y_0 * j\n",
    "\n",
    "eq1 = Eq(v.subs(t, 0), v_0) # set t=0\n",
    "sol = solve(eq1, (C_1_x, C_1_y))\n",
    "\n",
    "v = v.subs({C_1_x: sol[C_1_x], C_1_y: sol[C_1_y]})\n",
    "v.simplify()"
   ]
  },
  {
   "cell_type": "markdown",
   "id": "d67a1bda",
   "metadata": {},
   "source": [
    "(B) Calculate the velocity and speed of the particle at t  5.0 s."
   ]
  },
  {
   "cell_type": "code",
   "execution_count": 13,
   "id": "4219bbd2",
   "metadata": {},
   "outputs": [
    {
     "data": {
      "text/latex": [
       "$\\displaystyle 42.7200187265877$"
      ],
      "text/plain": [
       "42.7200187265877"
      ]
     },
     "execution_count": 13,
     "metadata": {},
     "output_type": "execute_result"
    }
   ],
   "source": [
    "# velocity\n",
    "v.subs(t, 5.0)  # velocity at t=5.0s\n",
    "\n",
    "# speed \n",
    "speed = v.magnitude().subs(t, 5.0)\n",
    "speed"
   ]
  },
  {
   "cell_type": "markdown",
   "id": "065f895a",
   "metadata": {},
   "source": [
    "(C) Determine the x and y coordinates of the particle at any time t and its position vector at this time."
   ]
  },
  {
   "cell_type": "code",
   "execution_count": 14,
   "id": "8e928e0b",
   "metadata": {},
   "outputs": [
    {
     "data": {
      "text/latex": [
       "$\\displaystyle \\left(2.0 t^{2} + 20.0 t\\right)\\mathbf{\\hat{i}_{N}} + \\left(- 15.0 t\\right)\\mathbf{\\hat{j}_{N}}$"
      ],
      "text/plain": [
       "(2.0*t**2 + 20.0*t)*N.i + (-15.0*t)*N.j"
      ]
     },
     "execution_count": 14,
     "metadata": {},
     "output_type": "execute_result"
    }
   ],
   "source": [
    "# assume initial position is at origin\n",
    "r_x_0, r_y_0 = 0, 0\n",
    "r_0 = r_x_0 * i + r_y_0 * j\n",
    "\n",
    "# integrate velocity to get position\n",
    "C_2_x, C_2_y = symbols(\"C_2_x C_2_y\")\n",
    "C_2 = C_2_x * i + C_2_y * j\n",
    "\n",
    "r = v.integrate(t) + C_2\n",
    "r = r.simplify()\n",
    "\n",
    "eq2 = Eq(r.subs(t, 0), r_0)  # set t=0\n",
    "sol2 = solve(eq2, (C_2_x, C_2_y))\n",
    "\n",
    "r.subs({C_2_x: sol2[C_2_x], C_2_y: sol2[C_2_y]})"
   ]
  },
  {
   "cell_type": "markdown",
   "id": "05fe84a2",
   "metadata": {},
   "source": [
    "## Projectile Motion"
   ]
  },
  {
   "cell_type": "markdown",
   "id": "e9cca7d1",
   "metadata": {},
   "source": [
    "### Horizontal range and maximum height of a projectile"
   ]
  },
  {
   "cell_type": "code",
   "execution_count": 15,
   "id": "b2cb9060",
   "metadata": {},
   "outputs": [
    {
     "data": {
      "text/latex": [
       "$\\displaystyle \\frac{v_{mag}^{2} \\sin^{2}{\\left(v_{\\theta} \\right)}}{2 g}$"
      ],
      "text/plain": [
       "v_mag**2*sin(v_theta)**2/(2*g)"
      ]
     },
     "execution_count": 15,
     "metadata": {},
     "output_type": "execute_result"
    }
   ],
   "source": [
    "from sympy import symbols, cos, sin\n",
    "t = symbols(\"t\", real=True)\n",
    "v_x, v_y = Function(\"v_x\")(t), Function(\"v_y\")(t)\n",
    "a_x, a_y = symbols(\"a_x a_y\") # constant accelerations\n",
    "g = symbols(\"g\")  # m/s^2, acceleration due to gravity\n",
    "a_y = -g  # acceleration in y direction due to gravity\n",
    "\n",
    "v_mag, v_theta = symbols(\"v_mag v_theta\")  # initial speed and angle\n",
    "v_x_0 = v_mag * cos(v_theta)  # initial velocity in x direction\n",
    "v_y_0 = v_mag * sin(v_theta)  # initial velocity in y direction\n",
    "\n",
    "# in maximum height, v_y = 0\n",
    "v_y = a_y * t + v_y_0\n",
    "t_max_height = solve(Eq(v_y, 0), t)[0]\n",
    "\n",
    "# maximum height\n",
    "r_y = v_y.integrate(t) + 0  # initial position in y direction is 0\n",
    "h_max = r_y.subs(t, t_max_height)\n",
    "h_max.simplify()"
   ]
  },
  {
   "cell_type": "code",
   "execution_count": 16,
   "id": "09ec9c5f",
   "metadata": {},
   "outputs": [
    {
     "data": {
      "text/latex": [
       "$\\displaystyle \\frac{v_{mag}^{2} \\sin{\\left(2 v_{\\theta} \\right)}}{g}$"
      ],
      "text/plain": [
       "v_mag**2*sin(2*v_theta)/g"
      ]
     },
     "execution_count": 16,
     "metadata": {},
     "output_type": "execute_result"
    }
   ],
   "source": [
    "# maximum range when r_y = 0\n",
    "r_x = v_x_0 * t  # position in x direction\n",
    "\n",
    "travel_time = solve(Eq(r_y, 0), t)\n",
    "range_max = r_x.subs(t, travel_time[1])\n",
    "range_max.simplify()"
   ]
  },
  {
   "cell_type": "code",
   "execution_count": 17,
   "id": "0e063853",
   "metadata": {},
   "outputs": [
    {
     "data": {
      "text/latex": [
       "$\\displaystyle \\left\\{\\frac{\\pi}{4}\\right\\}$"
      ],
      "text/plain": [
       "{pi/4}"
      ]
     },
     "execution_count": 17,
     "metadata": {},
     "output_type": "execute_result"
    }
   ],
   "source": [
    "# find the maximum v_theta for maximum range, the range of v_theta is [0, pi/2]\n",
    "from sympy import pi, solveset, Interval\n",
    "v_theta_max = symbols(\"v_theta_max\")\n",
    "range_max = range_max.subs(v_theta, v_theta_max)\n",
    "\n",
    "eq = Eq(range_max.diff(v_theta_max).simplify(),0)\n",
    "sol = solveset(eq, v_theta_max, domain=Interval(0, pi / 2))\n",
    "sol"
   ]
  },
  {
   "cell_type": "markdown",
   "id": "69dc75ff",
   "metadata": {},
   "source": [
    "### Example 4.2 \n",
    "\n",
    "A long jumper (Fig. 4.11) leaves the ground at an angle of 20.0° above the horizontal and at a speed of 11.0 m/s.\n",
    "\n",
    "(A) How far does he jump in the horizontal direction?"
   ]
  },
  {
   "cell_type": "code",
   "execution_count": 18,
   "id": "1c839ed7",
   "metadata": {},
   "outputs": [
    {
     "data": {
      "text/latex": [
       "$\\displaystyle \\frac{2 v_{mag}^{2} \\sin{\\left(v_{\\theta max} \\right)} \\cos{\\left(v_{\\theta max} \\right)}}{g}$"
      ],
      "text/plain": [
       "2*v_mag**2*sin(v_theta_max)*cos(v_theta_max)/g"
      ]
     },
     "execution_count": 18,
     "metadata": {},
     "output_type": "execute_result"
    }
   ],
   "source": [
    "range_max"
   ]
  },
  {
   "cell_type": "code",
   "execution_count": 19,
   "id": "e757b483",
   "metadata": {},
   "outputs": [
    {
     "data": {
      "text/latex": [
       "$\\displaystyle \\frac{242.0 \\sin{\\left(v_{\\theta max} \\right)} \\cos{\\left(v_{\\theta max} \\right)}}{g}$"
      ],
      "text/plain": [
       "242.0*sin(v_theta_max)*cos(v_theta_max)/g"
      ]
     },
     "execution_count": 19,
     "metadata": {},
     "output_type": "execute_result"
    }
   ],
   "source": [
    "v_0_mag = symbols(\"v_0_mag\")\n",
    "v_0_theta = symbols(\"v_0_theta\")\n",
    "\n",
    "v_0_mag = 11.0 # m/s\n",
    "v_0_theta = 20.0 * pi / 180  # convert degree to radian\n",
    "g = 9.81  # m/s^2\n",
    "\n",
    "range_max.subs({v_mag: v_0_mag, v_theta: v_0_theta, g: g}).evalf()"
   ]
  },
  {
   "cell_type": "markdown",
   "id": "f1293a0d",
   "metadata": {},
   "source": [
    "(B) What is the maximum height reached?"
   ]
  },
  {
   "cell_type": "code",
   "execution_count": 20,
   "id": "16686144",
   "metadata": {},
   "outputs": [
    {
     "data": {
      "text/latex": [
       "$\\displaystyle \\frac{v_{mag}^{2} \\sin^{2}{\\left(v_{\\theta} \\right)}}{2 g}$"
      ],
      "text/plain": [
       "v_mag**2*sin(v_theta)**2/(2*g)"
      ]
     },
     "execution_count": 20,
     "metadata": {},
     "output_type": "execute_result"
    }
   ],
   "source": [
    "h_max\n"
   ]
  },
  {
   "cell_type": "code",
   "execution_count": 21,
   "id": "bfceead4",
   "metadata": {},
   "outputs": [
    {
     "data": {
      "text/latex": [
       "$\\displaystyle \\frac{7.07715559565092}{g}$"
      ],
      "text/plain": [
       "7.07715559565092/g"
      ]
     },
     "execution_count": 21,
     "metadata": {},
     "output_type": "execute_result"
    }
   ],
   "source": [
    "h_max.subs({v_mag: v_0_mag, v_theta: v_0_theta, g: g}).evalf()"
   ]
  },
  {
   "cell_type": "code",
   "execution_count": 22,
   "id": "aeab8efd",
   "metadata": {},
   "outputs": [
    {
     "data": {
      "text/plain": [
       "0.7214067278287462"
      ]
     },
     "execution_count": 22,
     "metadata": {},
     "output_type": "execute_result"
    }
   ],
   "source": [
    "7.077 / 9.81"
   ]
  },
  {
   "attachments": {
    "image.png": {
     "image/png": "[encoded data removed]"
    }
   },
   "cell_type": "markdown",
   "id": "e30dbc5f",
   "metadata": {},
   "source": [
    "### Example 4.3\n",
    "\n",
    "In a popular lecture demonstration, a projectile is fired at a target in such a way that the projectile leaves the gun at the same time the target is dropped from rest. Show that if the gun is initially aimed at the stationary target, the projectile hits the falling target as shown in Figure 4.12a.\n",
    "![image.png](attachment:image.png)\n",
    "\n",
    "- both objects are subject only to gravity.\n",
    "- target moves freely in one dimension (vertical)\n",
    "- projectile moves in two dimensions (horizontal and vertical)"
   ]
  },
  {
   "cell_type": "code",
   "execution_count": 23,
   "id": "04a069df",
   "metadata": {},
   "outputs": [],
   "source": [
    "from sympy import tan\n",
    "t = symbols(\"t\", real=True)\n",
    "g = symbols(\"g\")  # m/s^2\n",
    "\n",
    "# target\n",
    "x_target_0, y_target_0 = symbols(\"x_target_0 y_target_0\")\n",
    "x_target = Function(\"x_target\")(t)\n",
    "y_target = Function(\"y_target\")(t)\n",
    "\n",
    "dot_x_target = 0  # target only moves in vertical direction\n",
    "dot_y_target = -g * t  # acceleration due to gravity\n",
    "\n",
    "# projectile\n",
    "x_projectile, y_projectile = symbols(\"x_projectile y_projectile\")\n",
    "x_projectile = Function(\"x_projectile\")(t)\n",
    "y_projectile = Function(\"y_projectile\")(t)\n",
    "\n",
    "dot_x_projectile = x_projectile.diff(t)\n",
    "dot_y_projectile = y_projectile.diff(t)\n",
    "\n",
    "v_0_mag, v_0_theta = symbols(\"v_0_mag v_0_theta\")\n",
    "\n",
    "dot_x_projectile = v_0_mag * cos(v_0_theta)\n",
    "dot_y_projectile = v_0_mag * sin(v_0_theta) - g * t\n",
    "\n",
    "# observations at t=0\n",
    "y_target_0 = x_target_0 * tan(v_0_theta)\n",
    "y_target = dot_y_target.integrate(t) + y_target_0\n",
    "y_target = y_target.simplify()\n",
    "# y_target = y_target_0 - (1/2) * g * t**2\n",
    "\n",
    "# find y_projectile\n",
    "y_projectile = integrate(dot_y_projectile, t) + 0  # initial position is 0\n",
    "y_projectile = y_projectile.simplify()\n",
    "\n",
    "# time when projectile travel to x_target_0\n",
    "t_hit = x_target_0 / dot_x_projectile\n",
    "\n",
    "# y position of projectile when it reaches x_target_0\n",
    "y_projectile_hit = y_projectile.subs(t, t_hit)\n",
    "y_projectile_hit = y_projectile_hit.simplify()\n",
    "\n",
    "# y position of target when projectile reaches x_target_0\n",
    "y_target_hit = y_target.subs(t, t_hit)\n",
    "y_target_hit = y_target_hit.simplify()"
   ]
  },
  {
   "cell_type": "code",
   "execution_count": 24,
   "id": "d9c44c20",
   "metadata": {},
   "outputs": [
    {
     "data": {
      "text/latex": [
       "$\\displaystyle 0$"
      ],
      "text/plain": [
       "0"
      ]
     },
     "execution_count": 24,
     "metadata": {},
     "output_type": "execute_result"
    }
   ],
   "source": [
    "y_projectile_hit - y_target_hit\n",
    "# if the difference is zero, projectile hits the target"
   ]
  },
  {
   "cell_type": "code",
   "execution_count": 25,
   "id": "17d7a1f9",
   "metadata": {},
   "outputs": [
    {
     "data": {
      "text/latex": [
       "$\\displaystyle - \\frac{g t^{2}}{2} + x_{target 0} \\tan{\\left(v_{0 \\theta} \\right)}$"
      ],
      "text/plain": [
       "-g*t**2/2 + x_target_0*tan(v_0_theta)"
      ]
     },
     "execution_count": 25,
     "metadata": {},
     "output_type": "execute_result"
    }
   ],
   "source": [
    "y_target\n"
   ]
  },
  {
   "cell_type": "markdown",
   "id": "01ebb4cd",
   "metadata": {},
   "source": [
    "### Example 4.4\n",
    "\n",
    "A stone is thrown from the top of a building upward at an angle of 30.0° to the horizontal with an initial speed of 20.0 m/s as shown in Figure 4.13. The height of the building is 45.0 m."
   ]
  },
  {
   "cell_type": "code",
   "execution_count": 26,
   "id": "fecc1c5c",
   "metadata": {},
   "outputs": [],
   "source": [
    "from sympy import symbols, Function, cos, sin, pi, integrate, simplify, S\n",
    "\n",
    "# define symbols\n",
    "t = symbols(\"t\", real=True)\n",
    "# g = symbols(\"g\", positive=True)\n",
    "\n",
    "# initial conditions\n",
    "v_mag, v_theta = symbols(\"v_mag v_theta\", real=True)\n",
    "\n",
    "# assign numeric values after symbolic setup\n",
    "v_mag = 20.0\n",
    "v_theta = 30.0 * pi / 180\n",
    "\n",
    "r_y_0 = 45.0  # height in meters\n",
    "r_x_0 = 0.0\n",
    "\n",
    "# initial velocity components\n",
    "v_x_0 = v_mag * cos(v_theta)\n",
    "v_y_0 = v_mag * sin(v_theta)\n",
    "\n",
    "# accelerations (use SymPy expressions!)\n",
    "a_x = S(0)  # symbolic zero\n",
    "a_y = -9.81  # symbolic acceleration\n",
    "\n",
    "# integrate accelerations to get velocities\n",
    "v_x = integrate(a_x, t) + v_x_0\n",
    "v_y = integrate(a_y, t) + v_y_0\n",
    "\n",
    "# integrate velocities to get positions\n",
    "r_x = integrate(v_x, t) + r_x_0\n",
    "r_y = integrate(v_y, t) + r_y_0\n"
   ]
  },
  {
   "cell_type": "code",
   "execution_count": 27,
   "id": "80993ff5",
   "metadata": {},
   "outputs": [
    {
     "data": {
      "text/latex": [
       "$\\displaystyle - 9.81 t + 20.0 \\sin{\\left(0.166666666666667 \\pi \\right)}$"
      ],
      "text/plain": [
       "-9.81*t + 20.0*sin(0.166666666666667*pi)"
      ]
     },
     "execution_count": 27,
     "metadata": {},
     "output_type": "execute_result"
    }
   ],
   "source": [
    "v_y\n"
   ]
  },
  {
   "cell_type": "markdown",
   "id": "25f42348",
   "metadata": {},
   "source": [
    "(A) How long does it take the stone to reach the ground?"
   ]
  },
  {
   "cell_type": "code",
   "execution_count": 28,
   "id": "df6109af",
   "metadata": {},
   "outputs": [
    {
     "data": {
      "text/plain": [
       "[-2.17647665854140, 4.21521264223151]"
      ]
     },
     "execution_count": 28,
     "metadata": {},
     "output_type": "execute_result"
    }
   ],
   "source": [
    "sol = solve(Eq(r_y, 0), t)\n",
    "sol"
   ]
  },
  {
   "cell_type": "markdown",
   "id": "cf579dfb",
   "metadata": {},
   "source": [
    "(B) What is the speed of the stone just before it strikes the ground?"
   ]
  },
  {
   "cell_type": "code",
   "execution_count": 29,
   "id": "63e9176b",
   "metadata": {},
   "outputs": [
    {
     "data": {
      "text/latex": [
       "$\\displaystyle 35.8175934423294$"
      ],
      "text/plain": [
       "35.8175934423294"
      ]
     },
     "execution_count": 29,
     "metadata": {},
     "output_type": "execute_result"
    }
   ],
   "source": [
    "from sympy import sqrt\n",
    "v_y_final = v_y.subs(t, sol[1])\n",
    "v_x_final = v_x.simplify()\n",
    "\n",
    "sol = sqrt(v_x_final**2 + v_y_final**2).evalf()\n",
    "sol"
   ]
  },
  {
   "attachments": {
    "image.png": {
     "image/png": "[encoded data removed]"
    }
   },
   "cell_type": "markdown",
   "id": "7092c5fc",
   "metadata": {},
   "source": [
    "### Example 4.5 \n",
    "\n",
    "A ski jumper leaves the ski track moving in the horizontal direction with a speed of 25.0 m/s as shown in Figure 4.14. The landing incline below her falls off with a slope of 35.0°. Where does she land on the incline?\n",
    "\n",
    "![image.png](attachment:image.png)"
   ]
  },
  {
   "cell_type": "code",
   "execution_count": 30,
   "id": "b5e5b4b5",
   "metadata": {},
   "outputs": [],
   "source": [
    "from sympy import symbols, Function, cos, sin, pi, integrate, simplify, S\n",
    "\n",
    "# define symbols\n",
    "t = symbols(\"t\", real=True)\n",
    "# g = symbols(\"g\", positive=True)\n",
    "\n",
    "# initial conditions\n",
    "v_mag, v_theta = symbols(\"v_mag v_theta\", real=True)\n",
    "\n",
    "# assign numeric values after symbolic setup\n",
    "v_mag = 25.0\n",
    "v_theta = 45.0 * pi / 180\n",
    "\n",
    "r_y_0 = 0.0  # height in meters\n",
    "r_x_0 = 0.0\n",
    "\n",
    "# initial velocity components\n",
    "v_x_0 = v_mag * cos(v_theta)\n",
    "v_y_0 = v_mag * sin(v_theta)\n",
    "\n",
    "# accelerations (use SymPy expressions!)\n",
    "a_x = S(0)  # symbolic zero\n",
    "a_y = -9.81  # symbolic acceleration\n",
    "\n",
    "# integrate accelerations to get velocities\n",
    "v_x = integrate(a_x, t) + v_x_0\n",
    "v_y = integrate(a_y, t) + v_y_0\n",
    "\n",
    "# integrate velocities to get positions\n",
    "r_x = integrate(v_x, t) + r_x_0\n",
    "r_y = integrate(v_y, t) + r_y_0\n"
   ]
  },
  {
   "cell_type": "code",
   "execution_count": 31,
   "id": "1886f7dc",
   "metadata": {},
   "outputs": [
    {
     "data": {
      "text/plain": [
       "(108.321071496542, -75.8472308088314, 6.12756513604779)"
      ]
     },
     "execution_count": 31,
     "metadata": {},
     "output_type": "execute_result"
    }
   ],
   "source": [
    "# express the landing spot on the slope \n",
    "d = symbols(\"d\", real=True)\n",
    "x_final = d * cos(35.0 * pi / 180)\n",
    "y_final = -d * sin(35.0 * pi / 180)\n",
    "\n",
    "# when the projectile lands on the slope\n",
    "eq1 = Eq(r_x, x_final)\n",
    "eq2 = Eq(r_y, y_final)\n",
    "\n",
    "# express t in eq1\n",
    "t_landing = solve(eq1, t)[0]\n",
    "# substitute t in eq2 to solve for d\n",
    "eq2_subs = eq2.subs(t, t_landing)\n",
    "d_landing = solve(eq2_subs, d)[1]\n",
    "d_landing\n",
    "\n",
    "# substitute d_landing back to x_final and y_final\n",
    "x_landing = x_final.subs(d, d_landing).evalf()\n",
    "y_landing = y_final.subs(d, d_landing).evalf()\n",
    "t_landing = t_landing.subs(d, d_landing).evalf()\n",
    "x_landing, y_landing, t_landing"
   ]
  },
  {
   "cell_type": "code",
   "execution_count": 32,
   "id": "84231af8",
   "metadata": {},
   "outputs": [
    {
     "data": {
      "text/latex": [
       "$\\displaystyle 132.235611510391$"
      ],
      "text/plain": [
       "132.235611510391"
      ]
     },
     "execution_count": 32,
     "metadata": {},
     "output_type": "execute_result"
    }
   ],
   "source": [
    "d_landing"
   ]
  },
  {
   "cell_type": "markdown",
   "id": "5f116de9",
   "metadata": {},
   "source": [
    "### Exercises 1\n",
    "\n",
    "A motorist drives south at 20.0 m/s for 3.00 min, then turns west and travels at 25.0 m/s for 2.00 min, and finally travels northwest at 30.0 m/s for 1.00 min. For this 6.00-min trip."
   ]
  },
  {
   "cell_type": "markdown",
   "id": "ca264727",
   "metadata": {},
   "source": [
    "find (a) the total vector displacement"
   ]
  },
  {
   "cell_type": "markdown",
   "id": "e2859c2b",
   "metadata": {},
   "source": [
    "(b) the average speed"
   ]
  },
  {
   "cell_type": "markdown",
   "id": "700c5e5a",
   "metadata": {},
   "source": [
    "(c) the average velocity"
   ]
  },
  {
   "cell_type": "markdown",
   "id": "9e068259",
   "metadata": {},
   "source": [
    "### Exercises 2\n",
    "\n",
    "A golf ball is hit off a tee at the edge of a cliff. Its x and y coordinates as functions of time are given by the following expressions:\n",
    "\n",
    "$$\n",
    "x = (18.0 m/s)t \\\\\n",
    "y = (4.00 m/s)t - (4.90 m/s^2)t^2\n",
    "$$\n"
   ]
  },
  {
   "cell_type": "markdown",
   "id": "d37a3c21",
   "metadata": {},
   "source": [
    "(a) Write a vector expression for the ball’s position as a function of time, using the unit vectors and ."
   ]
  },
  {
   "cell_type": "code",
   "execution_count": null,
   "id": "98101b66",
   "metadata": {},
   "outputs": [],
   "source": []
  },
  {
   "cell_type": "markdown",
   "id": "98cf940e",
   "metadata": {},
   "source": [
    "## 2D circular motion"
   ]
  },
  {
   "cell_type": "code",
   "execution_count": 48,
   "id": "c106b331",
   "metadata": {},
   "outputs": [],
   "source": [
    "t = symbols(\"t\", real=True)\n",
    "R = symbols(\"R\", positive=True) # radius of circular motion\n",
    "omega = symbols(\"omega\", real=True)  # angular velocity\n",
    "\n",
    "x = R * cos(omega * t)\n",
    "y = R * sin(omega * t)\n",
    "\n",
    "v_x = x.diff(t)\n",
    "v_y = y.diff(t)\n",
    "\n",
    "a_x = v_x.diff(t)\n",
    "a_y = v_y.diff(t)\n"
   ]
  },
  {
   "cell_type": "code",
   "execution_count": 49,
   "id": "92380e52",
   "metadata": {},
   "outputs": [],
   "source": [
    "# Matrix format\n",
    "r = Matrix([x, y])\n",
    "v = r.diff(t)\n",
    "a = v.diff(t)"
   ]
  },
  {
   "cell_type": "code",
   "execution_count": 53,
   "id": "c901cf97",
   "metadata": {},
   "outputs": [],
   "source": [
    "# magnitudes\n",
    "v_mag = sqrt(v_x **2 + v_y **2)\n",
    "a_mag = sqrt(a_x **2 + a_y **2)"
   ]
  },
  {
   "cell_type": "code",
   "execution_count": 54,
   "id": "0bc1f3ed",
   "metadata": {},
   "outputs": [
    {
     "data": {
      "text/latex": [
       "$\\displaystyle R \\omega^{2}$"
      ],
      "text/plain": [
       "R*omega**2"
      ]
     },
     "execution_count": 54,
     "metadata": {},
     "output_type": "execute_result"
    }
   ],
   "source": [
    "from sympy import trigsimp\n",
    "a_mag_simplified = trigsimp(a_mag)\n",
    "a_mag_simplified"
   ]
  },
  {
   "cell_type": "markdown",
   "id": "1937db59",
   "metadata": {},
   "source": [
    "### Satellite orbiting a planet\n",
    "\n",
    "A satellite orbits a planet in a circular path of radius 𝑅 = 7000 km with a period 𝑇 = 6000 s.\n",
    "\n",
    "We want to find:\n",
    "\n",
    "1. $\\omega$ : the satellite's angular velocity\n",
    "2. $v$ : the satellite's linear velocity\n",
    "3. $a_{c}$ : the satellite's acceleration\n"
   ]
  },
  {
   "cell_type": "code",
   "execution_count": 60,
   "id": "d91d0e2a",
   "metadata": {},
   "outputs": [
    {
     "data": {
      "text/latex": [
       "$\\displaystyle \\frac{\\pi}{3000}$"
      ],
      "text/plain": [
       "pi/3000"
      ]
     },
     "execution_count": 60,
     "metadata": {},
     "output_type": "execute_result"
    }
   ],
   "source": [
    "# given values\n",
    "R_val = 7000e3  # radius\n",
    "T_val = 6000 # Period\n",
    "\n",
    "# define symbols \n",
    "R, T, t = symbols(\"R T t\", positive=True, real=True)\n",
    "omega = symbols(\"omega\", positive=True, real=True)\n",
    "\n",
    "# relationship between angular velocity and period\n",
    "omega_eq = Eq(omega, 2 * pi / T)\n",
    "\n",
    "# substitude numerical values \n",
    "omega_val = omega_eq.subs(T, T_val)\n",
    "solve(omega_val, omega)[0]"
   ]
  },
  {
   "cell_type": "code",
   "execution_count": 61,
   "id": "83e73a29",
   "metadata": {},
   "outputs": [
    {
     "data": {
      "text/latex": [
       "$\\displaystyle 7330.38285837618$"
      ],
      "text/plain": [
       "7330.38285837618"
      ]
     },
     "execution_count": 61,
     "metadata": {},
     "output_type": "execute_result"
    }
   ],
   "source": [
    "v = omega * R\n",
    "v_val = v.subs({omega: solve(omega_val, omega)[0], R: R_val})\n",
    "v_val.evalf()"
   ]
  },
  {
   "cell_type": "code",
   "execution_count": 62,
   "id": "0a5966e5",
   "metadata": {},
   "outputs": [
    {
     "data": {
      "text/latex": [
       "$\\displaystyle 7.67635897862506$"
      ],
      "text/plain": [
       "7.67635897862506"
      ]
     },
     "execution_count": 62,
     "metadata": {},
     "output_type": "execute_result"
    }
   ],
   "source": [
    "a_c = R * omega**2\n",
    "a_c_val = a_c.subs({omega: solve(omega_val, omega)[0], R: R_val})\n",
    "a_c_val.evalf()"
   ]
  },
  {
   "cell_type": "markdown",
   "id": "c66da01c",
   "metadata": {},
   "source": [
    "### Rotating Arm with angular acceleration\n",
    "\n",
    "A robotic arm of length $ R = 2\\,\\text{m} $ starts from rest and **rotates** in a circular path with a **constant angular acceleration**\n",
    "\n",
    "$$\n",
    "\\alpha = 1.5\\,\\text{rad/s}^2.\n",
    "$$\n",
    "\n",
    "Find:\n",
    "\n",
    "1. Angular velocity $ \\omega(t) $  \n",
    "2. Angular displacement $ \\theta(t) $  \n",
    "3. Tangential and centripetal acceleration components  \n",
    "4. Symbolic expressions for **position**, **velocity**, and **acceleration**\n"
   ]
  },
  {
   "cell_type": "code",
   "execution_count": 64,
   "id": "519779b5",
   "metadata": {},
   "outputs": [
    {
     "data": {
      "text/latex": [
       "$\\displaystyle 1.5 t$"
      ],
      "text/plain": [
       "1.5*t"
      ]
     },
     "execution_count": 64,
     "metadata": {},
     "output_type": "execute_result"
    }
   ],
   "source": [
    "t = symbols(\"t\", real=True)\n",
    "R = 2.0 # radius in meters\n",
    "omega = Function(\"omega\")(t)\n",
    "alpha = 1.5 # angular acceleration in rad/s^2\n",
    "\n",
    "omega = integrate(alpha, t) + 0  # initial angular velocity is 0\n",
    "omega"
   ]
  },
  {
   "cell_type": "code",
   "execution_count": 65,
   "id": "3b89fd01",
   "metadata": {},
   "outputs": [
    {
     "data": {
      "text/latex": [
       "$\\displaystyle 0.75 t^{2}$"
      ],
      "text/plain": [
       "0.75*t**2"
      ]
     },
     "execution_count": 65,
     "metadata": {},
     "output_type": "execute_result"
    }
   ],
   "source": [
    "theta = Function(\"theta\")(t)\n",
    "theta = integrate(omega, t) + 0  # initial angular position is 0\n",
    "theta"
   ]
  },
  {
   "cell_type": "code",
   "execution_count": 66,
   "id": "55f795ce",
   "metadata": {},
   "outputs": [
    {
     "data": {
      "text/plain": [
       "3.0"
      ]
     },
     "execution_count": 66,
     "metadata": {},
     "output_type": "execute_result"
    }
   ],
   "source": [
    "# tangential acceleration\n",
    "a_tangential = R * alpha\n",
    "a_tangential"
   ]
  },
  {
   "cell_type": "code",
   "execution_count": 67,
   "id": "9db38ccb",
   "metadata": {},
   "outputs": [
    {
     "data": {
      "text/latex": [
       "$\\displaystyle 4.5 t^{2}$"
      ],
      "text/plain": [
       "4.5*t**2"
      ]
     },
     "execution_count": 67,
     "metadata": {},
     "output_type": "execute_result"
    }
   ],
   "source": [
    "# centripetal acceleration\n",
    "a_centripetal = R * omega**2\n",
    "a_centripetal"
   ]
  },
  {
   "cell_type": "code",
   "execution_count": 68,
   "id": "151cf34d",
   "metadata": {},
   "outputs": [],
   "source": [
    "# position\n",
    "r = Matrix([R * cos(theta), \n",
    "            R * sin(theta)])\n",
    "\n",
    "# velocity\n",
    "v = r.diff(t)\n",
    "\n",
    "# acceleration\n",
    "a = v.diff(t)"
   ]
  },
  {
   "cell_type": "code",
   "execution_count": 71,
   "id": "a46d4a7e",
   "metadata": {},
   "outputs": [
    {
     "data": {
      "text/latex": [
       "$\\displaystyle \\left[\\begin{matrix}2.0 \\cos{\\left(0.75 t^{2} \\right)}\\\\2.0 \\sin{\\left(0.75 t^{2} \\right)}\\end{matrix}\\right]$"
      ],
      "text/plain": [
       "Matrix([\n",
       "[2.0*cos(0.75*t**2)],\n",
       "[2.0*sin(0.75*t**2)]])"
      ]
     },
     "execution_count": 71,
     "metadata": {},
     "output_type": "execute_result"
    }
   ],
   "source": [
    "r"
   ]
  }
 ],
 "metadata": {
  "kernelspec": {
   "display_name": "py10",
   "language": "python",
   "name": "python3"
  },
  "language_info": {
   "codemirror_mode": {
    "name": "ipython",
    "version": 3
   },
   "file_extension": ".py",
   "mimetype": "text/x-python",
   "name": "python",
   "nbconvert_exporter": "python",
   "pygments_lexer": "ipython3",
   "version": "3.10.18"
  }
 },
 "nbformat": 4,
 "nbformat_minor": 5
}
