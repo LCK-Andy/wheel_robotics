{
 "cells": [
  {
   "cell_type": "code",
   "execution_count": 1,
   "id": "261cc25c",
   "metadata": {},
   "outputs": [],
   "source": [
    "from sympy import symbols, Function, Matrix, Eq, sin, cos, simplify"
   ]
  },
  {
   "cell_type": "markdown",
   "id": "98f0a8df",
   "metadata": {},
   "source": [
    "## "
   ]
  },
  {
   "cell_type": "code",
   "execution_count": null,
   "id": "7b0fb477",
   "metadata": {},
   "outputs": [],
   "source": []
  }
 ],
 "metadata": {
  "kernelspec": {
   "display_name": "sage-env",
   "language": "python",
   "name": "python3"
  },
  "language_info": {
   "codemirror_mode": {
    "name": "ipython",
    "version": 3
   },
   "file_extension": ".py",
   "mimetype": "text/x-python",
   "name": "python",
   "nbconvert_exporter": "python",
   "pygments_lexer": "ipython3",
   "version": "3.12.12"
  }
 },
 "nbformat": 4,
 "nbformat_minor": 5
}
