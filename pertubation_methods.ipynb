{
 "cells": [
  {
   "cell_type": "code",
   "execution_count": 25,
   "id": "ef4d18b4",
   "metadata": {},
   "outputs": [],
   "source": [
    "from sympy import symbols, Function, sqrt, expand, Eq, solve"
   ]
  },
  {
   "cell_type": "code",
   "execution_count": 6,
   "id": "b9c6d9fe",
   "metadata": {},
   "outputs": [
    {
     "data": {
      "text/latex": [
       "$\\displaystyle \\sqrt{ε^{2} + 1}$"
      ],
      "text/plain": [
       "sqrt(ε**2 + 1)"
      ]
     },
     "execution_count": 6,
     "metadata": {},
     "output_type": "execute_result"
    }
   ],
   "source": [
    "ε = symbols(\"ε\")\n",
    "f = sqrt(1 + ε**2)\n",
    "f"
   ]
  },
  {
   "cell_type": "code",
   "execution_count": 9,
   "id": "366e4da4",
   "metadata": {},
   "outputs": [
    {
     "data": {
      "text/latex": [
       "$\\displaystyle 1 + \\frac{ε^{2}}{2} - \\frac{ε^{4}}{8} + O\\left(ε^{6}\\right)$"
      ],
      "text/plain": [
       "1 + ε**2/2 - ε**4/8 + O(ε**6)"
      ]
     },
     "execution_count": 9,
     "metadata": {},
     "output_type": "execute_result"
    }
   ],
   "source": [
    "expand(f.series(ε, 0, 6))"
   ]
  },
  {
   "cell_type": "code",
   "execution_count": 14,
   "id": "3ffc49f0",
   "metadata": {},
   "outputs": [
    {
     "data": {
      "text/latex": [
       "$\\displaystyle \\frac{1}{2} + \\frac{\\sqrt{3} ε}{2} - \\frac{ε^{2}}{4} - \\frac{\\sqrt{3} ε^{3}}{12} + O\\left(ε^{4}\\right)$"
      ],
      "text/plain": [
       "1/2 + sqrt(3)*ε/2 - ε**2/4 - sqrt(3)*ε**3/12 + O(ε**4)"
      ]
     },
     "execution_count": 14,
     "metadata": {},
     "output_type": "execute_result"
    }
   ],
   "source": [
    "from sympy import sin, cos, pi\n",
    "\n",
    "g = sin( pi / 6 + ε )\n",
    "\n",
    "g.series(ε, 0, 4).expand()"
   ]
  },
  {
   "cell_type": "code",
   "execution_count": 19,
   "id": "9440db24",
   "metadata": {},
   "outputs": [
    {
     "data": {
      "text/latex": [
       "$\\displaystyle - \\frac{ε}{2} - \\frac{ε^{2}}{4} + \\sqrt{ε} + \\frac{ε^{\\frac{3}{2}}}{3} + \\frac{ε^{\\frac{5}{2}}}{5} + O\\left(ε^{3}\\right)$"
      ],
      "text/plain": [
       "-ε/2 - ε**2/4 + sqrt(ε) + ε**(3/2)/3 + ε**(5/2)/5 + O(ε**3)"
      ]
     },
     "execution_count": 19,
     "metadata": {},
     "output_type": "execute_result"
    }
   ],
   "source": [
    "from sympy import ln, exp\n",
    "\n",
    "h = ln(1 + sqrt(ε))\n",
    "\n",
    "h.series(ε, 0, 3).expand()\n"
   ]
  },
  {
   "cell_type": "code",
   "execution_count": 18,
   "id": "412f0567",
   "metadata": {},
   "outputs": [
    {
     "data": {
      "text/latex": [
       "$\\displaystyle \\frac{8}{ε^{6}} + \\frac{2}{ε^{4}} + \\frac{4}{15 ε^{2}} + \\frac{191}{7560} + \\frac{289 ε^{2}}{151200} + O\\left(ε^{3}\\right)$"
      ],
      "text/plain": [
       "8/ε**6 + 2/ε**4 + 4/(15*ε**2) + 191/7560 + 289*ε**2/151200 + O(ε**3)"
      ]
     },
     "execution_count": 18,
     "metadata": {},
     "output_type": "execute_result"
    }
   ],
   "source": [
    "f = 1 / (1 - cos(ε)) ** 3\n",
    "\n",
    "f.series(ε, 0, 3).expand()"
   ]
  },
  {
   "cell_type": "markdown",
   "id": "66853fc7",
   "metadata": {},
   "source": [
    "## Step 1. Import and declare symbols"
   ]
  },
  {
   "cell_type": "code",
   "execution_count": 74,
   "id": "386d17df",
   "metadata": {},
   "outputs": [],
   "source": [
    "import sympy as sp\n",
    "\n",
    "# Declare symbols\n",
    "ε = sp.Symbol(\"ε\", real=True)\n",
    "x0, x1, x2 = sp.symbols(\"x0 x1 x2\", real=True)\n",
    "\n",
    "# Define the expansion\n",
    "x = x0 + ε * x1 + ε**2 * x2\n"
   ]
  },
  {
   "cell_type": "markdown",
   "id": "c45aad4e",
   "metadata": {},
   "source": [
    "## Step 2. Define the equation"
   ]
  },
  {
   "cell_type": "code",
   "execution_count": 76,
   "id": "727fd7cf",
   "metadata": {},
   "outputs": [],
   "source": [
    "eq = x**2 + ε * x - 1\n"
   ]
  },
  {
   "cell_type": "markdown",
   "id": "dde8c4a5",
   "metadata": {},
   "source": [
    "## Step 3. Expand and collect powers of ε"
   ]
  },
  {
   "cell_type": "code",
   "execution_count": 77,
   "id": "604fb883",
   "metadata": {},
   "outputs": [
    {
     "data": {
      "text/latex": [
       "$\\displaystyle x_{0}^{2} + x_{2}^{2} ε^{4} + ε^{3} \\left(2 x_{1} x_{2} + x_{2}\\right) + ε^{2} \\left(2 x_{0} x_{2} + x_{1}^{2} + x_{1}\\right) + ε \\left(2 x_{0} x_{1} + x_{0}\\right) - 1$"
      ],
      "text/plain": [
       "x0**2 + x2**2*ε**4 + ε**3*(2*x1*x2 + x2) + ε**2*(2*x0*x2 + x1**2 + x1) + ε*(2*x0*x1 + x0) - 1"
      ]
     },
     "execution_count": 77,
     "metadata": {},
     "output_type": "execute_result"
    }
   ],
   "source": [
    "expanded_eq = sp.expand(eq)\n",
    "collected_eq = sp.collect(expanded_eq, ε)\n",
    "collected_eq\n"
   ]
  },
  {
   "cell_type": "markdown",
   "id": "7939e126",
   "metadata": {},
   "source": [
    "## Step 4. Extract coefficients of ε⁰, ε¹, ε²"
   ]
  },
  {
   "cell_type": "code",
   "execution_count": 78,
   "id": "25c91d7c",
   "metadata": {},
   "outputs": [],
   "source": [
    "eq0 = sp.simplify(collected_eq.coeff(ε, 0))  # O(1)\n",
    "eq1 = sp.simplify(collected_eq.coeff(ε, 1))  # O(ε)\n",
    "eq2 = sp.simplify(collected_eq.coeff(ε, 2))  # O(ε²)\n"
   ]
  },
  {
   "cell_type": "code",
   "execution_count": 79,
   "id": "e23e4009",
   "metadata": {},
   "outputs": [
    {
     "data": {
      "text/latex": [
       "$\\displaystyle x_{0}^{2} - 1$"
      ],
      "text/plain": [
       "x0**2 - 1"
      ]
     },
     "execution_count": 79,
     "metadata": {},
     "output_type": "execute_result"
    }
   ],
   "source": [
    "eq0"
   ]
  },
  {
   "cell_type": "code",
   "execution_count": 80,
   "id": "c4af5cc1",
   "metadata": {},
   "outputs": [
    {
     "data": {
      "text/latex": [
       "$\\displaystyle x_{0} \\left(2 x_{1} + 1\\right)$"
      ],
      "text/plain": [
       "x0*(2*x1 + 1)"
      ]
     },
     "execution_count": 80,
     "metadata": {},
     "output_type": "execute_result"
    }
   ],
   "source": [
    "eq1"
   ]
  },
  {
   "cell_type": "code",
   "execution_count": 81,
   "id": "90a71fbb",
   "metadata": {},
   "outputs": [
    {
     "data": {
      "text/latex": [
       "$\\displaystyle 2 x_{0} x_{2} + x_{1}^{2} + x_{1}$"
      ],
      "text/plain": [
       "2*x0*x2 + x1**2 + x1"
      ]
     },
     "execution_count": 81,
     "metadata": {},
     "output_type": "execute_result"
    }
   ],
   "source": [
    "eq2"
   ]
  },
  {
   "cell_type": "markdown",
   "id": "0fb5c4a1",
   "metadata": {},
   "source": [
    "## Step 5. Solve order by order"
   ]
  },
  {
   "cell_type": "code",
   "execution_count": 82,
   "id": "a67786d3",
   "metadata": {},
   "outputs": [
    {
     "data": {
      "text/plain": [
       "[-1, 1]"
      ]
     },
     "execution_count": 82,
     "metadata": {},
     "output_type": "execute_result"
    }
   ],
   "source": [
    "x0_sol = sp.solve(eq0, x0)\n",
    "x0_sol\n"
   ]
  },
  {
   "cell_type": "code",
   "execution_count": 83,
   "id": "e907d13c",
   "metadata": {},
   "outputs": [
    {
     "data": {
      "text/plain": [
       "[-1/2]"
      ]
     },
     "execution_count": 83,
     "metadata": {},
     "output_type": "execute_result"
    }
   ],
   "source": [
    "eq1_sub = eq1.subs(x0, 1)\n",
    "x1_sol = sp.solve(eq1_sub, x1)\n",
    "x1_sol\n"
   ]
  },
  {
   "cell_type": "code",
   "execution_count": 85,
   "id": "836398b8",
   "metadata": {},
   "outputs": [
    {
     "data": {
      "text/plain": [
       "[0.125000000000000]"
      ]
     },
     "execution_count": 85,
     "metadata": {},
     "output_type": "execute_result"
    }
   ],
   "source": [
    "eq2_sub = eq2.subs({x0: 1, x1: -1/2})\n",
    "x2_sol = sp.solve(eq2_sub, x2)\n",
    "x2_sol\n"
   ]
  },
  {
   "cell_type": "code",
   "execution_count": 87,
   "id": "f3cbb91e",
   "metadata": {},
   "outputs": [
    {
     "data": {
      "text/latex": [
       "$\\displaystyle 0.125 ε^{2} - \\frac{ε}{2} - 1$"
      ],
      "text/plain": [
       "0.125*ε**2 - ε/2 - 1"
      ]
     },
     "execution_count": 87,
     "metadata": {},
     "output_type": "execute_result"
    }
   ],
   "source": [
    "x_approx = x0_sol[0] + ε * x1_sol[0] + ε**2 * x2_sol[0]\n",
    "x_approx"
   ]
  },
  {
   "cell_type": "markdown",
   "id": "6856087c",
   "metadata": {},
   "source": [
    "## example 1"
   ]
  },
  {
   "cell_type": "code",
   "execution_count": 102,
   "id": "d1e63833",
   "metadata": {},
   "outputs": [],
   "source": [
    "import sympy as sp\n",
    "\n",
    "# Declare symbols\n",
    "ε = sp.Symbol(\"ε\", real=True)\n",
    "x0, x1= sp.symbols(\"x0 x1\", real=True)\n",
    "\n",
    "# Define the expansion\n",
    "x = x0 + ε * x1\n",
    "\n",
    "eq = x**3 - ε * exp(-x) + 8\n",
    "\n",
    "expanded_eq = sp.expand(eq)\n",
    "collected_eq = sp.collect(expanded_eq, ε)\n",
    "collected_eq\n",
    "\n",
    "eq0 = sp.simplify(collected_eq.coeff(ε, 0))  # O(1)\n",
    "eq1 = sp.simplify(collected_eq.coeff(ε, 1))  # O(ε)"
   ]
  },
  {
   "cell_type": "code",
   "execution_count": 103,
   "id": "aaa3d913",
   "metadata": {},
   "outputs": [
    {
     "data": {
      "text/plain": [
       "[-2]"
      ]
     },
     "execution_count": 103,
     "metadata": {},
     "output_type": "execute_result"
    }
   ],
   "source": [
    "x0_sol = sp.solve(eq0, x0)\n",
    "x0_sol"
   ]
  },
  {
   "cell_type": "code",
   "execution_count": 104,
   "id": "3cbe821a",
   "metadata": {},
   "outputs": [
    {
     "data": {
      "text/plain": [
       "[LambertW(ε*exp(2)/12)/ε]"
      ]
     },
     "execution_count": 104,
     "metadata": {},
     "output_type": "execute_result"
    }
   ],
   "source": [
    "eq1_sub = eq1.subs(x0, -2)\n",
    "x1_sol = sp.solve(eq1_sub, x1)\n",
    "x1_sol\n"
   ]
  },
  {
   "cell_type": "code",
   "execution_count": null,
   "id": "3c7c3ab1",
   "metadata": {},
   "outputs": [
    {
     "data": {
      "text/latex": [
       "$\\displaystyle W\\left(\\frac{ε e^{2}}{12}\\right) - 2$"
      ],
      "text/plain": [
       "LambertW(ε*exp(2)/12) - 2"
      ]
     },
     "execution_count": 105,
     "metadata": {},
     "output_type": "execute_result"
    }
   ],
   "source": [
    "x_approx = x0_sol[0] + ε * x1_sol[0]\n",
    "x_approx\n",
    "\n",
    "# LambertW approximate to simple y = x when ε is small"
   ]
  },
  {
   "cell_type": "markdown",
   "id": "567965bb",
   "metadata": {},
   "source": [
    "## example 2"
   ]
  },
  {
   "cell_type": "code",
   "execution_count": 120,
   "id": "f80e1e94",
   "metadata": {},
   "outputs": [
    {
     "data": {
      "text/latex": [
       "$\\displaystyle - ε + x ε - \\frac{x^{2} ε}{2} + x^{3} + \\frac{x^{3} ε}{6} - \\frac{x^{4} ε}{24} + O\\left(x^{5}\\right)$"
      ],
      "text/plain": [
       "-ε + x*ε - x**2*ε/2 + x**3 + x**3*ε/6 - x**4*ε/24 + O(x**5)"
      ]
     },
     "execution_count": 120,
     "metadata": {},
     "output_type": "execute_result"
    }
   ],
   "source": [
    "x = symbols(\"x\")\n",
    "eq = x**3 - ε * exp(-x)\n",
    "eq.series(x, 0, 5).expand()"
   ]
  },
  {
   "cell_type": "code",
   "execution_count": 114,
   "id": "c2e808a2",
   "metadata": {},
   "outputs": [],
   "source": [
    "import sympy as sp\n",
    "\n",
    "# Declare symbols\n",
    "ε = sp.Symbol(\"ε\", real=True)\n",
    "x0, x2 = sp.symbols(\"x0 x2\", real=True)\n",
    "\n",
    "# Define the expansion\n",
    "x = x0 + ε**2 * x2\n",
    "\n",
    "eq = x**3 - ε * exp(-x)\n",
    "\n",
    "expanded_eq = sp.expand(eq)\n",
    "collected_eq = sp.collect(expanded_eq, ε)\n",
    "collected_eq\n",
    "\n",
    "eq0 = sp.simplify(collected_eq.coeff(ε, 0))  # O(1)\n",
    "# eq1 = sp.simplify(collected_eq.coeff(ε, 1))  # O(ε)\n",
    "eq2 = sp.simplify(collected_eq.coeff(ε, 2))  # O(ε²)\n"
   ]
  },
  {
   "cell_type": "code",
   "execution_count": 115,
   "id": "2d046842",
   "metadata": {},
   "outputs": [
    {
     "data": {
      "text/plain": [
       "[0]"
      ]
     },
     "execution_count": 115,
     "metadata": {},
     "output_type": "execute_result"
    }
   ],
   "source": [
    "x0_sol = sp.solve(eq0, x0)\n",
    "x0_sol"
   ]
  },
  {
   "cell_type": "code",
   "execution_count": 116,
   "id": "4e78e22d",
   "metadata": {},
   "outputs": [
    {
     "data": {
      "text/plain": [
       "[]"
      ]
     },
     "execution_count": 116,
     "metadata": {},
     "output_type": "execute_result"
    }
   ],
   "source": [
    "eq2_sub = eq1.subs(x0, 0)\n",
    "x2_sol = sp.solve(eq2_sub, x2)\n",
    "x2_sol"
   ]
  },
  {
   "cell_type": "code",
   "execution_count": null,
   "id": "91bfeb47",
   "metadata": {},
   "outputs": [],
   "source": []
  }
 ],
 "metadata": {
  "kernelspec": {
   "display_name": "sage-env",
   "language": "python",
   "name": "python3"
  },
  "language_info": {
   "codemirror_mode": {
    "name": "ipython",
    "version": 3
   },
   "file_extension": ".py",
   "mimetype": "text/x-python",
   "name": "python",
   "nbconvert_exporter": "python",
   "pygments_lexer": "ipython3",
   "version": "3.12.12"
  }
 },
 "nbformat": 4,
 "nbformat_minor": 5
}
