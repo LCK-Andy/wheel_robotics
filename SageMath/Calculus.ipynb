{
 "cells": [
  {
   "cell_type": "code",
   "execution_count": 3,
   "id": "2787249d",
   "metadata": {},
   "outputs": [],
   "source": [
    "from sage.all import var, diff, integrate, lim"
   ]
  },
  {
   "cell_type": "code",
   "execution_count": 4,
   "id": "f5f2345f",
   "metadata": {},
   "outputs": [],
   "source": [
    "x = var('x')\n",
    "f  = (x ** 2 - 1) / (x - 1)"
   ]
  },
  {
   "cell_type": "code",
   "execution_count": 5,
   "id": "65229550",
   "metadata": {},
   "outputs": [],
   "source": [
    "# f.subs(x=1)  # undefined at x=1"
   ]
  },
  {
   "cell_type": "code",
   "execution_count": 6,
   "id": "7f51f500",
   "metadata": {},
   "outputs": [
    {
     "data": {
      "text/plain": [
       "2"
      ]
     },
     "execution_count": 6,
     "metadata": {},
     "output_type": "execute_result"
    }
   ],
   "source": [
    "# limit \n",
    "lim(f, x=1, dir='+')\n",
    "lim(f, x=1, dir=\"right\")"
   ]
  },
  {
   "cell_type": "code",
   "execution_count": 7,
   "id": "7990eb58",
   "metadata": {},
   "outputs": [
    {
     "data": {
      "text/plain": [
       "2*x/(x - 1) - (x^2 - 1)/(x - 1)^2"
      ]
     },
     "execution_count": 7,
     "metadata": {},
     "output_type": "execute_result"
    }
   ],
   "source": [
    "diff(f, x)  # derivative"
   ]
  },
  {
   "cell_type": "code",
   "execution_count": 8,
   "id": "950a8eac",
   "metadata": {},
   "outputs": [
    {
     "data": {
      "text/plain": [
       "1/2*x^2 + x"
      ]
     },
     "execution_count": 8,
     "metadata": {},
     "output_type": "execute_result"
    }
   ],
   "source": [
    "integrate(f, x)  # indefinite integral"
   ]
  },
  {
   "cell_type": "markdown",
   "id": "01039c29",
   "metadata": {},
   "source": [
    "## Calculus 2"
   ]
  },
  {
   "cell_type": "code",
   "execution_count": 9,
   "id": "03d9ba12",
   "metadata": {},
   "outputs": [],
   "source": [
    "from sage.all import sec, integral, Integer, exp, oo"
   ]
  },
  {
   "cell_type": "code",
   "execution_count": 10,
   "id": "f6b77a83",
   "metadata": {},
   "outputs": [
    {
     "data": {
      "text/plain": [
       "log(sec(x) + tan(x))"
      ]
     },
     "execution_count": 10,
     "metadata": {},
     "output_type": "execute_result"
    }
   ],
   "source": [
    "h = sec(x)\n",
    "h.integrate(x)"
   ]
  },
  {
   "cell_type": "code",
   "execution_count": 11,
   "id": "4d246817",
   "metadata": {},
   "outputs": [
    {
     "data": {
      "text/plain": [
       "1/5*arctan(x)"
      ]
     },
     "execution_count": 11,
     "metadata": {},
     "output_type": "execute_result"
    }
   ],
   "source": [
    "g = 1 / (x**10 + 1)\n",
    "g.integral(x)  # indefinite integral"
   ]
  },
  {
   "cell_type": "code",
   "execution_count": 12,
   "id": "bf63d95a",
   "metadata": {},
   "outputs": [
    {
     "data": {
      "text/plain": [
       "1/5*arctan(x) - 1/5*integrate((x^6 - 2*x^4 + 3*x^2 - 4)/(x^8 - x^6 + x^4 - x^2 + 1), x)"
      ]
     },
     "execution_count": 12,
     "metadata": {},
     "output_type": "execute_result"
    }
   ],
   "source": [
    "integral(Integer(1) / (Integer(1) + x ** Integer(10)), x, algorithm=\"maxima\")"
   ]
  },
  {
   "cell_type": "code",
   "execution_count": 13,
   "id": "1fa6f6c8",
   "metadata": {},
   "outputs": [
    {
     "data": {
      "text/plain": [
       "1/2*sqrt(pi)*erf(x)"
      ]
     },
     "execution_count": 13,
     "metadata": {},
     "output_type": "execute_result"
    }
   ],
   "source": [
    "# special functions\n",
    "f = exp(-x ** 2)\n",
    "f.integrate(x)  # definite integral over the whole real line"
   ]
  },
  {
   "cell_type": "code",
   "execution_count": 14,
   "id": "6d22c40c",
   "metadata": {},
   "outputs": [
    {
     "name": "stdout",
     "output_type": "stream",
     "text": [
      "\u001b[0;31mType:\u001b[0m            LazyImport\n",
      "\u001b[0;31mString form:\u001b[0m     erf\n",
      "\u001b[0;31mFile:\u001b[0m            ~/anaconda3/envs/sage-env/lib/python3.12/site-packages/sage/misc/lazy_import.cpython-312-x86_64-linux-gnu.so\n",
      "\u001b[0;31mDocstring:\u001b[0m      \n",
      "The error function.\n",
      "\n",
      "The error function is defined for real values as\n",
      "\n",
      ".. MATH::\n",
      "\n",
      "    \\operatorname{erf}(x) = \\frac{2}{\\sqrt{\\pi}} \\int_0^x e^{-t^2} dt.\n",
      "\n",
      "This function is also defined for complex values, via analytic\n",
      "continuation.\n",
      "\n",
      "EXAMPLES:\n",
      "\n",
      "We can evaluate numerically::\n",
      "\n",
      "    sage: erf(2)                                                                    # needs sage.symbolic\n",
      "    erf(2)\n",
      "    sage: erf(2).n()                                                                # needs sage.symbolic\n",
      "    0.995322265018953\n",
      "    sage: erf(2).n(100)                                                             # needs sage.symbolic\n",
      "    0.99532226501895273416206925637\n",
      "    sage: erf(ComplexField(100)(2+3j))                                              # needs sage.rings.real_mpfr\n",
      "    -20.829461427614568389103088452 + 8.6873182714701631444280787545*I\n",
      "\n",
      "Basic symbolic properties are handled by Sage and Maxima::\n",
      "\n",
      "    sage: x = var(\"x\")                                                              # needs sage.symbolic\n",
      "    sage: diff(erf(x),x)                                                            # needs sage.symbolic\n",
      "    2*e^(-x^2)/sqrt(pi)\n",
      "    sage: integrate(erf(x),x)                                                       # needs sage.symbolic\n",
      "    x*erf(x) + e^(-x^2)/sqrt(pi)\n",
      "\n",
      "ALGORITHM:\n",
      "\n",
      "Sage implements numerical evaluation of the error function via the\n",
      "``erf()`` function from mpmath. Symbolics are handled by Sage and Maxima.\n",
      "\n",
      "REFERENCES:\n",
      "\n",
      "- :wikipedia:`Error_function`\n",
      "- http://mpmath.googlecode.com/svn/trunk/doc/build/functions/expintegrals.html#error-functions\n",
      "\n",
      "TESTS:\n",
      "\n",
      "Check limits::\n",
      "\n",
      "    sage: limit(erf(x), x=0)                                                        # needs sage.symbolic\n",
      "    0\n",
      "    sage: limit(erf(x), x=infinity)                                                 # needs sage.symbolic\n",
      "    1\n",
      "\n",
      " Check that it's odd::\n",
      "\n",
      "     sage: erf(1.0)                                                                 # needs mpmath\n",
      "     0.842700792949715\n",
      "     sage: erf(-1.0)                                                                # needs mpmath\n",
      "     -0.842700792949715\n",
      "\n",
      "Check against other implementations and against the definition::\n",
      "\n",
      "    sage: erf(3).n()                                                                # needs sage.symbolic\n",
      "    0.999977909503001\n",
      "    sage: maxima.erf(3).n()                                                         # needs sage.symbolic\n",
      "    0.999977909503001\n",
      "    sage: 1 - pari(3).erfc()                                                        # needs sage.libs.pari\n",
      "    0.999977909503001\n",
      "    sage: RR(3).erf()                                                               # needs sage.rings.real_mpfr\n",
      "    0.999977909503001\n",
      "    sage: (integrate(exp(-x**2), (x,0,3))*2/sqrt(pi)).n()                           # needs sage.symbolic\n",
      "    0.999977909503001\n",
      "\n",
      ":issue:`9044`::\n",
      "\n",
      "    sage: N(erf(sqrt(2)),200)                                                       # needs sage.symbolic\n",
      "    0.95449973610364158559943472566693312505644755259664313203267\n",
      "\n",
      ":issue:`11626`::\n",
      "\n",
      "    sage: n(erf(2),100)                                                             # needs sage.symbolic\n",
      "    0.99532226501895273416206925637\n",
      "    sage: erf(2).n(100)                                                             # needs sage.symbolic\n",
      "    0.99532226501895273416206925637\n",
      "\n",
      "Test (indirectly) :issue:`11885`::\n",
      "\n",
      "    sage: erf(float(0.5))\n",
      "    0.5204998778130465\n",
      "    sage: erf(complex(0.5))                                                         # needs sage.rings.complex_double\n",
      "    (0.5204998778130465+0j)\n",
      "\n",
      "Ensure conversion from maxima elements works::\n",
      "\n",
      "    sage: merf = maxima(erf(x)).sage().operator()                                   # needs sage.symbolic\n",
      "    sage: merf.parent() == erf.parent()                                             # needs sage.symbolic\n",
      "    True\n",
      "\n",
      "Make sure we can dump and load it::\n",
      "\n",
      "    sage: loads(dumps(erf(2)))                                                      # needs sage.symbolic\n",
      "    erf(2)\n",
      "\n",
      "Special-case 0 for immediate evaluation::\n",
      "\n",
      "    sage: erf(0)                                                                    # needs mpmath\n",
      "    0\n",
      "    sage: solve(erf(x)==0, x)                                                       # needs sage.symbolic\n",
      "    [x == 0]\n",
      "\n",
      "Make sure that we can hold::\n",
      "\n",
      "    sage: erf(0, hold=True)                                                         # needs sage.symbolic\n",
      "    erf(0)\n",
      "    sage: simplify(erf(0, hold=True))                                               # needs sage.symbolic\n",
      "    0\n",
      "\n",
      "Check that high-precision ComplexField inputs work::\n",
      "\n",
      "    sage: CC(erf(ComplexField(1000)(2+3j)))                                         # needs sage.rings.real_mpfr\n",
      "    -20.8294614276146 + 8.68731827147016*I\n",
      "\u001b[0;31mClass docstring:\u001b[0m\n",
      "LazyImport(module, name, as_name=None, at_startup=False, namespace=None, deprecation=None, feature=None)\n",
      "File: sage/misc/lazy_import.pyx (starting at line 171)\n",
      "\n",
      "    EXAMPLES::\n",
      "\n",
      "        sage: from sage.misc.lazy_import import LazyImport\n",
      "        sage: my_integer = LazyImport('sage.rings.integer', 'Integer')\n",
      "        sage: my_integer(4)\n",
      "        4\n",
      "        sage: my_integer('101', base=2)\n",
      "        5\n",
      "        sage: my_integer(3/2)\n",
      "        Traceback (most recent call last):\n",
      "        ...\n",
      "        TypeError: no conversion of this rational to integer\n",
      "    \n",
      "\u001b[0;31mInit docstring:\u001b[0m \n",
      "File: sage/misc/lazy_import.pyx (starting at line 186)\n",
      "\n",
      "EXAMPLES::\n",
      "\n",
      "    sage: from sage.misc.lazy_import import LazyImport\n",
      "    sage: lazy_ZZ = LazyImport('sage.rings.integer_ring', 'ZZ')\n",
      "    sage: type(lazy_ZZ)\n",
      "    <class 'sage.misc.lazy_import.LazyImport'>\n",
      "    sage: lazy_ZZ._get_object() is ZZ\n",
      "    True\n",
      "    sage: type(lazy_ZZ)\n",
      "    <class 'sage.misc.lazy_import.LazyImport'>\n",
      "\u001b[0;31mCall docstring:\u001b[0m \n",
      "File: sage/misc/lazy_import.pyx (starting at line 384)\n",
      "\n",
      "Calling ``self`` calls the wrapped object.\n",
      "\n",
      "EXAMPLES::\n",
      "\n",
      "    sage: from sage.misc.lazy_import import LazyImport\n",
      "    sage: my_isprime = LazyImport('sage.arith.misc', 'is_prime')\n",
      "    sage: is_prime(12) == my_isprime(12)\n",
      "    True\n",
      "    sage: is_prime(13) == my_isprime(13)\n",
      "    True"
     ]
    }
   ],
   "source": [
    "from sage.all import erf\n",
    "erf?"
   ]
  },
  {
   "cell_type": "code",
   "execution_count": 15,
   "id": "4497f349",
   "metadata": {},
   "outputs": [
    {
     "data": {
      "text/plain": [
       "1"
      ]
     },
     "execution_count": 15,
     "metadata": {},
     "output_type": "execute_result"
    }
   ],
   "source": [
    "# finite integral\n",
    "from sage.all import cos, pi\n",
    "f = cos(x)\n",
    "f.integral(x, 0, pi/2)  # definite integral from 0 to pi/2"
   ]
  },
  {
   "cell_type": "code",
   "execution_count": 16,
   "id": "c7493c53",
   "metadata": {},
   "outputs": [
    {
     "data": {
      "text/plain": [
       "-sin(a) + sin(b)"
      ]
     },
     "execution_count": 16,
     "metadata": {},
     "output_type": "execute_result"
    }
   ],
   "source": [
    "# finite integral with parameter bound \n",
    "a, b = var('a b')\n",
    "f.integral(x, a, b)  # definite integral from a to b\n"
   ]
  },
  {
   "cell_type": "code",
   "execution_count": 17,
   "id": "84434547",
   "metadata": {},
   "outputs": [
    {
     "data": {
      "text/plain": [
       "0.707106781186548"
      ]
     },
     "execution_count": 17,
     "metadata": {},
     "output_type": "execute_result"
    }
   ],
   "source": [
    "# numerical integral \n",
    "a = 0\n",
    "b = pi / 4\n",
    "f.integral(x, a, b).n()  # numerical approximation"
   ]
  },
  {
   "cell_type": "code",
   "execution_count": 18,
   "id": "013d7f99",
   "metadata": {},
   "outputs": [
    {
     "data": {
      "text/plain": [
       "3/2"
      ]
     },
     "execution_count": 18,
     "metadata": {},
     "output_type": "execute_result"
    }
   ],
   "source": [
    "# summation \n",
    "from sage.all import sum\n",
    "n = var('n')\n",
    "\n",
    "T = 1 / 3 ** n\n",
    "S = sum(T, n, 0, oo)\n",
    "S"
   ]
  },
  {
   "cell_type": "code",
   "execution_count": 19,
   "id": "ce4ef760",
   "metadata": {},
   "outputs": [
    {
     "data": {
      "text/plain": [
       "2^n"
      ]
     },
     "execution_count": 19,
     "metadata": {},
     "output_type": "execute_result"
    }
   ],
   "source": [
    "# pascal's triangle \n",
    "from sage.all import binomial\n",
    "k = var('k')\n",
    "n = var('n')\n",
    "\n",
    "T = binomial(n, k)\n",
    "\n",
    "S = sum(T, k, 0, n)\n",
    "S"
   ]
  },
  {
   "cell_type": "code",
   "execution_count": 20,
   "id": "dc621155",
   "metadata": {},
   "outputs": [
    {
     "data": {
      "text/plain": [
       "1/120*x^5 + 1/24*x^4 + 1/6*x^3 + 1/2*x^2 + x + 1"
      ]
     },
     "execution_count": 20,
     "metadata": {},
     "output_type": "execute_result"
    }
   ],
   "source": [
    "# Taylor Series \n",
    "f = exp(x)\n",
    "f.taylor(x, 0, 5)  # Taylor series expansion at x="
   ]
  },
  {
   "cell_type": "markdown",
   "id": "9b438ec4",
   "metadata": {},
   "source": [
    "## Calculus 3"
   ]
  },
  {
   "cell_type": "code",
   "execution_count": 21,
   "id": "e0a98a41",
   "metadata": {},
   "outputs": [],
   "source": [
    "from sage.all import sin, cos\n",
    "x, y = var('x y')\n",
    "f = 3 * sin(x) - 2 * cos(y) - x * y"
   ]
  },
  {
   "cell_type": "code",
   "execution_count": 22,
   "id": "01c7cb50",
   "metadata": {},
   "outputs": [
    {
     "data": {
      "text/plain": [
       "(-y + 3*cos(x), -x + 2*sin(y))"
      ]
     },
     "execution_count": 22,
     "metadata": {},
     "output_type": "execute_result"
    }
   ],
   "source": [
    "f.gradient()  # gradient vector"
   ]
  },
  {
   "cell_type": "code",
   "execution_count": 23,
   "id": "01dbd874",
   "metadata": {},
   "outputs": [
    {
     "data": {
      "text/plain": [
       "[-3*sin(x)        -1]\n",
       "[       -1  2*cos(y)]"
      ]
     },
     "execution_count": 23,
     "metadata": {},
     "output_type": "execute_result"
    }
   ],
   "source": [
    "f.hessian()  # Hessian matrix"
   ]
  },
  {
   "cell_type": "code",
   "execution_count": 24,
   "id": "334cc9ba",
   "metadata": {},
   "outputs": [
    {
     "data": {
      "text/plain": [
       "-1"
      ]
     },
     "execution_count": 24,
     "metadata": {},
     "output_type": "execute_result"
    }
   ],
   "source": [
    "f.diff(y , y) # second partial derivative with respect to y\n",
    "f.diff(x , y) # mixed partial derivative with respect to x and y\n",
    "diff(f, x, 2)  # second partial derivative with respect to x\n",
    "diff(f, y, x)  # second partial derivative with respect to y and x"
   ]
  },
  {
   "cell_type": "code",
   "execution_count": 25,
   "id": "48166480",
   "metadata": {},
   "outputs": [],
   "source": [
    "from sage.all import show "
   ]
  },
  {
   "cell_type": "code",
   "execution_count": 27,
   "id": "6f50f213",
   "metadata": {},
   "outputs": [
    {
     "data": {
      "text/plain": [
       "-6*cos(y)*sin(x) - 1"
      ]
     },
     "execution_count": 27,
     "metadata": {},
     "output_type": "execute_result"
    }
   ],
   "source": [
    "# finding critical points with Hessian \n",
    "H = f.hessian()\n",
    "H.det()"
   ]
  },
  {
   "cell_type": "code",
   "execution_count": 32,
   "id": "6bbaa524",
   "metadata": {},
   "outputs": [
    {
     "data": {
      "text/plain": [
       "6*pi - 1/4*pi^4"
      ]
     },
     "execution_count": 32,
     "metadata": {},
     "output_type": "execute_result"
    }
   ],
   "source": [
    "## double integration \n",
    "integrate(integrate(f, x, 0, pi), y, 0, pi)  # double integral over the unit square"
   ]
  },
  {
   "cell_type": "code",
   "execution_count": 33,
   "id": "d1431d0d",
   "metadata": {},
   "outputs": [
    {
     "data": {
      "text/plain": [
       "6*pi - 1/4*pi^4"
      ]
     },
     "execution_count": 33,
     "metadata": {},
     "output_type": "execute_result"
    }
   ],
   "source": [
    "integrate(integrate(f, y, 0, pi), x, 0, pi)  # double integral over the unit square\n"
   ]
  },
  {
   "cell_type": "code",
   "execution_count": null,
   "id": "911a33e2",
   "metadata": {},
   "outputs": [],
   "source": []
  }
 ],
 "metadata": {
  "kernelspec": {
   "display_name": "sage-env",
   "language": "python",
   "name": "python3"
  },
  "language_info": {
   "codemirror_mode": {
    "name": "ipython",
    "version": 3
   },
   "file_extension": ".py",
   "mimetype": "text/x-python",
   "name": "python",
   "nbconvert_exporter": "python",
   "pygments_lexer": "ipython3",
   "version": "3.12.12"
  }
 },
 "nbformat": 4,
 "nbformat_minor": 5
}
