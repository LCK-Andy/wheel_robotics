{
 "cells": [
  {
   "cell_type": "markdown",
   "id": "f8fe48c2",
   "metadata": {},
   "source": [
    "## gradient, a divergence or a curl"
   ]
  },
  {
   "cell_type": "code",
   "execution_count": 31,
   "id": "66fa88a1",
   "metadata": {},
   "outputs": [],
   "source": [
    "from sage.all import EuclideanSpace, Integer, sin, RealNumber"
   ]
  },
  {
   "cell_type": "markdown",
   "id": "c16be6ff",
   "metadata": {},
   "source": [
    "### Euclidean 3-space"
   ]
  },
  {
   "cell_type": "code",
   "execution_count": 8,
   "id": "6b7810fd",
   "metadata": {},
   "outputs": [],
   "source": [
    "E = EuclideanSpace(names=(\"x\",\"y\",\"z\"))\n",
    "(x,y,z) = E._first_ngens(3)\n"
   ]
  },
  {
   "cell_type": "code",
   "execution_count": 9,
   "id": "5d9ee46f",
   "metadata": {},
   "outputs": [
    {
     "data": {
      "text/plain": [
       "Euclidean space E^3"
      ]
     },
     "execution_count": 9,
     "metadata": {},
     "output_type": "execute_result"
    }
   ],
   "source": [
    "E"
   ]
  },
  {
   "cell_type": "code",
   "execution_count": 14,
   "id": "5335c781",
   "metadata": {},
   "outputs": [
    {
     "data": {
      "text/plain": [
       "[Coordinate frame (E^3, (e_x,e_y,e_z))]"
      ]
     },
     "execution_count": 14,
     "metadata": {},
     "output_type": "execute_result"
    }
   ],
   "source": [
    "E.frames()\n"
   ]
  },
  {
   "cell_type": "code",
   "execution_count": 17,
   "id": "40d7eb0e",
   "metadata": {},
   "outputs": [
    {
     "data": {
      "text/plain": [
       "Coordinate frame (E^3, (e_x,e_y,e_z))"
      ]
     },
     "execution_count": 17,
     "metadata": {},
     "output_type": "execute_result"
    }
   ],
   "source": [
    "E.default_frame()\n",
    "E.default_frame()"
   ]
  },
  {
   "cell_type": "code",
   "execution_count": 20,
   "id": "4c021243",
   "metadata": {},
   "outputs": [
    {
     "data": {
      "text/plain": [
       "v = -y e_x + x e_y + sin(x*y*z) e_z"
      ]
     },
     "execution_count": 20,
     "metadata": {},
     "output_type": "execute_result"
    }
   ],
   "source": [
    "## vector field \n",
    "v = E.vector_field(-y, x, sin(x * y * z), name=\"v\")\n",
    "v.display()"
   ]
  },
  {
   "cell_type": "code",
   "execution_count": 25,
   "id": "4b1699bc",
   "metadata": {},
   "outputs": [
    {
     "data": {
      "text/plain": [
       "sin(x*y*z)"
      ]
     },
     "execution_count": 25,
     "metadata": {},
     "output_type": "execute_result"
    }
   ],
   "source": [
    "v[3]"
   ]
  },
  {
   "cell_type": "code",
   "execution_count": 28,
   "id": "a69ad63c",
   "metadata": {},
   "outputs": [
    {
     "data": {
      "text/plain": [
       "(1, 2, 3)"
      ]
     },
     "execution_count": 28,
     "metadata": {},
     "output_type": "execute_result"
    }
   ],
   "source": [
    "# evaluate a point in the vector field\n",
    "p = E((1, 2, 3))\n",
    "p.coordinates()"
   ]
  },
  {
   "cell_type": "code",
   "execution_count": 30,
   "id": "dcf271f7",
   "metadata": {},
   "outputs": [
    {
     "data": {
      "text/plain": [
       "v = -2 e_x + e_y + sin(6) e_z"
      ]
     },
     "execution_count": 30,
     "metadata": {},
     "output_type": "execute_result"
    }
   ],
   "source": [
    "v_p = v.at(p)\n",
    "v_p.display()"
   ]
  },
  {
   "cell_type": "code",
   "execution_count": 35,
   "id": "9dfadd16",
   "metadata": {},
   "outputs": [
    {
     "data": {
      "text/plain": [
       "Graphics3d Object"
      ]
     },
     "execution_count": 35,
     "metadata": {},
     "output_type": "execute_result"
    }
   ],
   "source": [
    "v.plot(max_range=RealNumber(\"1.5\"), scale=RealNumber(\"0.5\"))"
   ]
  }
 ],
 "metadata": {
  "kernelspec": {
   "display_name": "sage-env",
   "language": "python",
   "name": "python3"
  },
  "language_info": {
   "codemirror_mode": {
    "name": "ipython",
    "version": 3
   },
   "file_extension": ".py",
   "mimetype": "text/x-python",
   "name": "python",
   "nbconvert_exporter": "python",
   "pygments_lexer": "ipython3",
   "version": "3.12.12"
  }
 },
 "nbformat": 4,
 "nbformat_minor": 5
}
