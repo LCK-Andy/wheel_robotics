{
 "cells": [
  {
   "cell_type": "markdown",
   "id": "f7c5c3c1",
   "metadata": {},
   "source": [
    "## Assignment, Equality, and Arithmetic"
   ]
  },
  {
   "cell_type": "code",
   "execution_count": 41,
   "id": "9dfbd859",
   "metadata": {},
   "outputs": [
    {
     "data": {
      "text/plain": [
       "5"
      ]
     },
     "execution_count": 41,
     "metadata": {},
     "output_type": "execute_result"
    }
   ],
   "source": [
    "from sage.all import Integer\n",
    "\n",
    "a = Integer(5)\n",
    "a"
   ]
  },
  {
   "cell_type": "code",
   "execution_count": 42,
   "id": "11fbdbdc",
   "metadata": {},
   "outputs": [
    {
     "data": {
      "text/plain": [
       "True"
      ]
     },
     "execution_count": 42,
     "metadata": {},
     "output_type": "execute_result"
    }
   ],
   "source": [
    "Integer(2) == Integer(2)"
   ]
  },
  {
   "cell_type": "code",
   "execution_count": 43,
   "id": "28b5b751",
   "metadata": {},
   "outputs": [
    {
     "data": {
      "text/plain": [
       "False"
      ]
     },
     "execution_count": 43,
     "metadata": {},
     "output_type": "execute_result"
    }
   ],
   "source": [
    "Integer(2) == Integer(3)\n"
   ]
  },
  {
   "cell_type": "code",
   "execution_count": 44,
   "id": "35431f97",
   "metadata": {},
   "outputs": [
    {
     "data": {
      "text/plain": [
       "True"
      ]
     },
     "execution_count": 44,
     "metadata": {},
     "output_type": "execute_result"
    }
   ],
   "source": [
    "Integer(2) < Integer(3)"
   ]
  },
  {
   "cell_type": "code",
   "execution_count": 45,
   "id": "d8020bd5",
   "metadata": {},
   "outputs": [
    {
     "data": {
      "text/plain": [
       "False"
      ]
     },
     "execution_count": 45,
     "metadata": {},
     "output_type": "execute_result"
    }
   ],
   "source": [
    "Integer(2) >= Integer(3)\n"
   ]
  },
  {
   "cell_type": "code",
   "execution_count": 46,
   "id": "b87a9412",
   "metadata": {},
   "outputs": [
    {
     "data": {
      "text/plain": [
       "2"
      ]
     },
     "execution_count": 46,
     "metadata": {},
     "output_type": "execute_result"
    }
   ],
   "source": [
    "Integer(2) ** Integer(3)  #  ** means exponent\n",
    "Integer(10) % Integer(3)  #  for integer arguments, % means mod\n",
    "Integer(10) / Integer(4)\n",
    "Integer(10) // Integer(4)  #  for integer arguments, // returns the integer quotient"
   ]
  },
  {
   "cell_type": "code",
   "execution_count": 47,
   "id": "9c539d97",
   "metadata": {},
   "outputs": [
    {
     "data": {
      "text/plain": [
       "1/2*sqrt(3)"
      ]
     },
     "execution_count": 47,
     "metadata": {},
     "output_type": "execute_result"
    }
   ],
   "source": [
    "from sage.all import RealNumber, sqrt, sin, pi\n",
    "sqrt(RealNumber(\"3.4\"))\n",
    "sin(RealNumber(\"5.135\"))\n",
    "sin(pi / Integer(3))"
   ]
  },
  {
   "cell_type": "code",
   "execution_count": 48,
   "id": "ea63a853",
   "metadata": {},
   "outputs": [
    {
     "data": {
      "text/plain": [
       "e^2"
      ]
     },
     "execution_count": 48,
     "metadata": {},
     "output_type": "execute_result"
    }
   ],
   "source": [
    "from sage.all import exp, n, N, numerical_approx\n",
    "exp(Integer(2))\n"
   ]
  },
  {
   "cell_type": "code",
   "execution_count": 49,
   "id": "78717fa1",
   "metadata": {},
   "outputs": [
    {
     "data": {
      "text/plain": [
       "7.38905609893065"
      ]
     },
     "execution_count": 49,
     "metadata": {},
     "output_type": "execute_result"
    }
   ],
   "source": [
    "n(exp(Integer(2)))\n"
   ]
  },
  {
   "cell_type": "code",
   "execution_count": 50,
   "id": "7b61812c",
   "metadata": {},
   "outputs": [
    {
     "data": {
      "text/plain": [
       "sqrt(pi)"
      ]
     },
     "execution_count": 50,
     "metadata": {},
     "output_type": "execute_result"
    }
   ],
   "source": [
    "sqrt(pi)"
   ]
  },
  {
   "cell_type": "code",
   "execution_count": 51,
   "id": "5c28a2fa",
   "metadata": {},
   "outputs": [
    {
     "data": {
      "text/plain": [
       "1.77245385090552"
      ]
     },
     "execution_count": 51,
     "metadata": {},
     "output_type": "execute_result"
    }
   ],
   "source": [
    "sqrt(pi).numerical_approx()"
   ]
  },
  {
   "cell_type": "code",
   "execution_count": 52,
   "id": "9affaba1",
   "metadata": {},
   "outputs": [
    {
     "data": {
      "text/plain": [
       "-0.54402"
      ]
     },
     "execution_count": 52,
     "metadata": {},
     "output_type": "execute_result"
    }
   ],
   "source": [
    "sin(Integer(10)).n(digits=Integer(5))"
   ]
  },
  {
   "cell_type": "code",
   "execution_count": 53,
   "id": "1b4e8edc",
   "metadata": {},
   "outputs": [
    {
     "data": {
      "text/plain": [
       "-0.5440211109"
      ]
     },
     "execution_count": 53,
     "metadata": {},
     "output_type": "execute_result"
    }
   ],
   "source": [
    "N(sin(Integer(10)), digits=Integer(10))"
   ]
  },
  {
   "cell_type": "code",
   "execution_count": 54,
   "id": "aa96db6b",
   "metadata": {},
   "outputs": [
    {
     "data": {
      "text/plain": [
       "3.1415926535897932384626433832795028841971693993751058209749"
      ]
     },
     "execution_count": 54,
     "metadata": {},
     "output_type": "execute_result"
    }
   ],
   "source": [
    "numerical_approx(pi, prec=Integer(200))"
   ]
  },
  {
   "cell_type": "markdown",
   "id": "c6b19671",
   "metadata": {},
   "source": [
    "## Getting Help"
   ]
  },
  {
   "cell_type": "code",
   "execution_count": 55,
   "id": "f41efee5",
   "metadata": {},
   "outputs": [
    {
     "name": "stdout",
     "output_type": "stream",
     "text": [
      "\u001b[0;31mType:\u001b[0m            Function_tan\n",
      "\u001b[0;31mString form:\u001b[0m     tan\n",
      "\u001b[0;31mFile:\u001b[0m            ~/anaconda3/envs/sage-env/lib/python3.12/site-packages/sage/functions/trig.py\n",
      "\u001b[0;31mDocstring:\u001b[0m       <no docstring>\n",
      "\u001b[0;31mClass docstring:\u001b[0m\n",
      "GinacFunction(name, nargs=1, latex_name=None, conversions=None, ginac_name=None, evalf_params_first=True, preserved_arg=None, alt_name=None)\n",
      "File: sage/symbolic/function.pyx (starting at line 824)\n",
      "\n",
      "    This class provides a wrapper around symbolic functions already defined in\n",
      "    Pynac/GiNaC.\n",
      "\n",
      "    GiNaC provides custom methods for these functions defined at the C++ level.\n",
      "    It is still possible to define new custom functionality or override those\n",
      "    already defined.\n",
      "\n",
      "    There is also no need to register these functions.\n",
      "    \n",
      "\u001b[0;31mInit docstring:\u001b[0m \n",
      "The tangent function.\n",
      "\n",
      "EXAMPLES::\n",
      "\n",
      "    sage: # needs sage.rings.real_mpfr\n",
      "    sage: tan(3.1415)\n",
      "    -0.0000926535900581913\n",
      "    sage: tan(3.1415/4)\n",
      "    0.999953674278156\n",
      "\n",
      "    sage: # needs sage.symbolic\n",
      "    sage: tan(pi)\n",
      "    0\n",
      "    sage: tan(pi/4)\n",
      "    1\n",
      "    sage: tan(1/2)\n",
      "    tan(1/2)\n",
      "    sage: RR(tan(1/2))\n",
      "    0.546302489843790\n",
      "\n",
      "We can prevent evaluation using the ``hold`` parameter::\n",
      "\n",
      "    sage: tan(pi/4, hold=True)                                                  # needs sage.symbolic\n",
      "    tan(1/4*pi)\n",
      "\n",
      "To then evaluate again, we currently must use Maxima via\n",
      ":meth:`sage.symbolic.expression.Expression.simplify`::\n",
      "\n",
      "    sage: a = tan(pi/4, hold=True); a.simplify()                                # needs sage.symbolic\n",
      "    1\n",
      "\n",
      "If possible, the argument is also reduced modulo the\n",
      "period length `\\pi`, and well-known identities are\n",
      "directly evaluated::\n",
      "\n",
      "    sage: k = var('k', domain='integer')                                        # needs sage.symbolic\n",
      "    sage: tan(1 + 2*k*pi)                                                       # needs sage.symbolic\n",
      "    tan(1)\n",
      "    sage: tan(k*pi)                                                             # needs sage.symbolic\n",
      "    0\n",
      "\n",
      "TESTS::\n",
      "\n",
      "    sage: tan(x)._sympy_()                                                      # needs sympy sage.symbolic\n",
      "    tan(x)\n",
      "    sage: conjugate(tan(x))                                                     # needs sage.symbolic\n",
      "    tan(conjugate(x))\n",
      "    sage: tan(complex(1,1))     # rel tol 1e-15\n",
      "    (0.2717525853195118+1.0839233273386946j)\n",
      "\n",
      "Check that :issue:`19791` is fixed::\n",
      "\n",
      "    sage: tan(2+I).imag().n()                                                   # needs sage.symbolic\n",
      "    1.16673625724092\n",
      "\u001b[0;31mCall docstring:\u001b[0m \n",
      "File: sage/symbolic/function.pyx (starting at line 944)\n",
      "\n",
      "Evaluate this function on the given arguments and return the result.\n",
      "\n",
      "EXAMPLES::\n",
      "\n",
      "    sage: exp(5)                                                                # needs sage.symbolic\n",
      "    e^5\n",
      "    sage: gamma(15)\n",
      "    87178291200\n",
      "\n",
      "Python float, Python complex, mpmath mpf and mpc as well as numpy inputs\n",
      "are sent to the relevant ``math``, ``cmath``, ``mpmath`` or ``numpy``\n",
      "function::\n",
      "\n",
      "    sage: cos(1.r)\n",
      "    0.5403023058681398\n",
      "    sage: assert type(_) is float\n",
      "    sage: gamma(4.r)\n",
      "    6.0\n",
      "    sage: assert type(_) is float\n",
      "\n",
      "    sage: cos(1jr)  # abstol 1e-15\n",
      "    (1.5430806348152437-0j)\n",
      "    sage: assert type(_) is complex\n",
      "\n",
      "    sage: # needs mpmath\n",
      "    sage: import mpmath\n",
      "    sage: cos(mpmath.mpf('1.321412'))\n",
      "    mpf('0.24680737898640387')\n",
      "    sage: cos(mpmath.mpc(1,1))\n",
      "    mpc(real='0.83373002513114902', imag='-0.98889770576286506')\n",
      "\n",
      "    sage: import numpy                                                          # needs numpy\n",
      "    sage: if int(numpy.version.short_version[0]) > 1:                           # needs numpy\n",
      "    ....:     __ = numpy.set_printoptions(legacy=\"1.25\")                        # needs numpy\n",
      "\n",
      "    sage: sin(numpy.int32(0))                                                   # needs numpy\n",
      "    0.0\n",
      "    sage: type(_)                                                               # needs numpy\n",
      "    <class 'numpy.float64'>\n",
      "\n",
      "TESTS::\n",
      "\n",
      "    sage: from sage.symbolic.function import BuiltinFunction\n",
      "    sage: class A:\n",
      "    ....:     def foo(self):\n",
      "    ....:         return 'foo'\n",
      "    sage: foo = BuiltinFunction(name='foo')\n",
      "    sage: foo(A())\n",
      "    'foo'\n",
      "    sage: bar = BuiltinFunction(name='bar', alt_name='foo')\n",
      "    sage: bar(A())\n",
      "    'foo'"
     ]
    }
   ],
   "source": [
    "from sage.all import tan\n",
    "tan?\n"
   ]
  },
  {
   "cell_type": "markdown",
   "id": "b1c8781e",
   "metadata": {},
   "source": [
    "## Basic Algebra and Calculus"
   ]
  },
  {
   "cell_type": "code",
   "execution_count": 61,
   "id": "70744b0d",
   "metadata": {},
   "outputs": [
    {
     "data": {
      "text/plain": [
       "cos(u)"
      ]
     },
     "execution_count": 61,
     "metadata": {},
     "output_type": "execute_result"
    }
   ],
   "source": [
    "from sage.all import var, diff\n",
    "u = var(\"u\")\n",
    "x = var(\"x\")\n",
    "diff(sin(u), u)"
   ]
  },
  {
   "cell_type": "markdown",
   "id": "1f4f31b5",
   "metadata": {},
   "source": [
    "### Solving Equations"
   ]
  },
  {
   "cell_type": "code",
   "execution_count": null,
   "id": "1997c625",
   "metadata": {},
   "outputs": [
    {
     "data": {
      "text/plain": [
       "[x == -2, x == -1]"
      ]
     },
     "execution_count": 66,
     "metadata": {},
     "output_type": "execute_result"
    }
   ],
   "source": [
    "from sage.all import solve, show\n",
    "# simple quadratic equation\n",
    "x = var(\"x\")\n",
    "solve(x ** 2 + 3 * x + 2, x)"
   ]
  },
  {
   "cell_type": "code",
   "execution_count": null,
   "id": "88afe7bb",
   "metadata": {},
   "outputs": [
    {
     "name": "stdout",
     "output_type": "stream",
     "text": [
      "[x == -1/2*b - 1/2*sqrt(b^2 - 4*c), x == -1/2*b + 1/2*sqrt(b^2 - 4*c)]\n"
     ]
    }
   ],
   "source": [
    "# quadratic equation with parameters\n",
    "x, b, c = var(\"x b c\")\n",
    "sol = solve([x ** 2 + b * x + c == 0], x)\n",
    "show(sol)"
   ]
  },
  {
   "cell_type": "code",
   "execution_count": null,
   "id": "30c40660",
   "metadata": {},
   "outputs": [
    {
     "data": {
      "text/plain": [
       "[[x == 5, y == 1]]"
      ]
     },
     "execution_count": 68,
     "metadata": {},
     "output_type": "execute_result"
    }
   ],
   "source": [
    "# system of linear equations\n",
    "x, y = var(\"x, y\")\n",
    "solve([x + y == 6, \n",
    "       x - y == 4], x, y)"
   ]
  },
  {
   "cell_type": "code",
   "execution_count": 70,
   "id": "f2700e82",
   "metadata": {},
   "outputs": [
    {
     "data": {
      "text/plain": [
       "[[p == 1, q == 8, x == -4/3*sqrt(10) - 2/3, y == 1/6*sqrt(10) - 2/3],\n",
       " [p == 1, q == 8, x == 4/3*sqrt(10) - 2/3, y == -1/6*sqrt(10) - 2/3]]"
      ]
     },
     "execution_count": 70,
     "metadata": {},
     "output_type": "execute_result"
    }
   ],
   "source": [
    "# system of nonlinear equations\n",
    "x, y, p, q = var(\"x y p q\")\n",
    "eq1 = p + q == 9\n",
    "eq2 = q * y + p * x == -6\n",
    "eq3 = q * y ** 2 + p * x ** 2 == 24\n",
    "eq4 = p == 1\n",
    "solve([eq1, eq2, eq3, eq4], p, q, x, y)"
   ]
  },
  {
   "cell_type": "code",
   "execution_count": 72,
   "id": "eda4640f",
   "metadata": {},
   "outputs": [
    {
     "data": {
      "text/plain": [
       "[[1.0000000, 8.0000000, -4.8830369, -0.13962039],\n",
       " [1.0000000, 8.0000000, 3.5497035, -1.1937129]]"
      ]
     },
     "execution_count": 72,
     "metadata": {},
     "output_type": "execute_result"
    }
   ],
   "source": [
    "# numerical approximations of the solutions\n",
    "sols = solve([eq1, eq2, eq3, eq4], p, q, x, y, solution_dict=True)\n",
    "[\n",
    "    [s[p].n(Integer(30)), s[q].n(Integer(30)), s[x].n(Integer(30)), s[y].n(Integer(30))]\n",
    "    for s in sols\n",
    "]"
   ]
  },
  {
   "cell_type": "markdown",
   "id": "65e36f2e",
   "metadata": {},
   "source": [
    "### Solving Equations Numerically"
   ]
  },
  {
   "cell_type": "code",
   "execution_count": 74,
   "id": "51b45d3f",
   "metadata": {},
   "outputs": [
    {
     "data": {
      "text/plain": [
       "[sin(theta) == cos(theta)]"
      ]
     },
     "execution_count": 74,
     "metadata": {},
     "output_type": "execute_result"
    }
   ],
   "source": [
    "from sage.all import cos, sin, var, solve, find_root\n",
    "theta = var(\"theta\")\n",
    "solve(cos(theta) == sin(theta), theta)\n"
   ]
  },
  {
   "cell_type": "code",
   "execution_count": 75,
   "id": "491ecac9",
   "metadata": {},
   "outputs": [
    {
     "data": {
      "text/plain": [
       "0.7853981633974484"
      ]
     },
     "execution_count": 75,
     "metadata": {},
     "output_type": "execute_result"
    }
   ],
   "source": [
    "phi = var(\"phi\")\n",
    "find_root(cos(phi) == sin(phi), Integer(0), pi / Integer(2))"
   ]
  },
  {
   "cell_type": "markdown",
   "id": "f3182e8b",
   "metadata": {},
   "source": [
    "## Differentiation, Integration, etc."
   ]
  },
  {
   "cell_type": "code",
   "execution_count": null,
   "id": "c5c5f00a",
   "metadata": {},
   "outputs": [
    {
     "data": {
      "text/plain": [
       "16*x^4*sin(x^2) - 48*x^2*cos(x^2) - 12*sin(x^2)"
      ]
     },
     "execution_count": 78,
     "metadata": {},
     "output_type": "execute_result"
    }
   ],
   "source": [
    "# higher order derivatives\n",
    "ex = sin(x ** 2)\n",
    "diff(ex, x, 4) # fourth derivative"
   ]
  },
  {
   "cell_type": "code",
   "execution_count": 79,
   "id": "1d3336b1",
   "metadata": {},
   "outputs": [
    {
     "data": {
      "text/plain": [
       "(2*x, 34*y)"
      ]
     },
     "execution_count": 79,
     "metadata": {},
     "output_type": "execute_result"
    }
   ],
   "source": [
    "# partial derivatives\n",
    "x, y = var(\"x,y\")\n",
    "f = x ** 2 + 17 * y ** 2\n",
    "diff(f, x), diff(f, y)"
   ]
  },
  {
   "cell_type": "code",
   "execution_count": 80,
   "id": "c6213680",
   "metadata": {},
   "outputs": [
    {
     "data": {
      "text/plain": [
       "-1/2*cos(x^2)"
      ]
     },
     "execution_count": 80,
     "metadata": {},
     "output_type": "execute_result"
    }
   ],
   "source": [
    "# infinite integrals\n",
    "from sage.all import integrate\n",
    "f = x * sin(x ** 2)\n",
    "integrate(f, x)"
   ]
  },
  {
   "cell_type": "code",
   "execution_count": 81,
   "id": "998e510f",
   "metadata": {},
   "outputs": [
    {
     "data": {
      "text/plain": [
       "1/2*log(2)"
      ]
     },
     "execution_count": 81,
     "metadata": {},
     "output_type": "execute_result"
    }
   ],
   "source": [
    "# finite integrals\n",
    "g = x / (x ** 2 + 1)\n",
    "integrate(g, x, 0, 1)"
   ]
  },
  {
   "cell_type": "code",
   "execution_count": 83,
   "id": "89919453",
   "metadata": {},
   "outputs": [
    {
     "data": {
      "text/plain": [
       "1/2/(x + 1) + 1/2/(x - 1)"
      ]
     },
     "execution_count": 83,
     "metadata": {},
     "output_type": "execute_result"
    }
   ],
   "source": [
    "# partial fraction decomposition\n",
    "h = x / (x**2 - 1)\n",
    "h.partial_fraction()"
   ]
  },
  {
   "cell_type": "markdown",
   "id": "4f12c78e",
   "metadata": {},
   "source": [
    "## Solving Differential Equations"
   ]
  },
  {
   "cell_type": "code",
   "execution_count": 84,
   "id": "f81bdfdd",
   "metadata": {},
   "outputs": [
    {
     "data": {
      "text/plain": [
       "(_C + e^t)*e^(-t)"
      ]
     },
     "execution_count": 84,
     "metadata": {},
     "output_type": "execute_result"
    }
   ],
   "source": [
    "from sage.all import var, function, diff, desolve\n",
    "# define the variable and the unknown function\n",
    "t = var(\"t\")\n",
    "x = function(\"x\")(t)\n",
    "DE = diff(x, t) + x - 1 == 0\n",
    "desolve(DE, x)  # general solution"
   ]
  },
  {
   "cell_type": "code",
   "execution_count": 87,
   "id": "74a784d1",
   "metadata": {},
   "outputs": [
    {
     "data": {
      "text/plain": [
       "2/(s^3 - 3*s^2 + 3*s - 1) - 1/(s^2 + 1)"
      ]
     },
     "execution_count": 87,
     "metadata": {},
     "output_type": "execute_result"
    }
   ],
   "source": [
    "## Laplace transform\n",
    "s = var(\"s\")\n",
    "t = var(\"t\")\n",
    "\n",
    "f = t ** 2 * exp(t) - sin(t)\n",
    "f.laplace(t, s)"
   ]
  },
  {
   "cell_type": "code",
   "execution_count": 106,
   "id": "8a788ec8",
   "metadata": {},
   "outputs": [],
   "source": [
    "from sage.all import var, function, diff\n",
    "## double spring mass system\n",
    "m1, m2, k1, k2, t = var(\"m1 m2 k1 k2 t\")\n",
    "x1, x2 = function(\"x1\")(t), function(\"x2\")(t)\n",
    "s = var(\"s\")\n",
    "# assign values to the variables\n",
    "m1 = 2\n",
    "m2 = 1\n",
    "k1 = 4\n",
    "k2 = 2\n",
    "x1_0 = 3\n",
    "dot_x1_0 = 0\n",
    "x2_0 = 0\n",
    "dot_x2_0 = 0\n",
    "\n",
    "x1 = function(\"x1\")(t)\n",
    "x2 = function(\"x2\")(t)\n",
    "\n",
    "dot_dot_x1 = diff(x1, t, 2)\n",
    "dot_dot_x2 = diff(x2, t, 2)\n",
    "\n",
    "f = m1 * dot_dot_x1 + (k1 + k2) * x1 - k2 * x2 == 0\n",
    "g = m2 * dot_dot_x2 + k2 * (x2 - x1) == 0\n",
    "\n",
    "F = f.laplace(t, s)"
   ]
  },
  {
   "cell_type": "code",
   "execution_count": 107,
   "id": "337b5221",
   "metadata": {},
   "outputs": [
    {
     "data": {
      "text/plain": [
       "2*s^2*laplace(x1(t), t, s) - 2*s*x1(0) + 6*laplace(x1(t), t, s) - 2*laplace(x2(t), t, s) - 2*D[0](x1)(0) == 0"
      ]
     },
     "execution_count": 107,
     "metadata": {},
     "output_type": "execute_result"
    }
   ],
   "source": [
    "F"
   ]
  },
  {
   "cell_type": "code",
   "execution_count": 110,
   "id": "7b2eba4b",
   "metadata": {},
   "outputs": [
    {
     "ename": "TypeError",
     "evalue": "Substitution using function-call syntax and unnamed arguments has been removed. You can use named arguments instead, like EXPR(x=..., y=...)",
     "output_type": "error",
     "traceback": [
      "\u001b[0;31m---------------------------------------------------------------------------\u001b[0m",
      "\u001b[0;31mTypeError\u001b[0m                                 Traceback (most recent call last)",
      "Cell \u001b[0;32mIn[110], line 11\u001b[0m\n\u001b[1;32m      4\u001b[0m X2 \u001b[38;5;241m=\u001b[39m function(\u001b[38;5;124m\"\u001b[39m\u001b[38;5;124mX2\u001b[39m\u001b[38;5;124m\"\u001b[39m)(s)\n\u001b[1;32m      5\u001b[0m x1_0, x2_0, dot_x1_0, dot_x2_0 \u001b[38;5;241m=\u001b[39m var(\u001b[38;5;124m\"\u001b[39m\u001b[38;5;124mx1_0 x2_0 dot_x1_0 dot_x2_0\u001b[39m\u001b[38;5;124m\"\u001b[39m)\n\u001b[1;32m      7\u001b[0m F_sub \u001b[38;5;241m=\u001b[39m F\u001b[38;5;241m.\u001b[39msubs(\n\u001b[1;32m      8\u001b[0m     {\n\u001b[1;32m      9\u001b[0m         laplace(x1, t, s): X1,\n\u001b[1;32m     10\u001b[0m         laplace(x2, t, s): X2,\n\u001b[0;32m---> 11\u001b[0m         \u001b[43mx1\u001b[49m\u001b[43m(\u001b[49m\u001b[38;5;241;43m0\u001b[39;49m\u001b[43m)\u001b[49m: x1_0,\n\u001b[1;32m     12\u001b[0m         x2(\u001b[38;5;241m0\u001b[39m): x2_0,\n\u001b[1;32m     13\u001b[0m         diff(x1, t)(\u001b[38;5;241m0\u001b[39m): dot_x1_0,\n\u001b[1;32m     14\u001b[0m         diff(x2, t)(\u001b[38;5;241m0\u001b[39m): dot_x2_0,\n\u001b[1;32m     15\u001b[0m     }\n\u001b[1;32m     16\u001b[0m )\n",
      "File \u001b[0;32m~/anaconda3/envs/sage-env/lib/python3.12/site-packages/sage/symbolic/expression.pyx:6200\u001b[0m, in \u001b[0;36msage.symbolic.expression.Expression.__call__ (build/cythonized/sage/symbolic/expression.cpp:82932)\u001b[0;34m()\u001b[0m\n\u001b[1;32m   6198\u001b[0m         z^2 + x^y\n\u001b[1;32m   6199\u001b[0m     \"\"\"\n\u001b[0;32m-> 6200\u001b[0m     return self._parent._call_element_(self, *args, **kwds)\n\u001b[1;32m   6201\u001b[0m \n\u001b[1;32m   6202\u001b[0m def variables(self):\n",
      "File \u001b[0;32m~/anaconda3/envs/sage-env/lib/python3.12/site-packages/sage/symbolic/ring.pyx:1038\u001b[0m, in \u001b[0;36msage.symbolic.ring.SymbolicRing._call_element_ (build/cythonized/sage/symbolic/ring.c:14382)\u001b[0;34m()\u001b[0m\n\u001b[1;32m   1036\u001b[0m     d = args[0]\n\u001b[1;32m   1037\u001b[0m else:\n\u001b[0;32m-> 1038\u001b[0m     raise TypeError(\"Substitution using function-call syntax \"\n\u001b[1;32m   1039\u001b[0m                     \"and unnamed arguments has been removed. You \"\n\u001b[1;32m   1040\u001b[0m                     \"can use named arguments instead, like \"\n",
      "\u001b[0;31mTypeError\u001b[0m: Substitution using function-call syntax and unnamed arguments has been removed. You can use named arguments instead, like EXPR(x=..., y=...)"
     ]
    }
   ],
   "source": [
    "from sage.all import var, function, diff, laplace\n",
    "# Step 3: declare substitution variables\n",
    "X1 = function(\"X1\")(s)\n",
    "X2 = function(\"X2\")(s)\n",
    "x1_0, x2_0, dot_x1_0, dot_x2_0 = var(\"x1_0 x2_0 dot_x1_0 dot_x2_0\")\n",
    "\n",
    "F_sub = F.subs(\n",
    "    {\n",
    "        laplace(x1, t, s): X1,\n",
    "        laplace(x2, t, s): X2,\n",
    "        x1(0): x1_0,\n",
    "        x2(0): x2_0,\n",
    "        diff(x1, t)(0): dot_x1_0,\n",
    "        diff(x2, t)(0): dot_x2_0,\n",
    "    }\n",
    ")"
   ]
  }
 ],
 "metadata": {
  "kernelspec": {
   "display_name": "sage-env",
   "language": "python",
   "name": "python3"
  },
  "language_info": {
   "codemirror_mode": {
    "name": "ipython",
    "version": 3
   },
   "file_extension": ".py",
   "mimetype": "text/x-python",
   "name": "python",
   "nbconvert_exporter": "python",
   "pygments_lexer": "ipython3",
   "version": "3.12.12"
  }
 },
 "nbformat": 4,
 "nbformat_minor": 5
}
