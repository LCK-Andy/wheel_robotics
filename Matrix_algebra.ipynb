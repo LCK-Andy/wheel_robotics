{
 "cells": [
  {
   "cell_type": "code",
   "execution_count": 2,
   "id": "5891fb09",
   "metadata": {},
   "outputs": [
    {
     "name": "stdout",
     "output_type": "stream",
     "text": [
      "SymPy version: 1.13.3\n"
     ]
    }
   ],
   "source": [
    "import sympy\n",
    "print(\"SymPy version:\", sympy.__version__)"
   ]
  },
  {
   "cell_type": "markdown",
   "id": "8bf2aeab",
   "metadata": {},
   "source": [
    "## Jacobian matrix"
   ]
  },
  {
   "cell_type": "code",
   "execution_count": null,
   "id": "e87d2402",
   "metadata": {},
   "outputs": [],
   "source": []
  },
  {
   "cell_type": "markdown",
   "id": "2277126f",
   "metadata": {},
   "source": [
    "## Hessian matrix"
   ]
  },
  {
   "cell_type": "code",
   "execution_count": null,
   "id": "6188c70d",
   "metadata": {},
   "outputs": [
    {
     "data": {
      "text/plain": [
       "cos(x)^2 + sin(x)^2"
      ]
     },
     "execution_count": 6,
     "metadata": {},
     "output_type": "execute_result"
    }
   ],
   "source": []
  }
 ],
 "metadata": {
  "kernelspec": {
   "display_name": "sage-env",
   "language": "python",
   "name": "python3"
  },
  "language_info": {
   "codemirror_mode": {
    "name": "ipython",
    "version": 3
   },
   "file_extension": ".py",
   "mimetype": "text/x-python",
   "name": "python",
   "nbconvert_exporter": "python",
   "pygments_lexer": "ipython3",
   "version": "3.12.12"
  }
 },
 "nbformat": 4,
 "nbformat_minor": 5
}
