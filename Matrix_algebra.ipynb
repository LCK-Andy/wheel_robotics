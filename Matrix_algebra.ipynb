{
 "cells": [
  {
   "cell_type": "code",
   "execution_count": 8,
   "id": "5891fb09",
   "metadata": {},
   "outputs": [
    {
     "name": "stdout",
     "output_type": "stream",
     "text": [
      "SymPy version: 1.14.0\n"
     ]
    }
   ],
   "source": [
    "import sympy\n",
    "print(\"SymPy version:\", sympy.__version__)"
   ]
  },
  {
   "cell_type": "markdown",
   "id": "8bf2aeab",
   "metadata": {},
   "source": [
    "## Jacobian matrix\n",
    "\n",
    "The Jacobian is the matrix of all first-order partial derivatives of a vector function.\n",
    "\n",
    "For a vector function **f(x, y)** = [f₁(x, y), f₂(x, y)],  \n",
    "the Jacobian wrt [x, y] is:\n",
    "\n",
    "$$\n",
    "J = \\begin{bmatrix}\n",
    "∂f₁/∂x & ∂f₁/∂y \\\\\n",
    "∂f₂/∂x & ∂f₂/∂y\n",
    "\\end{bmatrix}\n",
    "$$"
   ]
  },
  {
   "cell_type": "code",
   "execution_count": 12,
   "id": "e87d2402",
   "metadata": {},
   "outputs": [
    {
     "data": {
      "text/latex": [
       "$\\displaystyle \\left[\\begin{matrix}2 x & 1\\\\y & x + 2 y\\end{matrix}\\right]$"
      ],
      "text/plain": [
       "Matrix([\n",
       "[2*x,       1],\n",
       "[  y, x + 2*y]])"
      ]
     },
     "execution_count": 12,
     "metadata": {},
     "output_type": "execute_result"
    }
   ],
   "source": [
    "from sympy import symbols, Matrix\n",
    "\n",
    "x, y = symbols(\"x y\")\n",
    "\n",
    "# Define a vector function\n",
    "f = Matrix([x**2 + y, \n",
    "            x * y + y**2])\n",
    "\n",
    "# Variables\n",
    "vars = Matrix([x, y])\n",
    "\n",
    "# Compute Jacobian\n",
    "J = f.jacobian(vars)\n",
    "J"
   ]
  },
  {
   "cell_type": "code",
   "execution_count": 13,
   "id": "ee00f826",
   "metadata": {},
   "outputs": [
    {
     "data": {
      "text/latex": [
       "$\\displaystyle \\left[\\begin{matrix}x^{2} + y\\\\x y + y^{2}\\end{matrix}\\right]$"
      ],
      "text/plain": [
       "Matrix([\n",
       "[  x**2 + y],\n",
       "[x*y + y**2]])"
      ]
     },
     "execution_count": 13,
     "metadata": {},
     "output_type": "execute_result"
    }
   ],
   "source": [
    "f"
   ]
  },
  {
   "cell_type": "markdown",
   "id": "2277126f",
   "metadata": {},
   "source": [
    "## Hessian matrix\n",
    "\n",
    "The Hessian is a square matrix of second-order partial derivatives of a scalar function.\n",
    "\n",
    "$$\n",
    "H = \\begin{bmatrix}\n",
    "∂²f/∂x₁² & ∂²f/∂x₁∂x₂ & ... \\\\\n",
    "∂²f/∂x₂∂x₁ & ∂²f/∂x₂² & ... \\\\\n",
    "... & ... & ...\n",
    "\\end{bmatrix}\n",
    "$$"
   ]
  },
  {
   "cell_type": "code",
   "execution_count": 10,
   "id": "6188c70d",
   "metadata": {},
   "outputs": [
    {
     "data": {
      "text/latex": [
       "$\\displaystyle \\left[\\begin{matrix}6 x & 1\\\\1 & 2\\end{matrix}\\right]$"
      ],
      "text/plain": [
       "Matrix([\n",
       "[6*x, 1],\n",
       "[  1, 2]])"
      ]
     },
     "execution_count": 10,
     "metadata": {},
     "output_type": "execute_result"
    }
   ],
   "source": [
    "from sympy import hessian\n",
    "\n",
    "x, y = symbols(\"x y\")\n",
    "f = x**3 + x * y + y**2\n",
    "\n",
    "H = hessian(f, (x, y))\n",
    "H\n"
   ]
  },
  {
   "cell_type": "markdown",
   "id": "6f97cb87",
   "metadata": {},
   "source": [
    "## Second-order partial derivatives of a vector function"
   ]
  }
 ],
 "metadata": {
  "kernelspec": {
   "display_name": "sage-env",
   "language": "python",
   "name": "python3"
  },
  "language_info": {
   "codemirror_mode": {
    "name": "ipython",
    "version": 3
   },
   "file_extension": ".py",
   "mimetype": "text/x-python",
   "name": "python",
   "nbconvert_exporter": "python",
   "pygments_lexer": "ipython3",
   "version": "3.12.12"
  }
 },
 "nbformat": 4,
 "nbformat_minor": 5
}
