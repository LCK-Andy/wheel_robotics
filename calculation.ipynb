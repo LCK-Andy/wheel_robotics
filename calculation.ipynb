{
 "cells": [
  {
   "cell_type": "code",
   "execution_count": 2,
   "id": "a0a92873",
   "metadata": {},
   "outputs": [],
   "source": [
    "from sympy import symbols, diff, integrate, Function"
   ]
  },
  {
   "cell_type": "code",
   "execution_count": 3,
   "id": "6d4d1a15",
   "metadata": {},
   "outputs": [
    {
     "data": {
      "text/latex": [
       "$\\displaystyle \\frac{\\left(\\frac{d}{d t} x{\\left(t \\right)}\\right)^{2}}{2}$"
      ],
      "text/plain": [
       "Derivative(x(t), t)**2/2"
      ]
     },
     "execution_count": 3,
     "metadata": {},
     "output_type": "execute_result"
    }
   ],
   "source": [
    "t = symbols('t')\n",
    "x = Function('x')(t)\n",
    "dot_x = diff(x, t)\n",
    "dot_dot_x = diff(dot_x, t)\n",
    "\n",
    "f = dot_x * dot_dot_x\n",
    "\n",
    "f.integrate(t)"
   ]
  },
  {
   "cell_type": "code",
   "execution_count": 6,
   "id": "db48f319",
   "metadata": {},
   "outputs": [
    {
     "data": {
      "text/latex": [
       "$\\displaystyle \\frac{R^{2} g}{R + x{\\left(t \\right)}}$"
      ],
      "text/plain": [
       "R**2*g/(R + x(t))"
      ]
     },
     "execution_count": 6,
     "metadata": {},
     "output_type": "execute_result"
    }
   ],
   "source": [
    "g = symbols('g')\n",
    "R = symbols('R')\n",
    "\n",
    "h = - (g * R ** 2) / ((R + x) ** 2) * dot_x\n",
    "h.integrate(t)"
   ]
  }
 ],
 "metadata": {
  "kernelspec": {
   "display_name": "sage-env",
   "language": "python",
   "name": "python3"
  },
  "language_info": {
   "codemirror_mode": {
    "name": "ipython",
    "version": 3
   },
   "file_extension": ".py",
   "mimetype": "text/x-python",
   "name": "python",
   "nbconvert_exporter": "python",
   "pygments_lexer": "ipython3",
   "version": "3.12.12"
  }
 },
 "nbformat": 4,
 "nbformat_minor": 5
}
