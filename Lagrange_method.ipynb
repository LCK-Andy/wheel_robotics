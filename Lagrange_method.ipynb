{
 "cells": [
  {
   "cell_type": "markdown",
   "id": "69aadcae",
   "metadata": {},
   "source": [
    "## The Euler-Lagrange equations \n",
    "\n",
    "The Lagrangian $L$ is defined as:\n",
    "\n",
    "$$\n",
    "L = T - V\n",
    "$$\n",
    "where\n",
    "- $T$ is the kinetic energy\n",
    "- $V$ is the potential energy"
   ]
  },
  {
   "cell_type": "markdown",
   "id": "c317ea50",
   "metadata": {},
   "source": [
    "### simple spring mass system\n",
    "\n",
    "wall ---- spring ---- mass"
   ]
  },
  {
   "cell_type": "code",
   "execution_count": 226,
   "id": "d2b9e9a6",
   "metadata": {},
   "outputs": [],
   "source": [
    "from sympy import symbols, Function, Matrix, Eq, sin, cos, simplify"
   ]
  },
  {
   "cell_type": "code",
   "execution_count": 227,
   "id": "9a4249f6",
   "metadata": {},
   "outputs": [],
   "source": [
    "t = symbols('t')\n",
    "x = Function('x')(t)\n",
    "dot_x = x.diff(t)\n",
    "k = symbols('k')  # spring constant\n",
    "m = symbols('m')  # mass\n",
    "\n",
    "# Euler-Lagrange Equation\n",
    "L = symbols('L')\n",
    "T = symbols('T')  # Kinetic Energy\n",
    "V = symbols('V')  # Potential Energy\n",
    "\n",
    "T = (1/2) * m * (dot_x ** 2)\n",
    "V = (1/2) * k * (x ** 2)\n",
    "L = T - V"
   ]
  },
  {
   "cell_type": "code",
   "execution_count": 228,
   "id": "a7fc8736",
   "metadata": {},
   "outputs": [
    {
     "data": {
      "text/latex": [
       "$\\displaystyle - 0.5 k x^{2}{\\left(t \\right)} + 0.5 m \\left(\\frac{d}{d t} x{\\left(t \\right)}\\right)^{2}$"
      ],
      "text/plain": [
       "-0.5*k*x(t)**2 + 0.5*m*Derivative(x(t), t)**2"
      ]
     },
     "execution_count": 228,
     "metadata": {},
     "output_type": "execute_result"
    }
   ],
   "source": [
    "L"
   ]
  },
  {
   "cell_type": "markdown",
   "id": "d5e6a6c9",
   "metadata": {},
   "source": [
    "Equations:\n",
    "\n",
    "$$\n",
    "\\frac{d}{dt} \\left( \\frac{\\partial L}{\\partial \\dot{x}} \\right) - \\frac{\\partial L}{\\partial x} = Q\n",
    "$$\n",
    "\n",
    "where\n",
    "- $x$ represents the generalized coordinates\n",
    "- $\\dot{x}$ represents the generalized velocities\n",
    "- $Q$ represents the generalized forces"
   ]
  },
  {
   "cell_type": "code",
   "execution_count": 229,
   "id": "60d7cc8d",
   "metadata": {},
   "outputs": [
    {
     "data": {
      "text/latex": [
       "$\\displaystyle 1.0 k x{\\left(t \\right)} + 1.0 m \\frac{d^{2}}{d t^{2}} x{\\left(t \\right)} = 0$"
      ],
      "text/plain": [
       "Eq(1.0*k*x(t) + 1.0*m*Derivative(x(t), (t, 2)), 0)"
      ]
     },
     "execution_count": 229,
     "metadata": {},
     "output_type": "execute_result"
    }
   ],
   "source": [
    "# in a closed system, Q = 0\n",
    "dL_dxdot = L.diff(dot_x)\n",
    "dL_dx = L.diff(x)\n",
    "Q = 0\n",
    "\n",
    "euler_lagrange_eq = Eq(dL_dxdot.diff(t) - dL_dx, Q)\n",
    "simplify(euler_lagrange_eq)"
   ]
  },
  {
   "cell_type": "markdown",
   "id": "6360d4da",
   "metadata": {},
   "source": [
    "### Rolling wheel with no slip constraint"
   ]
  },
  {
   "cell_type": "markdown",
   "id": "f5e7cfbf",
   "metadata": {},
   "source": [
    "### two-mass spring system\n",
    "\n",
    "Wall ---- spring1 ---- mass1 ---- spring2 ---- mass2"
   ]
  },
  {
   "cell_type": "code",
   "execution_count": 230,
   "id": "12d51cc9",
   "metadata": {},
   "outputs": [],
   "source": [
    "m_1, m_2 = symbols('m_1 m_2')  # point masses\n",
    "k_1, k_2 = symbols('k_1 k_2')  # spring constants\n",
    "x_1, x_2 = Function('x_1')(t), Function('x_2')(t)  # positions\n",
    "dot_x_1, dot_x_2 = x_1.diff(t), x_2.diff(t)  # velocities\n",
    "\n",
    "T = (1/2) * m_1 * (dot_x_1 ** 2) + (1/2) * m_2 * (dot_x_2 ** 2)\n",
    "V = (1/2) * k_1 * (x_1 ** 2) + (1/2) * k_2 * ((x_2 - x_1) ** 2)\n",
    "L = T - V"
   ]
  },
  {
   "cell_type": "code",
   "execution_count": 231,
   "id": "be601c6d",
   "metadata": {},
   "outputs": [],
   "source": [
    "dL_ddot_x_1 = L.diff(dot_x_1)\n",
    "dL_dx_1 = L.diff(x_1)\n",
    "Q_1 = 0\n",
    "\n",
    "dL_ddot_x_2 = L.diff(dot_x_2)\n",
    "dL_dx_2 = L.diff(x_2)\n",
    "Q_2 = 0\n",
    "\n",
    "constraint_1 = Eq(dL_ddot_x_1.diff(t) - dL_dx_1, Q_1)\n",
    "constraint_2 = Eq(dL_ddot_x_2.diff(t) - dL_dx_2, Q_2)"
   ]
  },
  {
   "cell_type": "code",
   "execution_count": 232,
   "id": "54ca59e1",
   "metadata": {},
   "outputs": [
    {
     "data": {
      "text/latex": [
       "$\\displaystyle 1.0 k_{1} x_{1}{\\left(t \\right)} + 1.0 k_{2} \\left(x_{1}{\\left(t \\right)} - x_{2}{\\left(t \\right)}\\right) + 1.0 m_{1} \\frac{d^{2}}{d t^{2}} x_{1}{\\left(t \\right)} = 0$"
      ],
      "text/plain": [
       "Eq(1.0*k_1*x_1(t) + 1.0*k_2*(x_1(t) - x_2(t)) + 1.0*m_1*Derivative(x_1(t), (t, 2)), 0)"
      ]
     },
     "execution_count": 232,
     "metadata": {},
     "output_type": "execute_result"
    }
   ],
   "source": [
    "constraint_1.simplify()\n"
   ]
  },
  {
   "cell_type": "code",
   "execution_count": 233,
   "id": "fd9371e1",
   "metadata": {},
   "outputs": [
    {
     "data": {
      "text/latex": [
       "$\\displaystyle 1.0 k_{2} \\left(x_{1}{\\left(t \\right)} - x_{2}{\\left(t \\right)}\\right) - 1.0 m_{2} \\frac{d^{2}}{d t^{2}} x_{2}{\\left(t \\right)} = 0$"
      ],
      "text/plain": [
       "Eq(1.0*k_2*(x_1(t) - x_2(t)) - 1.0*m_2*Derivative(x_2(t), (t, 2)), 0)"
      ]
     },
     "execution_count": 233,
     "metadata": {},
     "output_type": "execute_result"
    }
   ],
   "source": [
    "constraint_2.simplify()"
   ]
  },
  {
   "cell_type": "code",
   "execution_count": 234,
   "id": "eddda861",
   "metadata": {},
   "outputs": [],
   "source": [
    "from sympy import solve\n",
    "\n",
    "dot_dot_x_1 = x_1.diff(t, 2)\n",
    "dot_dot_x_2 = x_2.diff(t, 2)\n",
    "\n",
    "solutions = solve([constraint_1, constraint_2], (dot_dot_x_1, dot_dot_x_2))"
   ]
  },
  {
   "cell_type": "code",
   "execution_count": 235,
   "id": "71ed738c",
   "metadata": {},
   "outputs": [
    {
     "data": {
      "text/plain": [
       "{Derivative(x_1(t), (t, 2)): -k_1*x_1(t)/m_1 - k_2*x_1(t)/m_1 + k_2*x_2(t)/m_1,\n",
       " Derivative(x_2(t), (t, 2)): k_2*x_1(t)/m_2 - k_2*x_2(t)/m_2}"
      ]
     },
     "execution_count": 235,
     "metadata": {},
     "output_type": "execute_result"
    }
   ],
   "source": [
    "solutions\n"
   ]
  },
  {
   "cell_type": "markdown",
   "id": "95cfe1f2",
   "metadata": {},
   "source": [
    "### a particle moving in an arbitrary potential field $V(x)$"
   ]
  },
  {
   "cell_type": "code",
   "execution_count": 236,
   "id": "dd1c2480",
   "metadata": {},
   "outputs": [],
   "source": [
    "t = symbols('t')\n",
    "x = Function('x')(t)\n",
    "V = Function('V')(x)  # arbitrary potential function\n",
    "\n",
    "T = (1/2) * symbols('m') * (x.diff(t) ** 2)\n",
    "L = T - V"
   ]
  },
  {
   "cell_type": "code",
   "execution_count": 237,
   "id": "68f817fb",
   "metadata": {},
   "outputs": [],
   "source": [
    "dL_ddot_x = L.diff(x.diff(t))\n",
    "dL_dx = L.diff(x)\n",
    "Q = 0\n",
    "\n",
    "constraint = Eq(dL_ddot_x.diff(t) - dL_dx, Q)"
   ]
  },
  {
   "cell_type": "code",
   "execution_count": 238,
   "id": "2b00c1e8",
   "metadata": {},
   "outputs": [
    {
     "data": {
      "text/latex": [
       "$\\displaystyle 1.0 m \\frac{d^{2}}{d t^{2}} x{\\left(t \\right)} + \\frac{d}{d x{\\left(t \\right)}} V{\\left(x{\\left(t \\right)} \\right)} = 0$"
      ],
      "text/plain": [
       "Eq(1.0*m*Derivative(x(t), (t, 2)) + Derivative(V(x(t)), x(t)), 0)"
      ]
     },
     "execution_count": 238,
     "metadata": {},
     "output_type": "execute_result"
    }
   ],
   "source": [
    "constraint\n"
   ]
  },
  {
   "cell_type": "markdown",
   "id": "45d4eae7",
   "metadata": {},
   "source": [
    "### particle moving in 3D potential field $V(x, y, z)$"
   ]
  },
  {
   "cell_type": "code",
   "execution_count": 239,
   "id": "8be590ef",
   "metadata": {},
   "outputs": [],
   "source": [
    "t = symbols('t')\n",
    "x = Function('x')(t)\n",
    "y = Function('y')(t)\n",
    "z = Function('z')(t)\n",
    "\n",
    "dot_x = x.diff(t)\n",
    "dot_y = y.diff(t)\n",
    "dot_z = z.diff(t)\n",
    "V = Function('V')(x, y, z)  # arbitrary potential function\n",
    "\n",
    "T = (1/2) * symbols('m') * (dot_x ** 2 + dot_y ** 2 + dot_z ** 2)\n",
    "L = T - V"
   ]
  },
  {
   "cell_type": "code",
   "execution_count": 240,
   "id": "08526d44",
   "metadata": {},
   "outputs": [
    {
     "data": {
      "text/plain": [
       "(Eq(1.0*m*Derivative(x(t), (t, 2)) + Derivative(V(x(t), y(t), z(t)), x(t)), 0),\n",
       " Eq(1.0*m*Derivative(y(t), (t, 2)) + Derivative(V(x(t), y(t), z(t)), y(t)), 0),\n",
       " Eq(1.0*m*Derivative(z(t), (t, 2)) + Derivative(V(x(t), y(t), z(t)), z(t)), 0))"
      ]
     },
     "execution_count": 240,
     "metadata": {},
     "output_type": "execute_result"
    }
   ],
   "source": [
    "import sympy as sp\n",
    "\n",
    "dL_ddot_x = L.diff(dot_x)\n",
    "dL_dx = L.diff(x)\n",
    "Q_x = 0\n",
    "\n",
    "dL_ddot_y = L.diff(dot_y)\n",
    "dL_dy = L.diff(y)\n",
    "Q_y = 0\n",
    "\n",
    "dL_ddot_z = L.diff(dot_z)\n",
    "dL_dz = L.diff(z)\n",
    "Q_z = 0\n",
    "\n",
    "EL_x = Eq(dL_ddot_x.diff(t) - dL_dx, Q_x)\n",
    "EL_y = Eq(dL_ddot_y.diff(t) - dL_dy, Q_y)\n",
    "EL_z = Eq(dL_ddot_z.diff(t) - dL_dz, Q_z)\n",
    "\n",
    "EL_x_s, EL_y_s, EL_z_s = map(sp.simplify, [EL_x, EL_y, EL_z])\n",
    "EL_x_s, EL_y_s, EL_z_s"
   ]
  },
  {
   "cell_type": "code",
   "execution_count": 241,
   "id": "a66ddc43",
   "metadata": {},
   "outputs": [
    {
     "data": {
      "text/latex": [
       "$\\displaystyle \\left[\\begin{matrix}m \\frac{d^{2}}{d t^{2}} x{\\left(t \\right)} + \\frac{d}{d x{\\left(t \\right)}} V{\\left(x{\\left(t \\right)},y{\\left(t \\right)},z{\\left(t \\right)} \\right)}\\\\m \\frac{d^{2}}{d t^{2}} y{\\left(t \\right)} + \\frac{d}{d y{\\left(t \\right)}} V{\\left(x{\\left(t \\right)},y{\\left(t \\right)},z{\\left(t \\right)} \\right)}\\\\m \\frac{d^{2}}{d t^{2}} z{\\left(t \\right)} + \\frac{d}{d z{\\left(t \\right)}} V{\\left(x{\\left(t \\right)},y{\\left(t \\right)},z{\\left(t \\right)} \\right)}\\end{matrix}\\right] = \\left[\\begin{matrix}0\\\\0\\\\0\\end{matrix}\\right]$"
      ],
      "text/plain": [
       "Eq(Matrix([\n",
       "[m*Derivative(x(t), (t, 2)) + Derivative(V(x(t), y(t), z(t)), x(t))],\n",
       "[m*Derivative(y(t), (t, 2)) + Derivative(V(x(t), y(t), z(t)), y(t))],\n",
       "[m*Derivative(z(t), (t, 2)) + Derivative(V(x(t), y(t), z(t)), z(t))]]), Matrix([\n",
       "[0],\n",
       "[0],\n",
       "[0]]))"
      ]
     },
     "execution_count": 241,
     "metadata": {},
     "output_type": "execute_result"
    }
   ],
   "source": [
    "# Define vector of coordinates and accelerations\n",
    "q = sp.Matrix([x, y, z])\n",
    "ddq = sp.Matrix([x.diff(t, 2), y.diff(t, 2), z.diff(t, 2)])\n",
    "\n",
    "# Mass matrix (scalar m * Identity since isotropic)\n",
    "M = m * sp.eye(3)\n",
    "\n",
    "# Gradient of potential\n",
    "gradV = sp.Matrix([sp.diff(V, x), sp.diff(V, y), sp.diff(V, z)])\n",
    "\n",
    "# Generalized equation: M * ddq + gradV = 0\n",
    "EL_vector = sp.Eq(M * ddq + gradV, sp.zeros(3, 1))\n",
    "EL_vector"
   ]
  },
  {
   "cell_type": "code",
   "execution_count": 242,
   "id": "34319219",
   "metadata": {},
   "outputs": [
    {
     "data": {
      "text/plain": [
       "{Derivative(x(t), (t, 2)): -Derivative(V(x(t), y(t), z(t)), x(t))/m,\n",
       " Derivative(y(t), (t, 2)): -Derivative(V(x(t), y(t), z(t)), y(t))/m,\n",
       " Derivative(z(t), (t, 2)): -Derivative(V(x(t), y(t), z(t)), z(t))/m}"
      ]
     },
     "execution_count": 242,
     "metadata": {},
     "output_type": "execute_result"
    }
   ],
   "source": [
    "ddq_solution = sp.solve(EL_vector, ddq)\n",
    "ddq_solution\n"
   ]
  },
  {
   "cell_type": "markdown",
   "id": "e84f4b5d",
   "metadata": {},
   "source": [
    "### Spring pendulum system"
   ]
  },
  {
   "attachments": {
    "image.png": {
     "image/png": "[encoded data removed]"
    }
   },
   "cell_type": "markdown",
   "id": "a783ba27",
   "metadata": {},
   "source": [
    "- $m$ : mass of the pendulum bob\n",
    "- $k$ : spring constant\n",
    "- $l$ : natural length of the spring\n",
    "- $g$ : acceleration due to gravity\n",
    "- $\\theta$ : angle of the pendulum from the vertical\n",
    "- $x(t)$ : length of the spring at time $t$ relative to the pivot point\n",
    "\n",
    "![image.png](attachment:image.png)"
   ]
  },
  {
   "cell_type": "code",
   "execution_count": 243,
   "id": "932b320c",
   "metadata": {},
   "outputs": [],
   "source": [
    "t = symbols('t')\n",
    "theta = Function('theta')(t)  # angle of the pendulum from the vertical\n",
    "dot_theta = theta.diff(t)\n",
    "x = Function('x')(t)  # length of the spring at time t relative to\n",
    "dot_x = x.diff(t)\n",
    "l = symbols('l')  # natural length of the spring\n",
    "m = symbols('m')  # mass of the pendulum bob\n",
    "k = symbols('k')  # spring constant\n",
    "g = symbols('g')  # acceleration due to gravity\n",
    "\n",
    "# total kinetic energy = tangential part + radial part\n",
    "tangential_part = 1/2 * m * dot_x**2\n",
    "radial_part = 1 / 2 * m * ((x + l) * dot_theta) ** 2\n",
    "T = tangential_part + radial_part"
   ]
  },
  {
   "cell_type": "code",
   "execution_count": 244,
   "id": "92105930",
   "metadata": {},
   "outputs": [],
   "source": [
    "from sympy import sin, cos\n",
    "# total potential energy = spring potential + gravitational potential\n",
    "spring_potential = 1/2 * k * (x ** 2)\n",
    "gravitational_potential = -m * g * (x + l) * cos(theta)\n",
    "V = spring_potential + gravitational_potential\n"
   ]
  },
  {
   "cell_type": "code",
   "execution_count": 245,
   "id": "50927373",
   "metadata": {},
   "outputs": [
    {
     "data": {
      "text/latex": [
       "$\\displaystyle g m \\left(l + x{\\left(t \\right)}\\right) \\cos{\\left(\\theta{\\left(t \\right)} \\right)} - 0.5 k x^{2}{\\left(t \\right)} + 0.5 m \\left(l + x{\\left(t \\right)}\\right)^{2} \\left(\\frac{d}{d t} \\theta{\\left(t \\right)}\\right)^{2} + 0.5 m \\left(\\frac{d}{d t} x{\\left(t \\right)}\\right)^{2}$"
      ],
      "text/plain": [
       "g*m*(l + x(t))*cos(theta(t)) - 0.5*k*x(t)**2 + 0.5*m*(l + x(t))**2*Derivative(theta(t), t)**2 + 0.5*m*Derivative(x(t), t)**2"
      ]
     },
     "execution_count": 245,
     "metadata": {},
     "output_type": "execute_result"
    }
   ],
   "source": [
    "L = T - V\n",
    "L"
   ]
  },
  {
   "cell_type": "code",
   "execution_count": 246,
   "id": "b7c2bdfd",
   "metadata": {},
   "outputs": [],
   "source": [
    "dL_ddot_x = L.diff(dot_x)\n",
    "dL_dx = L.diff(x)\n",
    "Q_x = 0\n",
    "\n",
    "dL_ddot_theta = L.diff(dot_theta)\n",
    "dL_dtheta = L.diff(theta)\n",
    "Q_theta = 0\n",
    "\n",
    "EL_x = Eq(dL_ddot_x.diff(t) - dL_dx, Q_x)\n",
    "EL_theta = Eq(dL_ddot_theta.diff(t) - dL_dtheta, Q_theta)"
   ]
  },
  {
   "cell_type": "code",
   "execution_count": 247,
   "id": "8b08d7c7",
   "metadata": {},
   "outputs": [
    {
     "data": {
      "text/latex": [
       "$\\displaystyle m \\left(l + x{\\left(t \\right)}\\right) \\left(g \\sin{\\left(\\theta{\\left(t \\right)} \\right)} + 1.0 \\left(l + x{\\left(t \\right)}\\right) \\frac{d^{2}}{d t^{2}} \\theta{\\left(t \\right)} + 2.0 \\frac{d}{d t} \\theta{\\left(t \\right)} \\frac{d}{d t} x{\\left(t \\right)}\\right) = 0$"
      ],
      "text/plain": [
       "Eq(m*(l + x(t))*(g*sin(theta(t)) + 1.0*(l + x(t))*Derivative(theta(t), (t, 2)) + 2.0*Derivative(theta(t), t)*Derivative(x(t), t)), 0)"
      ]
     },
     "execution_count": 247,
     "metadata": {},
     "output_type": "execute_result"
    }
   ],
   "source": [
    "EL_theta.simplify()\n"
   ]
  },
  {
   "cell_type": "code",
   "execution_count": 248,
   "id": "1a00e7d8",
   "metadata": {},
   "outputs": [
    {
     "data": {
      "text/latex": [
       "$\\displaystyle g m \\cos{\\left(\\theta{\\left(t \\right)} \\right)} - 1.0 k x{\\left(t \\right)} + 1.0 m \\left(l + x{\\left(t \\right)}\\right) \\left(\\frac{d}{d t} \\theta{\\left(t \\right)}\\right)^{2} - 1.0 m \\frac{d^{2}}{d t^{2}} x{\\left(t \\right)} = 0$"
      ],
      "text/plain": [
       "Eq(g*m*cos(theta(t)) - 1.0*k*x(t) + 1.0*m*(l + x(t))*Derivative(theta(t), t)**2 - 1.0*m*Derivative(x(t), (t, 2)), 0)"
      ]
     },
     "execution_count": 248,
     "metadata": {},
     "output_type": "execute_result"
    }
   ],
   "source": [
    "EL_x.simplify()"
   ]
  },
  {
   "cell_type": "code",
   "execution_count": 249,
   "id": "69245fb8",
   "metadata": {},
   "outputs": [
    {
     "data": {
      "text/latex": [
       "$\\displaystyle - g m \\cos{\\left(\\theta{\\left(t \\right)} \\right)} + 1.0 k x{\\left(t \\right)} - 0.5 m \\left(2 l + 2 x{\\left(t \\right)}\\right) \\left(\\frac{d}{d t} \\theta{\\left(t \\right)}\\right)^{2} + 1.0 m \\frac{d^{2}}{d t^{2}} x{\\left(t \\right)} = 0$"
      ],
      "text/plain": [
       "Eq(-g*m*cos(theta(t)) + 1.0*k*x(t) - 0.5*m*(2*l + 2*x(t))*Derivative(theta(t), t)**2 + 1.0*m*Derivative(x(t), (t, 2)), 0)"
      ]
     },
     "execution_count": 249,
     "metadata": {},
     "output_type": "execute_result"
    }
   ],
   "source": [
    "from sympy import pi\n",
    "## simulation\n",
    "k = 1.0\n",
    "m = 1.0\n",
    "g = 9.81\n",
    "l = 2.0\n",
    "\n",
    "EL_theta.subs({k: k, m: m, g: g, l: l})\n",
    "EL_x.subs({k: k, m: m, g: g, l: l})\n"
   ]
  },
  {
   "cell_type": "markdown",
   "id": "8eda32b3",
   "metadata": {},
   "source": [
    "### particles in a gravitatioanl potential"
   ]
  },
  {
   "cell_type": "code",
   "execution_count": 250,
   "id": "6ec52dcb",
   "metadata": {},
   "outputs": [],
   "source": [
    "t = symbols('t')\n",
    "y = Function('y')(t)  # vertical position\n",
    "dot_y = y.diff(t)\n",
    "m = symbols('m')  # mass\n",
    "g = symbols('g')  # acceleration due to gravity\n",
    "\n",
    "T = (1/2) * m * (dot_y ** 2)\n",
    "V = m * g * y\n",
    "\n",
    "L = T - V"
   ]
  },
  {
   "cell_type": "code",
   "execution_count": 251,
   "id": "787c9ed8",
   "metadata": {},
   "outputs": [
    {
     "data": {
      "text/latex": [
       "$\\displaystyle m \\left(g + 1.0 \\frac{d^{2}}{d t^{2}} y{\\left(t \\right)}\\right) = 0$"
      ],
      "text/plain": [
       "Eq(m*(g + 1.0*Derivative(y(t), (t, 2))), 0)"
      ]
     },
     "execution_count": 251,
     "metadata": {},
     "output_type": "execute_result"
    }
   ],
   "source": [
    "dL_ddot_y = L.diff(dot_y)\n",
    "dL_dy = L.diff(y)\n",
    "Q = 0\n",
    "\n",
    "EL_y = Eq(dL_ddot_y.diff(t) - dL_dy, Q)\n",
    "EL_y.simplify()"
   ]
  },
  {
   "cell_type": "markdown",
   "id": "9148a689",
   "metadata": {},
   "source": [
    "### Particle in a Central force Field $V(r)$"
   ]
  },
  {
   "cell_type": "code",
   "execution_count": 252,
   "id": "70d85eff",
   "metadata": {},
   "outputs": [],
   "source": [
    "t = symbols('t')\n",
    "r = Function('r')(t)  # radial distance\n",
    "dot_r = r.diff(t)  # radial velocity\n",
    "theta = Function('theta')(t)  # angular position\n",
    "dot_theta = theta.diff(t)\n",
    "m = symbols('m')  # mass\n",
    "\n",
    "# Total kinetic energy = tangential_part + radial_part\n",
    "tangential_part = (1/2) * m * (r * dot_theta) ** 2\n",
    "radial_part = (1/2) * m * (dot_r ** 2)\n",
    "\n",
    "T = tangential_part + radial_part\n",
    "\n",
    "# Potential energy V(r)\n",
    "V = Function('V')(r)\n",
    "\n",
    "L = T - V"
   ]
  },
  {
   "cell_type": "code",
   "execution_count": 253,
   "id": "7d4d2f78",
   "metadata": {},
   "outputs": [
    {
     "data": {
      "text/latex": [
       "$\\displaystyle 0.5 m r^{2}{\\left(t \\right)} \\left(\\frac{d}{d t} \\theta{\\left(t \\right)}\\right)^{2} + 0.5 m \\left(\\frac{d}{d t} r{\\left(t \\right)}\\right)^{2} - V{\\left(r{\\left(t \\right)} \\right)}$"
      ],
      "text/plain": [
       "0.5*m*r(t)**2*Derivative(theta(t), t)**2 + 0.5*m*Derivative(r(t), t)**2 - V(r(t))"
      ]
     },
     "execution_count": 253,
     "metadata": {},
     "output_type": "execute_result"
    }
   ],
   "source": [
    "L"
   ]
  },
  {
   "cell_type": "code",
   "execution_count": 254,
   "id": "6eee632d",
   "metadata": {},
   "outputs": [],
   "source": [
    "dL_ddot_r = L.diff(dot_r)\n",
    "dL_dr = L.diff(r)\n",
    "Q_r = 0\n",
    "\n",
    "dL_ddot_theta = L.diff(dot_theta)\n",
    "dL_dtheta = L.diff(theta)\n",
    "Q_theta = 0\n",
    "\n",
    "EL_r = Eq(dL_ddot_r.diff(t) - dL_dr, Q_r)\n",
    "EL_theta = Eq(dL_ddot_theta.diff(t) - dL_dtheta, Q_theta)"
   ]
  },
  {
   "cell_type": "code",
   "execution_count": 255,
   "id": "18e37b1c",
   "metadata": {},
   "outputs": [
    {
     "data": {
      "text/latex": [
       "$\\displaystyle - 1.0 m r{\\left(t \\right)} \\left(\\frac{d}{d t} \\theta{\\left(t \\right)}\\right)^{2} + 1.0 m \\frac{d^{2}}{d t^{2}} r{\\left(t \\right)} + 1.0 \\frac{d}{d r{\\left(t \\right)}} V{\\left(r{\\left(t \\right)} \\right)} = 0$"
      ],
      "text/plain": [
       "Eq(-1.0*m*r(t)*Derivative(theta(t), t)**2 + 1.0*m*Derivative(r(t), (t, 2)) + 1.0*Derivative(V(r(t)), r(t)), 0)"
      ]
     },
     "execution_count": 255,
     "metadata": {},
     "output_type": "execute_result"
    }
   ],
   "source": [
    "EL_r.simplify()"
   ]
  },
  {
   "cell_type": "code",
   "execution_count": 256,
   "id": "da098e7c",
   "metadata": {},
   "outputs": [
    {
     "data": {
      "text/latex": [
       "$\\displaystyle m \\left(1.0 r{\\left(t \\right)} \\frac{d^{2}}{d t^{2}} \\theta{\\left(t \\right)} + 2.0 \\frac{d}{d t} r{\\left(t \\right)} \\frac{d}{d t} \\theta{\\left(t \\right)}\\right) r{\\left(t \\right)} = 0$"
      ],
      "text/plain": [
       "Eq(m*(1.0*r(t)*Derivative(theta(t), (t, 2)) + 2.0*Derivative(r(t), t)*Derivative(theta(t), t))*r(t), 0)"
      ]
     },
     "execution_count": 256,
     "metadata": {},
     "output_type": "execute_result"
    }
   ],
   "source": [
    "EL_theta.simplify() # conservation of angular momentum"
   ]
  },
  {
   "cell_type": "markdown",
   "id": "7c81ff0b",
   "metadata": {},
   "source": [
    "### Double pendulum system with 2 point masses"
   ]
  },
  {
   "cell_type": "code",
   "execution_count": 257,
   "id": "400586a8",
   "metadata": {},
   "outputs": [],
   "source": [
    "t = symbols('t')\n",
    "m_1, m_2 = symbols('m_1 m_2')  # masses\n",
    "l_1, l_2 = symbols('l_1 l_2')  #\n",
    "theta_1, theta_2 = Function('theta_1')(t), Function('theta_2')(t)  # angles\n",
    "dot_theta_1, dot_theta_2 = theta_1.diff(t), theta_2.diff(t)  # angular velocities\n",
    "g = symbols('g')  # acceleration due to gravity\n",
    "\n",
    "# Coordinate expression\n",
    "x_1 = l_1 * sin(theta_1)\n",
    "y_1 = -l_1 * cos(theta_1)\n",
    "\n",
    "x_2 = x_1 + l_2 * sin(theta_2)\n",
    "y_2 = y_1 - l_2 * cos(theta_2)\n",
    "\n",
    "# Velocities\n",
    "dot_x_1 = x_1.diff(t)\n",
    "dot_y_1 = y_1.diff(t)\n",
    "\n",
    "dot_x_2 = x_2.diff(t)\n",
    "dot_y_2 = y_2.diff(t)\n",
    "\n",
    "v_1_sq = (dot_x_1 ** 2 + dot_y_1 ** 2)\n",
    "v_2_sq = (dot_x_2 ** 2 + dot_y_2 ** 2)\n",
    "\n",
    "# Kinetic Energy\n",
    "T = (1/2) * m_1 * v_1_sq + (1/2) * m_2 * v_2_sq"
   ]
  },
  {
   "cell_type": "code",
   "execution_count": 258,
   "id": "2f5ecb5e",
   "metadata": {},
   "outputs": [
    {
     "data": {
      "text/latex": [
       "$\\displaystyle 0.5 m_{1} \\left(l_{1}^{2} \\sin^{2}{\\left(\\theta_{1}{\\left(t \\right)} \\right)} \\left(\\frac{d}{d t} \\theta_{1}{\\left(t \\right)}\\right)^{2} + l_{1}^{2} \\cos^{2}{\\left(\\theta_{1}{\\left(t \\right)} \\right)} \\left(\\frac{d}{d t} \\theta_{1}{\\left(t \\right)}\\right)^{2}\\right) + 0.5 m_{2} \\left(\\left(l_{1} \\sin{\\left(\\theta_{1}{\\left(t \\right)} \\right)} \\frac{d}{d t} \\theta_{1}{\\left(t \\right)} + l_{2} \\sin{\\left(\\theta_{2}{\\left(t \\right)} \\right)} \\frac{d}{d t} \\theta_{2}{\\left(t \\right)}\\right)^{2} + \\left(l_{1} \\cos{\\left(\\theta_{1}{\\left(t \\right)} \\right)} \\frac{d}{d t} \\theta_{1}{\\left(t \\right)} + l_{2} \\cos{\\left(\\theta_{2}{\\left(t \\right)} \\right)} \\frac{d}{d t} \\theta_{2}{\\left(t \\right)}\\right)^{2}\\right)$"
      ],
      "text/plain": [
       "0.5*m_1*(l_1**2*sin(theta_1(t))**2*Derivative(theta_1(t), t)**2 + l_1**2*cos(theta_1(t))**2*Derivative(theta_1(t), t)**2) + 0.5*m_2*((l_1*sin(theta_1(t))*Derivative(theta_1(t), t) + l_2*sin(theta_2(t))*Derivative(theta_2(t), t))**2 + (l_1*cos(theta_1(t))*Derivative(theta_1(t), t) + l_2*cos(theta_2(t))*Derivative(theta_2(t), t))**2)"
      ]
     },
     "execution_count": 258,
     "metadata": {},
     "output_type": "execute_result"
    }
   ],
   "source": [
    "T"
   ]
  },
  {
   "cell_type": "code",
   "execution_count": 259,
   "id": "77dd1d05",
   "metadata": {},
   "outputs": [
    {
     "data": {
      "text/latex": [
       "$\\displaystyle - g l_{1} m_{1} \\cos{\\left(\\theta_{1}{\\left(t \\right)} \\right)} + g m_{2} \\left(- l_{1} \\cos{\\left(\\theta_{1}{\\left(t \\right)} \\right)} - l_{2} \\cos{\\left(\\theta_{2}{\\left(t \\right)} \\right)}\\right)$"
      ],
      "text/plain": [
       "-g*l_1*m_1*cos(theta_1(t)) + g*m_2*(-l_1*cos(theta_1(t)) - l_2*cos(theta_2(t)))"
      ]
     },
     "execution_count": 259,
     "metadata": {},
     "output_type": "execute_result"
    }
   ],
   "source": [
    "# Potential Energy\n",
    "V = m_1 * g * y_1 + m_2 * g * y_2\n",
    "V"
   ]
  },
  {
   "cell_type": "code",
   "execution_count": 260,
   "id": "e5be65c3",
   "metadata": {},
   "outputs": [
    {
     "data": {
      "text/latex": [
       "$\\displaystyle g l_{1} m_{1} \\cos{\\left(\\theta_{1}{\\left(t \\right)} \\right)} + g m_{2} \\left(l_{1} \\cos{\\left(\\theta_{1}{\\left(t \\right)} \\right)} + l_{2} \\cos{\\left(\\theta_{2}{\\left(t \\right)} \\right)}\\right) + 0.5 l_{1}^{2} m_{1} \\left(\\frac{d}{d t} \\theta_{1}{\\left(t \\right)}\\right)^{2} + 0.5 m_{2} \\left(l_{1}^{2} \\left(\\frac{d}{d t} \\theta_{1}{\\left(t \\right)}\\right)^{2} + 2 l_{1} l_{2} \\cos{\\left(\\theta_{1}{\\left(t \\right)} - \\theta_{2}{\\left(t \\right)} \\right)} \\frac{d}{d t} \\theta_{1}{\\left(t \\right)} \\frac{d}{d t} \\theta_{2}{\\left(t \\right)} + l_{2}^{2} \\left(\\frac{d}{d t} \\theta_{2}{\\left(t \\right)}\\right)^{2}\\right)$"
      ],
      "text/plain": [
       "g*l_1*m_1*cos(theta_1(t)) + g*m_2*(l_1*cos(theta_1(t)) + l_2*cos(theta_2(t))) + 0.5*l_1**2*m_1*Derivative(theta_1(t), t)**2 + 0.5*m_2*(l_1**2*Derivative(theta_1(t), t)**2 + 2*l_1*l_2*cos(theta_1(t) - theta_2(t))*Derivative(theta_1(t), t)*Derivative(theta_2(t), t) + l_2**2*Derivative(theta_2(t), t)**2)"
      ]
     },
     "execution_count": 260,
     "metadata": {},
     "output_type": "execute_result"
    }
   ],
   "source": [
    "L = T - V\n",
    "L.simplify()"
   ]
  },
  {
   "cell_type": "code",
   "execution_count": 261,
   "id": "6dd26d9b",
   "metadata": {},
   "outputs": [],
   "source": [
    "dL_ddot_theta_1 = L.diff(dot_theta_1)\n",
    "dL_dtheta_1 = L.diff(theta_1)\n",
    "Q_1 = 0\n",
    "\n",
    "dL_ddot_theta_2 = L.diff(dot_theta_2)\n",
    "dL_dtheta_2 = L.diff(theta_2)\n",
    "Q_2 = 0\n",
    "\n",
    "EL_theta_1 = Eq(dL_ddot_theta_1.diff(t) - dL_dtheta_1, Q_1)\n",
    "EL_theta_2 = Eq(dL_ddot_theta_2.diff(t) - dL_dtheta_2, Q_2)"
   ]
  },
  {
   "cell_type": "code",
   "execution_count": 262,
   "id": "94667810",
   "metadata": {},
   "outputs": [],
   "source": [
    "from sympy import trigsimp\n",
    "EL_theta_1_simp = trigsimp(EL_theta_1.simplify())\n"
   ]
  },
  {
   "cell_type": "code",
   "execution_count": 263,
   "id": "8acf69cf",
   "metadata": {},
   "outputs": [
    {
     "data": {
      "text/latex": [
       "$\\displaystyle 1.0 l_{1} \\left(g m_{1} \\sin{\\left(\\theta_{1}{\\left(t \\right)} \\right)} + g m_{2} \\sin{\\left(\\theta_{1}{\\left(t \\right)} \\right)} + l_{1} m_{1} \\frac{d^{2}}{d t^{2}} \\theta_{1}{\\left(t \\right)} + l_{1} m_{2} \\frac{d^{2}}{d t^{2}} \\theta_{1}{\\left(t \\right)} + l_{2} m_{2} \\sin{\\left(\\theta_{1}{\\left(t \\right)} - \\theta_{2}{\\left(t \\right)} \\right)} \\left(\\frac{d}{d t} \\theta_{2}{\\left(t \\right)}\\right)^{2} + l_{2} m_{2} \\cos{\\left(\\theta_{1}{\\left(t \\right)} - \\theta_{2}{\\left(t \\right)} \\right)} \\frac{d^{2}}{d t^{2}} \\theta_{2}{\\left(t \\right)}\\right) = 0$"
      ],
      "text/plain": [
       "Eq(1.0*l_1*(g*m_1*sin(theta_1(t)) + g*m_2*sin(theta_1(t)) + l_1*m_1*Derivative(theta_1(t), (t, 2)) + l_1*m_2*Derivative(theta_1(t), (t, 2)) + l_2*m_2*sin(theta_1(t) - theta_2(t))*Derivative(theta_2(t), t)**2 + l_2*m_2*cos(theta_1(t) - theta_2(t))*Derivative(theta_2(t), (t, 2))), 0)"
      ]
     },
     "execution_count": 263,
     "metadata": {},
     "output_type": "execute_result"
    }
   ],
   "source": [
    "EL_theta_1_simp\n"
   ]
  },
  {
   "cell_type": "code",
   "execution_count": 264,
   "id": "4949eff5",
   "metadata": {},
   "outputs": [],
   "source": [
    "\n",
    "EL_theta_2_simp = trigsimp(EL_theta_2.simplify())\n"
   ]
  },
  {
   "cell_type": "code",
   "execution_count": 265,
   "id": "73a5f894",
   "metadata": {},
   "outputs": [
    {
     "data": {
      "text/latex": [
       "$\\displaystyle 1.0 l_{2} m_{2} \\left(g \\sin{\\left(\\theta_{2}{\\left(t \\right)} \\right)} - l_{1} \\sin{\\left(\\theta_{1}{\\left(t \\right)} - \\theta_{2}{\\left(t \\right)} \\right)} \\left(\\frac{d}{d t} \\theta_{1}{\\left(t \\right)}\\right)^{2} + l_{1} \\cos{\\left(\\theta_{1}{\\left(t \\right)} - \\theta_{2}{\\left(t \\right)} \\right)} \\frac{d^{2}}{d t^{2}} \\theta_{1}{\\left(t \\right)} + l_{2} \\frac{d^{2}}{d t^{2}} \\theta_{2}{\\left(t \\right)}\\right) = 0$"
      ],
      "text/plain": [
       "Eq(1.0*l_2*m_2*(g*sin(theta_2(t)) - l_1*sin(theta_1(t) - theta_2(t))*Derivative(theta_1(t), t)**2 + l_1*cos(theta_1(t) - theta_2(t))*Derivative(theta_1(t), (t, 2)) + l_2*Derivative(theta_2(t), (t, 2))), 0)"
      ]
     },
     "execution_count": 265,
     "metadata": {},
     "output_type": "execute_result"
    }
   ],
   "source": [
    "EL_theta_2_simp\n"
   ]
  },
  {
   "cell_type": "markdown",
   "id": "0f853861",
   "metadata": {},
   "source": []
  },
  {
   "cell_type": "markdown",
   "id": "bc0f81ec",
   "metadata": {},
   "source": [
    "## action\n",
    "\n",
    "$$\n",
    "S = \\int_{t_1}^{t_2} L(x, \\dot{x}, t) \\, dt\n",
    "$$\n",
    "\n",
    "dimension of S = energy × time = J·s"
   ]
  },
  {
   "cell_type": "markdown",
   "id": "10b41615",
   "metadata": {},
   "source": [
    "### a ball dropped from rest"
   ]
  },
  {
   "cell_type": "code",
   "execution_count": 266,
   "id": "16326199",
   "metadata": {},
   "outputs": [],
   "source": [
    "\n",
    "t = symbols('t')\n",
    "x = Function('x')(t)\n",
    "# x(t) : position of the ball at time t\n",
    "# x(0) = 0\n",
    "# x(1) = -g/2\n"
   ]
  },
  {
   "cell_type": "markdown",
   "id": "9fe7b32c",
   "metadata": {},
   "source": [
    "### a uniform rod rotating in a vertical plane about one end (physical pendulum)"
   ]
  },
  {
   "cell_type": "code",
   "execution_count": 267,
   "id": "83d0a207",
   "metadata": {},
   "outputs": [],
   "source": [
    "t = symbols('t')\n",
    "L = symbols('L') # length of the rod\n",
    "m = symbols('m') # mass of the rod\n",
    "g = symbols('g') # acceleration due to gravity\n",
    "\n",
    "theta = Function('theta')(t)  # angle of the rod from the vertical\n",
    "dot_theta = theta.diff(t)"
   ]
  },
  {
   "cell_type": "code",
   "execution_count": 268,
   "id": "0b0db730",
   "metadata": {},
   "outputs": [
    {
     "data": {
      "text/latex": [
       "$\\displaystyle 0.166666666666667 L^{2} m \\left(\\frac{d}{d t} \\theta{\\left(t \\right)}\\right)^{2}$"
      ],
      "text/plain": [
       "0.166666666666667*L**2*m*Derivative(theta(t), t)**2"
      ]
     },
     "execution_count": 268,
     "metadata": {},
     "output_type": "execute_result"
    }
   ],
   "source": [
    "# Total kinetic energy = translational part + rotational part\n",
    "# translational_part = 0 since the rod is fixed at one end\n",
    "I = 1/3 * m * L**2  # moment of inertia about one end\n",
    "rotational_part = 1/2 * I * (dot_theta ** 2)\n",
    "\n",
    "T = rotational_part\n",
    "T"
   ]
  },
  {
   "cell_type": "code",
   "execution_count": 269,
   "id": "47c7ea7c",
   "metadata": {},
   "outputs": [],
   "source": [
    "# potential energy\n",
    "h = L/2 - (L/2) * cos(theta)  # height of center of mass\n",
    "V = m * g * h\n",
    "V = V.simplify()"
   ]
  },
  {
   "cell_type": "code",
   "execution_count": 270,
   "id": "c63c0782",
   "metadata": {},
   "outputs": [
    {
     "data": {
      "text/latex": [
       "$\\displaystyle 0.166666666666667 L^{2} m \\left(\\frac{d}{d t} \\theta{\\left(t \\right)}\\right)^{2} - \\frac{L g m \\left(1 - \\cos{\\left(\\theta{\\left(t \\right)} \\right)}\\right)}{2}$"
      ],
      "text/plain": [
       "0.166666666666667*L**2*m*Derivative(theta(t), t)**2 - L*g*m*(1 - cos(theta(t)))/2"
      ]
     },
     "execution_count": 270,
     "metadata": {},
     "output_type": "execute_result"
    }
   ],
   "source": [
    "L = T - V\n",
    "L"
   ]
  },
  {
   "cell_type": "code",
   "execution_count": 271,
   "id": "dcc6e057",
   "metadata": {},
   "outputs": [
    {
     "data": {
      "text/latex": [
       "$\\displaystyle 0.333333333333333 L^{2} m \\frac{d^{2}}{d t^{2}} \\theta{\\left(t \\right)} + \\frac{L g m \\sin{\\left(\\theta{\\left(t \\right)} \\right)}}{2} = 0$"
      ],
      "text/plain": [
       "Eq(0.333333333333333*L**2*m*Derivative(theta(t), (t, 2)) + L*g*m*sin(theta(t))/2, 0)"
      ]
     },
     "execution_count": 271,
     "metadata": {},
     "output_type": "execute_result"
    }
   ],
   "source": [
    "dL_ddot_theta = L.diff(dot_theta)\n",
    "dL_dtheta = L.diff(theta)\n",
    "Q = 0\n",
    "\n",
    "EL_theta = Eq(dL_ddot_theta.diff(t) - dL_dtheta, Q)\n",
    "EL_theta\n"
   ]
  },
  {
   "cell_type": "markdown",
   "id": "d8305210",
   "metadata": {},
   "source": [
    "### free particle always moves in straight line with constant velocity"
   ]
  },
  {
   "cell_type": "code",
   "execution_count": 272,
   "id": "c71d3aac",
   "metadata": {},
   "outputs": [],
   "source": [
    "t = symbols(\"t\", real=True)\n",
    "m = symbols(\"m\", positive=True, real=True)  # mass of the particle\n",
    "\n",
    "x = Function(\"x\")(t)\n",
    "dot_x = x.diff(t)\n",
    "\n",
    "L = (1/2) * m * (dot_x ** 2) - 0 # free particle does not have potential energy"
   ]
  },
  {
   "cell_type": "code",
   "execution_count": 273,
   "id": "2a60d8ca",
   "metadata": {},
   "outputs": [
    {
     "data": {
      "text/latex": [
       "$\\displaystyle 1.0 m \\frac{d^{2}}{d t^{2}} x{\\left(t \\right)} = 0$"
      ],
      "text/plain": [
       "Eq(1.0*m*Derivative(x(t), (t, 2)), 0)"
      ]
     },
     "execution_count": 273,
     "metadata": {},
     "output_type": "execute_result"
    }
   ],
   "source": [
    "dL_ddot_x = L.diff(dot_x)\n",
    "dL_dx = L.diff(x)\n",
    "Q_x = 0\n",
    "\n",
    "EL = Eq(dL_ddot_x.diff(t) - dL_dx, Q_x)\n",
    "EL.simplify()"
   ]
  },
  {
   "cell_type": "code",
   "execution_count": 274,
   "id": "947dce3f",
   "metadata": {},
   "outputs": [
    {
     "data": {
      "text/latex": [
       "$\\displaystyle x{\\left(t \\right)} = C_{1} + C_{2} t$"
      ],
      "text/plain": [
       "Eq(x(t), C1 + C2*t)"
      ]
     },
     "execution_count": 274,
     "metadata": {},
     "output_type": "execute_result"
    }
   ],
   "source": [
    "solution = sp.dsolve(EL, x)\n",
    "solution"
   ]
  },
  {
   "cell_type": "code",
   "execution_count": 275,
   "id": "b9aa23b4",
   "metadata": {},
   "outputs": [
    {
     "data": {
      "text/plain": [
       "{C1: (x1 - x2)/(t1 - t2), C2: (t1*x2 - t2*x1)/(t1 - t2)}"
      ]
     },
     "execution_count": 275,
     "metadata": {},
     "output_type": "execute_result"
    }
   ],
   "source": [
    "# Define symbols and functions\n",
    "t, t1, t2 = sp.symbols(\"t t1 t2\", real=True)\n",
    "x1, x2, m = sp.symbols(\"x1 x2 m\", real=True)\n",
    "\n",
    "# General solution x(t) = C1*t + C2\n",
    "C1, C2 = sp.symbols(\"C1 C2\", real=True)\n",
    "x_sol = C1 * t + C2\n",
    "\n",
    "# Apply boundary conditions: x(t1)=x1, x(t2)=x2\n",
    "eqs = [sp.Eq(x_sol.subs(t, t1), x1), \n",
    "       sp.Eq(x_sol.subs(t, t2), x2)]\n",
    "\n",
    "# Solve for C1, C2\n",
    "sol_constants = sp.solve(eqs, (C1, C2))\n",
    "sol_constants\n"
   ]
  },
  {
   "cell_type": "code",
   "execution_count": 276,
   "id": "39cc23dc",
   "metadata": {},
   "outputs": [
    {
     "data": {
      "text/latex": [
       "$\\displaystyle \\frac{t \\left(x_{1} - x_{2}\\right) + t_{1} x_{2} - t_{2} x_{1}}{t_{1} - t_{2}}$"
      ],
      "text/plain": [
       "(t*(x1 - x2) + t1*x2 - t2*x1)/(t1 - t2)"
      ]
     },
     "execution_count": 276,
     "metadata": {},
     "output_type": "execute_result"
    }
   ],
   "source": [
    "x_path = x_sol.subs(sol_constants)\n",
    "sp.simplify(x_path)\n"
   ]
  },
  {
   "cell_type": "markdown",
   "id": "8c97c55f",
   "metadata": {},
   "source": [
    "## Forces of constraint"
   ]
  },
  {
   "attachments": {
    "image.png": {
     "image/png": "[encoded data removed]"
    }
   },
   "cell_type": "markdown",
   "id": "baef74d3",
   "metadata": {},
   "source": [
    "### Particle sliding off a fixed frictionless hemisphere\n",
    "- $R$ : radius of the hemisphere\n",
    "- $\\theta$ : angle from the vertical axis\n",
    "\n",
    "we concern only with finding the equation of motion for $\\theta(t)$.\n",
    "\n",
    "![image.png](attachment:image.png)"
   ]
  },
  {
   "cell_type": "code",
   "execution_count": 277,
   "id": "c0e4dd88",
   "metadata": {},
   "outputs": [
    {
     "data": {
      "text/latex": [
       "$\\displaystyle 0.5 R^{2} m \\left(\\frac{d}{d t} \\theta{\\left(t \\right)}\\right)^{2} - R g m \\cos{\\left(\\theta{\\left(t \\right)} \\right)}$"
      ],
      "text/plain": [
       "0.5*R**2*m*Derivative(theta(t), t)**2 - R*g*m*cos(theta(t))"
      ]
     },
     "execution_count": 277,
     "metadata": {},
     "output_type": "execute_result"
    }
   ],
   "source": [
    "t = symbols('t')\n",
    "R = symbols('R')  # radius of the hemisphere\n",
    "m = symbols('m')  # mass of the particle\n",
    "g = symbols('g')  # acceleration due to gravity\n",
    "theta = Function('theta')(t)  # angle from the vertical axis\n",
    "dot_theta = theta.diff(t)\n",
    "\n",
    "T = (1/2) * symbols('m') * (R * dot_theta) ** 2\n",
    "\n",
    "V = m * g * R * cos(theta)\n",
    "\n",
    "L = T - V\n",
    "L"
   ]
  },
  {
   "cell_type": "code",
   "execution_count": 278,
   "id": "b12ccf7b",
   "metadata": {},
   "outputs": [
    {
     "data": {
      "text/latex": [
       "$\\displaystyle R m \\left(1.0 R \\frac{d^{2}}{d t^{2}} \\theta{\\left(t \\right)} - g \\sin{\\left(\\theta{\\left(t \\right)} \\right)}\\right) = 0$"
      ],
      "text/plain": [
       "Eq(R*m*(1.0*R*Derivative(theta(t), (t, 2)) - g*sin(theta(t))), 0)"
      ]
     },
     "execution_count": 278,
     "metadata": {},
     "output_type": "execute_result"
    }
   ],
   "source": [
    "dL_ddot_theta = L.diff(dot_theta)\n",
    "dL_dtheta = L.diff(theta)\n",
    "Q_theta = 0\n",
    "\n",
    "EL_theta = Eq(dL_ddot_theta.diff(t) - dL_dtheta, Q_theta)\n",
    "EL_theta.simplify()"
   ]
  },
  {
   "cell_type": "code",
   "execution_count": 279,
   "id": "8d8556cd",
   "metadata": {},
   "outputs": [],
   "source": [
    "# method 2\n",
    "r = Function('r')(t)\n",
    "dot_r = r.diff(t)\n",
    "\n",
    "# Total kinetic energy = radial part + tangential part\n",
    "radial_part = 1/2 * m * (dot_r ** 2)\n",
    "tangential_part = 1/2 * m * (r * dot_theta) ** 2\n",
    "T = radial_part + tangential_part\n",
    "\n",
    "# Total potential energy = gravitational potential + normal force potential\n",
    "normal_force_potential = Function('V')(r)\n",
    "gravitational_potential = m * g * r * cos(theta)\n",
    "V = gravitational_potential + normal_force_potential\n",
    "\n",
    "L = T - V"
   ]
  },
  {
   "cell_type": "code",
   "execution_count": 280,
   "id": "4916b261",
   "metadata": {},
   "outputs": [],
   "source": [
    "dL_ddot_r = L.diff(dot_r)\n",
    "dL_dr = L.diff(r)\n",
    "Q_r = 0\n",
    "\n",
    "dL_ddot_theta = L.diff(dot_theta)\n",
    "dL_dtheta = L.diff(theta)\n",
    "Q_theta = 0\n",
    "\n",
    "EL_theta = Eq(dL_ddot_theta.diff(t) - dL_dtheta, Q_theta)\n",
    "EL_r = Eq(dL_ddot_r.diff(t) - dL_dr, Q_r)"
   ]
  },
  {
   "cell_type": "code",
   "execution_count": 281,
   "id": "4f787c9b",
   "metadata": {},
   "outputs": [],
   "source": [
    "# Apply constraint substitutions\n",
    "subs_constraint = {r: R, \n",
    "                   sp.diff(r, t): 0, \n",
    "                   sp.diff(r, (t, 2)): 0}\n",
    "\n",
    "EL_r_constrained = EL_r.subs(subs_constraint)\n",
    "EL_theta_constrained = EL_theta.subs(subs_constraint)"
   ]
  },
  {
   "cell_type": "code",
   "execution_count": 282,
   "id": "b14d7989",
   "metadata": {},
   "outputs": [
    {
     "data": {
      "text/latex": [
       "$\\displaystyle - 1.0 R m \\left(\\frac{d}{d t} \\theta{\\left(t \\right)}\\right)^{2} + g m \\cos{\\left(\\theta{\\left(t \\right)} \\right)} + \\frac{d}{d R} V{\\left(R \\right)} = 0$"
      ],
      "text/plain": [
       "Eq(-1.0*R*m*Derivative(theta(t), t)**2 + g*m*cos(theta(t)) + Derivative(V(R), R), 0)"
      ]
     },
     "execution_count": 282,
     "metadata": {},
     "output_type": "execute_result"
    }
   ],
   "source": [
    "EL_r_constrained"
   ]
  },
  {
   "cell_type": "code",
   "execution_count": 283,
   "id": "2acd0402",
   "metadata": {},
   "outputs": [
    {
     "data": {
      "text/latex": [
       "$\\displaystyle 1.0 R^{2} m \\frac{d^{2}}{d t^{2}} \\theta{\\left(t \\right)} - R g m \\sin{\\left(\\theta{\\left(t \\right)} \\right)} = 0$"
      ],
      "text/plain": [
       "Eq(1.0*R**2*m*Derivative(theta(t), (t, 2)) - R*g*m*sin(theta(t)), 0)"
      ]
     },
     "execution_count": 283,
     "metadata": {},
     "output_type": "execute_result"
    }
   ],
   "source": [
    "EL_theta_constrained"
   ]
  },
  {
   "cell_type": "markdown",
   "id": "806dcd25",
   "metadata": {},
   "source": [
    "### Bead sliding on a circular wire"
   ]
  },
  {
   "cell_type": "code",
   "execution_count": 284,
   "id": "eb24656e",
   "metadata": {},
   "outputs": [],
   "source": [
    "t = symbols('t')\n",
    "# Cartesian coordinates\n",
    "x = Function('x')(t)\n",
    "y = Function('y')(t)\n",
    "dot_x = x.diff(t)\n",
    "dot_y = y.diff(t)\n",
    "m = symbols('m')  # mass"
   ]
  },
  {
   "cell_type": "code",
   "execution_count": 285,
   "id": "4b8f9803",
   "metadata": {},
   "outputs": [],
   "source": [
    "T = (1/2) * m * (dot_x ** 2 + dot_y ** 2)\n",
    "V = m * g * y\n",
    "L = T - V"
   ]
  },
  {
   "cell_type": "code",
   "execution_count": 286,
   "id": "7560d47b",
   "metadata": {},
   "outputs": [],
   "source": [
    "# geometric constraint\n",
    "R = symbols('R')  # radius of the circular wire\n",
    "constraint = x ** 2 + y ** 2 - R ** 2\n",
    "\n",
    "lambda_ = symbols('lambda')  # Lagrange multiplier\n",
    "\n",
    "L_augmented = L + lambda_ * constraint"
   ]
  },
  {
   "cell_type": "code",
   "execution_count": 287,
   "id": "81dde62f",
   "metadata": {},
   "outputs": [],
   "source": [
    "dL_augmented_ddot_x = L_augmented.diff(dot_x)\n",
    "dL_augmented_dx = L_augmented.diff(x)\n",
    "Q_x = 0\n",
    "\n",
    "dL_augmented_ddot_y = L_augmented.diff(dot_y)\n",
    "dL_augmented_dy = L_augmented.diff(y)\n",
    "Q_y = 0\n",
    "\n",
    "\n",
    "EL_x = Eq(dL_augmented_ddot_x.diff(t) - dL_augmented_dx, Q_x)\n",
    "EL_y = Eq(dL_augmented_ddot_y.diff(t) - dL_augmented_dy, Q_y)\n",
    "EL_lambda = L_augmented.diff(lambda_)  # constraint equation"
   ]
  },
  {
   "cell_type": "code",
   "execution_count": 288,
   "id": "f210261a",
   "metadata": {},
   "outputs": [
    {
     "data": {
      "text/latex": [
       "$\\displaystyle - 2 \\lambda x{\\left(t \\right)} + 1.0 m \\frac{d^{2}}{d t^{2}} x{\\left(t \\right)} = 0$"
      ],
      "text/plain": [
       "Eq(-2*lambda*x(t) + 1.0*m*Derivative(x(t), (t, 2)), 0)"
      ]
     },
     "execution_count": 288,
     "metadata": {},
     "output_type": "execute_result"
    }
   ],
   "source": [
    "EL_x\n"
   ]
  },
  {
   "cell_type": "code",
   "execution_count": 289,
   "id": "d7c79c17",
   "metadata": {},
   "outputs": [
    {
     "data": {
      "text/latex": [
       "$\\displaystyle g m - 2 \\lambda y{\\left(t \\right)} + 1.0 m \\frac{d^{2}}{d t^{2}} y{\\left(t \\right)} = 0$"
      ],
      "text/plain": [
       "Eq(g*m - 2*lambda*y(t) + 1.0*m*Derivative(y(t), (t, 2)), 0)"
      ]
     },
     "execution_count": 289,
     "metadata": {},
     "output_type": "execute_result"
    }
   ],
   "source": [
    "EL_y\n"
   ]
  },
  {
   "cell_type": "code",
   "execution_count": 290,
   "id": "ce211c80",
   "metadata": {},
   "outputs": [
    {
     "data": {
      "text/latex": [
       "$\\displaystyle - R^{2} + x^{2}{\\left(t \\right)} + y^{2}{\\left(t \\right)}$"
      ],
      "text/plain": [
       "-R**2 + x(t)**2 + y(t)**2"
      ]
     },
     "execution_count": 290,
     "metadata": {},
     "output_type": "execute_result"
    }
   ],
   "source": [
    "EL_lambda"
   ]
  },
  {
   "cell_type": "code",
   "execution_count": 291,
   "id": "27768d94",
   "metadata": {},
   "outputs": [
    {
     "data": {
      "text/latex": [
       "$\\displaystyle \\frac{0.5 m \\frac{d^{2}}{d t^{2}} x{\\left(t \\right)}}{x{\\left(t \\right)}}$"
      ],
      "text/plain": [
       "0.5*m*Derivative(x(t), (t, 2))/x(t)"
      ]
     },
     "execution_count": 291,
     "metadata": {},
     "output_type": "execute_result"
    }
   ],
   "source": [
    "# solve for the Lagrange multiplier lambda_\n",
    "solutions = sp.solve(EL_x, lambda_)[0]\n",
    "solutions"
   ]
  },
  {
   "cell_type": "code",
   "execution_count": 292,
   "id": "1e593290",
   "metadata": {},
   "outputs": [],
   "source": [
    "## solving the same problem in polar coordinates\n",
    "t = symbols('t')\n",
    "m, g, R = symbols('m g R')  # mass, gravity, radius\n",
    "\n",
    "theta = Function('theta')(t)  # angular position\n",
    "dot_theta = theta.diff(t)\n",
    "\n",
    "# express x and y in terms of theta\n",
    "# let the center of the circle be at the origin\n",
    "x = R * sp.sin(theta)\n",
    "y = -R * sp.cos(theta)\n",
    "dot_x = x.diff(t)\n",
    "dot_y = y.diff(t)\n",
    "\n",
    "# Kinetic energy\n",
    "T = (1/2) * m * (dot_x ** 2 + dot_y ** 2)\n",
    "T = T.simplify()\n",
    "\n",
    "# potential energy\n",
    "V = m * g * y\n",
    "V = V.simplify()\n",
    "\n",
    "L = T - V"
   ]
  },
  {
   "cell_type": "code",
   "execution_count": 293,
   "id": "08685b8a",
   "metadata": {},
   "outputs": [
    {
     "data": {
      "text/latex": [
       "$\\displaystyle 0.5 R^{2} m \\left(\\frac{d}{d t} \\theta{\\left(t \\right)}\\right)^{2} + R g m \\cos{\\left(\\theta{\\left(t \\right)} \\right)}$"
      ],
      "text/plain": [
       "0.5*R**2*m*Derivative(theta(t), t)**2 + R*g*m*cos(theta(t))"
      ]
     },
     "execution_count": 293,
     "metadata": {},
     "output_type": "execute_result"
    }
   ],
   "source": [
    "L"
   ]
  },
  {
   "cell_type": "code",
   "execution_count": 294,
   "id": "e48b24a1",
   "metadata": {},
   "outputs": [
    {
     "data": {
      "text/latex": [
       "$\\displaystyle R m \\left(1.0 R \\frac{d^{2}}{d t^{2}} \\theta{\\left(t \\right)} + g \\sin{\\left(\\theta{\\left(t \\right)} \\right)}\\right) = 0$"
      ],
      "text/plain": [
       "Eq(R*m*(1.0*R*Derivative(theta(t), (t, 2)) + g*sin(theta(t))), 0)"
      ]
     },
     "execution_count": 294,
     "metadata": {},
     "output_type": "execute_result"
    }
   ],
   "source": [
    "dL_ddot_theta = L.diff(dot_theta)\n",
    "dL_dtheta = L.diff(theta)\n",
    "Q_theta = 0\n",
    "\n",
    "EL_theta = Eq(dL_ddot_theta.diff(t) - dL_dtheta, Q_theta)\n",
    "EL_theta.simplify()"
   ]
  },
  {
   "cell_type": "markdown",
   "id": "3fe8692c",
   "metadata": {},
   "source": [
    "## Rigid Body Dynamics in 3D"
   ]
  },
  {
   "cell_type": "markdown",
   "id": "78af5fe2",
   "metadata": {},
   "source": [
    "### symmetric rigid body rotating freely\n",
    "\n",
    "- $\\phi$: precession angle around the inertial z-axis\n",
    "- $\\theta$: nutation angle\n",
    "- $\\psi$: spin angle around the body's symmetry axis\n"
   ]
  },
  {
   "cell_type": "code",
   "execution_count": 337,
   "id": "201a82a8",
   "metadata": {},
   "outputs": [],
   "source": [
    "t = symbols('t')\n",
    "\n",
    "# Euler angles in body frame \n",
    "phi = Function('phi')(t)  # precession angle around the inertial z-axis\n",
    "theta = Function('theta')(t) # nutation angle\n",
    "psi = Function('psi')(t)  # spin angle around the body's symmetry axis\n",
    "\n",
    "dot_phi = phi.diff(t)\n",
    "dot_theta = theta.diff(t)\n",
    "dot_psi = psi.diff(t)\n",
    "\n",
    "# generalized coordinates\n",
    "q = sp.Matrix([phi, theta, psi])\n",
    "dot_q = q.diff(t)\n"
   ]
  },
  {
   "cell_type": "code",
   "execution_count": 338,
   "id": "89727eab",
   "metadata": {},
   "outputs": [
    {
     "data": {
      "text/latex": [
       "$\\displaystyle \\left[\\begin{matrix}0.5 I_{xx} \\omega_{x}^{2} + 0.5 I_{yy} \\omega_{y}^{2} + 0.5 I_{zz} \\omega_{z}^{2}\\end{matrix}\\right]$"
      ],
      "text/plain": [
       "Matrix([[0.5*I_xx*omega_x**2 + 0.5*I_yy*omega_y**2 + 0.5*I_zz*omega_z**2]])"
      ]
     },
     "execution_count": 338,
     "metadata": {},
     "output_type": "execute_result"
    }
   ],
   "source": [
    "# inertial matrix \n",
    "I_xx, I_yy, I_zz = symbols('I_xx I_yy I_zz')  # moments of inertia\n",
    "I = sp.Matrix([[I_xx, 0, 0],\n",
    "               [0, I_yy, 0],\n",
    "               [0, 0, I_zz]]) # symmetrical rigid body\n",
    "\n",
    "# Total KE = rotational KE\n",
    "omega_x, omega_y, omega_z = symbols('omega_x omega_y omega_z')\n",
    "omega = sp.Matrix([omega_x, omega_y, omega_z])\n",
    "\n",
    "T = (1/2) * omega.T * I * omega\n",
    "T"
   ]
  },
  {
   "cell_type": "code",
   "execution_count": 339,
   "id": "08e945ba",
   "metadata": {},
   "outputs": [
    {
     "data": {
      "text/latex": [
       "$\\displaystyle \\left[\\begin{matrix}\\sin{\\left(\\psi{\\left(t \\right)} \\right)} \\sin{\\left(\\theta{\\left(t \\right)} \\right)} \\frac{d}{d t} \\phi{\\left(t \\right)} + \\cos{\\left(\\psi{\\left(t \\right)} \\right)} \\frac{d}{d t} \\theta{\\left(t \\right)}\\\\\\sin{\\left(\\theta{\\left(t \\right)} \\right)} \\cos{\\left(\\psi{\\left(t \\right)} \\right)} \\frac{d}{d t} \\phi{\\left(t \\right)} - \\frac{d}{d t} \\theta{\\left(t \\right)}\\\\\\cos{\\left(\\theta{\\left(t \\right)} \\right)} \\frac{d}{d t} \\phi{\\left(t \\right)} + \\frac{d}{d t} \\psi{\\left(t \\right)}\\end{matrix}\\right]$"
      ],
      "text/plain": [
       "Matrix([\n",
       "[sin(psi(t))*sin(theta(t))*Derivative(phi(t), t) + cos(psi(t))*Derivative(theta(t), t)],\n",
       "[            sin(theta(t))*cos(psi(t))*Derivative(phi(t), t) - Derivative(theta(t), t)],\n",
       "[                          cos(theta(t))*Derivative(phi(t), t) + Derivative(psi(t), t)]])"
      ]
     },
     "execution_count": 339,
     "metadata": {},
     "output_type": "execute_result"
    }
   ],
   "source": [
    "# I_1 = I_2 due to axial symmetry\n",
    "# I_3 is the moment about the symmetry axis\n",
    "omega_x = dot_phi * sp.sin(theta) * sp.sin(psi) + dot_theta * sp.cos(psi)\n",
    "omega_y = dot_phi * sp.sin(theta) * sp.cos(psi) - dot_theta\n",
    "omega_z = dot_phi * sp.cos(theta) + dot_psi\n",
    "omega = sp.Matrix([omega_x, omega_y, omega_z])\n",
    "omega"
   ]
  },
  {
   "cell_type": "code",
   "execution_count": 340,
   "id": "e67740e9",
   "metadata": {},
   "outputs": [
    {
     "data": {
      "text/latex": [
       "$\\displaystyle 0.5 I_{xx} \\left(\\sin{\\left(\\psi{\\left(t \\right)} \\right)} \\sin{\\left(\\theta{\\left(t \\right)} \\right)} \\frac{d}{d t} \\phi{\\left(t \\right)} + \\cos{\\left(\\psi{\\left(t \\right)} \\right)} \\frac{d}{d t} \\theta{\\left(t \\right)}\\right)^{2} + 0.5 I_{yy} \\left(\\sin{\\left(\\theta{\\left(t \\right)} \\right)} \\cos{\\left(\\psi{\\left(t \\right)} \\right)} \\frac{d}{d t} \\phi{\\left(t \\right)} - \\frac{d}{d t} \\theta{\\left(t \\right)}\\right)^{2} + 0.5 I_{zz} \\left(\\cos{\\left(\\theta{\\left(t \\right)} \\right)} \\frac{d}{d t} \\phi{\\left(t \\right)} + \\frac{d}{d t} \\psi{\\left(t \\right)}\\right)^{2}$"
      ],
      "text/plain": [
       "0.5*I_xx*(sin(psi(t))*sin(theta(t))*Derivative(phi(t), t) + cos(psi(t))*Derivative(theta(t), t))**2 + 0.5*I_yy*(sin(theta(t))*cos(psi(t))*Derivative(phi(t), t) - Derivative(theta(t), t))**2 + 0.5*I_zz*(cos(theta(t))*Derivative(phi(t), t) + Derivative(psi(t), t))**2"
      ]
     },
     "execution_count": 340,
     "metadata": {},
     "output_type": "execute_result"
    }
   ],
   "source": [
    "from sympy import pprint\n",
    "# compute KE again\n",
    "T = (1 / 2) * omega.T * I * omega\n",
    "T = T[0].simplify()\n",
    "T"
   ]
  },
  {
   "cell_type": "code",
   "execution_count": 341,
   "id": "c4dc3b58",
   "metadata": {},
   "outputs": [
    {
     "data": {
      "text/latex": [
       "$\\displaystyle \\left[\\begin{matrix}\\sin{\\left(\\psi{\\left(t \\right)} \\right)} \\sin{\\left(\\theta{\\left(t \\right)} \\right)} \\frac{d}{d t} \\phi{\\left(t \\right)} + \\cos{\\left(\\psi{\\left(t \\right)} \\right)} \\frac{d}{d t} \\theta{\\left(t \\right)}\\\\- \\sin{\\left(\\psi{\\left(t \\right)} \\right)} \\frac{d}{d t} \\theta{\\left(t \\right)} + \\sin{\\left(\\theta{\\left(t \\right)} \\right)} \\cos{\\left(\\psi{\\left(t \\right)} \\right)} \\frac{d}{d t} \\phi{\\left(t \\right)}\\\\\\cos{\\left(\\theta{\\left(t \\right)} \\right)} \\frac{d}{d t} \\phi{\\left(t \\right)} + \\frac{d}{d t} \\psi{\\left(t \\right)}\\end{matrix}\\right]$"
      ],
      "text/plain": [
       "Matrix([\n",
       "[ sin(psi(t))*sin(theta(t))*Derivative(phi(t), t) + cos(psi(t))*Derivative(theta(t), t)],\n",
       "[-sin(psi(t))*Derivative(theta(t), t) + sin(theta(t))*cos(psi(t))*Derivative(phi(t), t)],\n",
       "[                           cos(theta(t))*Derivative(phi(t), t) + Derivative(psi(t), t)]])"
      ]
     },
     "execution_count": 341,
     "metadata": {},
     "output_type": "execute_result"
    }
   ],
   "source": [
    "## Relation between generalized velocities and angular velocity \n",
    "# omega = B(q) * dot_q\n",
    "\n",
    "# for Z-Y-Z Euler angles, the transformation matrix B(q) is given by:\n",
    "B = sp.Matrix([[sp.sin(theta) * sp.sin(psi), sp.cos(psi), 0],\n",
    "               [sp.sin(theta) * sp.cos(psi), -sp.sin(psi), 0],\n",
    "               [sp.cos(theta), 0, 1]])\n",
    "# B is the jacobian matrix map dot_q in generalized coordinate to omega in body frame\n",
    "\n",
    "omega = B * dot_q\n",
    "omega"
   ]
  },
  {
   "cell_type": "code",
   "execution_count": 342,
   "id": "8a3ea60d",
   "metadata": {},
   "outputs": [
    {
     "data": {
      "text/latex": [
       "$\\displaystyle 0.5 I_{xx} \\left(\\sin{\\left(\\psi{\\left(t \\right)} \\right)} \\sin{\\left(\\theta{\\left(t \\right)} \\right)} \\frac{d}{d t} \\phi{\\left(t \\right)} + \\cos{\\left(\\psi{\\left(t \\right)} \\right)} \\frac{d}{d t} \\theta{\\left(t \\right)}\\right)^{2} + 0.5 I_{yy} \\left(\\sin{\\left(\\psi{\\left(t \\right)} \\right)} \\frac{d}{d t} \\theta{\\left(t \\right)} - \\sin{\\left(\\theta{\\left(t \\right)} \\right)} \\cos{\\left(\\psi{\\left(t \\right)} \\right)} \\frac{d}{d t} \\phi{\\left(t \\right)}\\right)^{2} + 0.5 I_{zz} \\left(\\cos{\\left(\\theta{\\left(t \\right)} \\right)} \\frac{d}{d t} \\phi{\\left(t \\right)} + \\frac{d}{d t} \\psi{\\left(t \\right)}\\right)^{2}$"
      ],
      "text/plain": [
       "0.5*I_xx*(sin(psi(t))*sin(theta(t))*Derivative(phi(t), t) + cos(psi(t))*Derivative(theta(t), t))**2 + 0.5*I_yy*(sin(psi(t))*Derivative(theta(t), t) - sin(theta(t))*cos(psi(t))*Derivative(phi(t), t))**2 + 0.5*I_zz*(cos(theta(t))*Derivative(phi(t), t) + Derivative(psi(t), t))**2"
      ]
     },
     "execution_count": 342,
     "metadata": {},
     "output_type": "execute_result"
    }
   ],
   "source": [
    "## compute KE again \n",
    "T = (1 / 2) * (B * dot_q).T * I * (B * dot_q)\n",
    "T = T[0].simplify()\n",
    "T"
   ]
  },
  {
   "cell_type": "code",
   "execution_count": 343,
   "id": "69253f20",
   "metadata": {},
   "outputs": [
    {
     "data": {
      "text/latex": [
       "$\\displaystyle \\left[\\begin{matrix}I_{xx} \\sin^{2}{\\left(\\psi{\\left(t \\right)} \\right)} \\sin^{2}{\\left(\\theta{\\left(t \\right)} \\right)} + I_{yy} \\sin^{2}{\\left(\\theta{\\left(t \\right)} \\right)} \\cos^{2}{\\left(\\psi{\\left(t \\right)} \\right)} + I_{zz} \\cos^{2}{\\left(\\theta{\\left(t \\right)} \\right)} & \\frac{\\left(I_{xx} - I_{yy}\\right) \\left(\\cos{\\left(2 \\psi{\\left(t \\right)} - \\theta{\\left(t \\right)} \\right)} - \\cos{\\left(2 \\psi{\\left(t \\right)} + \\theta{\\left(t \\right)} \\right)}\\right)}{4} & I_{zz} \\cos{\\left(\\theta{\\left(t \\right)} \\right)}\\\\\\frac{\\left(I_{xx} - I_{yy}\\right) \\left(\\cos{\\left(2 \\psi{\\left(t \\right)} - \\theta{\\left(t \\right)} \\right)} - \\cos{\\left(2 \\psi{\\left(t \\right)} + \\theta{\\left(t \\right)} \\right)}\\right)}{4} & I_{xx} \\cos^{2}{\\left(\\psi{\\left(t \\right)} \\right)} + I_{yy} \\sin^{2}{\\left(\\psi{\\left(t \\right)} \\right)} & 0\\\\I_{zz} \\cos{\\left(\\theta{\\left(t \\right)} \\right)} & 0 & I_{zz}\\end{matrix}\\right]$"
      ],
      "text/plain": [
       "Matrix([\n",
       "[I_xx*sin(psi(t))**2*sin(theta(t))**2 + I_yy*sin(theta(t))**2*cos(psi(t))**2 + I_zz*cos(theta(t))**2, (I_xx - I_yy)*(cos(2*psi(t) - theta(t)) - cos(2*psi(t) + theta(t)))/4, I_zz*cos(theta(t))],\n",
       "[                              (I_xx - I_yy)*(cos(2*psi(t) - theta(t)) - cos(2*psi(t) + theta(t)))/4,                             I_xx*cos(psi(t))**2 + I_yy*sin(psi(t))**2,                  0],\n",
       "[                                                                                 I_zz*cos(theta(t)),                                                                     0,               I_zz]])"
      ]
     },
     "execution_count": 343,
     "metadata": {},
     "output_type": "execute_result"
    }
   ],
   "source": [
    "# mass-inertial matrix\n",
    "M = B.T * I * B\n",
    "M.simplify()\n",
    "M"
   ]
  },
  {
   "cell_type": "code",
   "execution_count": 344,
   "id": "2ca64a55",
   "metadata": {},
   "outputs": [
    {
     "data": {
      "text/latex": [
       "$\\displaystyle 0.5 I_{xx} \\left(\\sin{\\left(\\psi{\\left(t \\right)} \\right)} \\sin{\\left(\\theta{\\left(t \\right)} \\right)} \\frac{d}{d t} \\phi{\\left(t \\right)} + \\cos{\\left(\\psi{\\left(t \\right)} \\right)} \\frac{d}{d t} \\theta{\\left(t \\right)}\\right)^{2} + 0.5 I_{yy} \\left(\\sin{\\left(\\psi{\\left(t \\right)} \\right)} \\frac{d}{d t} \\theta{\\left(t \\right)} - \\sin{\\left(\\theta{\\left(t \\right)} \\right)} \\cos{\\left(\\psi{\\left(t \\right)} \\right)} \\frac{d}{d t} \\phi{\\left(t \\right)}\\right)^{2} + 0.5 I_{zz} \\left(\\cos{\\left(\\theta{\\left(t \\right)} \\right)} \\frac{d}{d t} \\phi{\\left(t \\right)} + \\frac{d}{d t} \\psi{\\left(t \\right)}\\right)^{2}$"
      ],
      "text/plain": [
       "0.5*I_xx*(sin(psi(t))*sin(theta(t))*Derivative(phi(t), t) + cos(psi(t))*Derivative(theta(t), t))**2 + 0.5*I_yy*(sin(psi(t))*Derivative(theta(t), t) - sin(theta(t))*cos(psi(t))*Derivative(phi(t), t))**2 + 0.5*I_zz*(cos(theta(t))*Derivative(phi(t), t) + Derivative(psi(t), t))**2"
      ]
     },
     "execution_count": 344,
     "metadata": {},
     "output_type": "execute_result"
    }
   ],
   "source": [
    "L = T  # no potential energy for free rigid body\n",
    "L"
   ]
  },
  {
   "cell_type": "code",
   "execution_count": 345,
   "id": "dfbe2299",
   "metadata": {},
   "outputs": [
    {
     "data": {
      "text/latex": [
       "$\\displaystyle \\left[\\begin{matrix}0\\\\0\\\\0\\end{matrix}\\right] = \\left[\\begin{matrix}1.0 I_{xx} \\sin^{2}{\\left(\\psi{\\left(t \\right)} \\right)} \\sin^{2}{\\left(\\theta{\\left(t \\right)} \\right)} \\frac{d^{2}}{d t^{2}} \\phi{\\left(t \\right)} + 2.0 I_{xx} \\sin^{2}{\\left(\\psi{\\left(t \\right)} \\right)} \\sin{\\left(\\theta{\\left(t \\right)} \\right)} \\cos{\\left(\\theta{\\left(t \\right)} \\right)} \\frac{d}{d t} \\phi{\\left(t \\right)} \\frac{d}{d t} \\theta{\\left(t \\right)} - 2.0 I_{xx} \\sin^{2}{\\left(\\psi{\\left(t \\right)} \\right)} \\sin{\\left(\\theta{\\left(t \\right)} \\right)} \\frac{d}{d t} \\psi{\\left(t \\right)} \\frac{d}{d t} \\theta{\\left(t \\right)} + 2.0 I_{xx} \\sin{\\left(\\psi{\\left(t \\right)} \\right)} \\sin^{2}{\\left(\\theta{\\left(t \\right)} \\right)} \\cos{\\left(\\psi{\\left(t \\right)} \\right)} \\frac{d}{d t} \\phi{\\left(t \\right)} \\frac{d}{d t} \\psi{\\left(t \\right)} + 1.0 I_{xx} \\sin{\\left(\\psi{\\left(t \\right)} \\right)} \\sin{\\left(\\theta{\\left(t \\right)} \\right)} \\cos{\\left(\\psi{\\left(t \\right)} \\right)} \\frac{d^{2}}{d t^{2}} \\theta{\\left(t \\right)} + 1.0 I_{xx} \\sin{\\left(\\psi{\\left(t \\right)} \\right)} \\cos{\\left(\\psi{\\left(t \\right)} \\right)} \\cos{\\left(\\theta{\\left(t \\right)} \\right)} \\left(\\frac{d}{d t} \\theta{\\left(t \\right)}\\right)^{2} + 1.0 I_{xx} \\sin{\\left(\\theta{\\left(t \\right)} \\right)} \\frac{d}{d t} \\psi{\\left(t \\right)} \\frac{d}{d t} \\theta{\\left(t \\right)} - 1.0 I_{yy} \\sin^{2}{\\left(\\psi{\\left(t \\right)} \\right)} \\sin^{2}{\\left(\\theta{\\left(t \\right)} \\right)} \\frac{d^{2}}{d t^{2}} \\phi{\\left(t \\right)} - 2.0 I_{yy} \\sin^{2}{\\left(\\psi{\\left(t \\right)} \\right)} \\sin{\\left(\\theta{\\left(t \\right)} \\right)} \\cos{\\left(\\theta{\\left(t \\right)} \\right)} \\frac{d}{d t} \\phi{\\left(t \\right)} \\frac{d}{d t} \\theta{\\left(t \\right)} + 2.0 I_{yy} \\sin^{2}{\\left(\\psi{\\left(t \\right)} \\right)} \\sin{\\left(\\theta{\\left(t \\right)} \\right)} \\frac{d}{d t} \\psi{\\left(t \\right)} \\frac{d}{d t} \\theta{\\left(t \\right)} - 2.0 I_{yy} \\sin{\\left(\\psi{\\left(t \\right)} \\right)} \\sin^{2}{\\left(\\theta{\\left(t \\right)} \\right)} \\cos{\\left(\\psi{\\left(t \\right)} \\right)} \\frac{d}{d t} \\phi{\\left(t \\right)} \\frac{d}{d t} \\psi{\\left(t \\right)} - 1.0 I_{yy} \\sin{\\left(\\psi{\\left(t \\right)} \\right)} \\sin{\\left(\\theta{\\left(t \\right)} \\right)} \\cos{\\left(\\psi{\\left(t \\right)} \\right)} \\frac{d^{2}}{d t^{2}} \\theta{\\left(t \\right)} - 1.0 I_{yy} \\sin{\\left(\\psi{\\left(t \\right)} \\right)} \\cos{\\left(\\psi{\\left(t \\right)} \\right)} \\cos{\\left(\\theta{\\left(t \\right)} \\right)} \\left(\\frac{d}{d t} \\theta{\\left(t \\right)}\\right)^{2} + 1.0 I_{yy} \\sin^{2}{\\left(\\theta{\\left(t \\right)} \\right)} \\frac{d^{2}}{d t^{2}} \\phi{\\left(t \\right)} + 2.0 I_{yy} \\sin{\\left(\\theta{\\left(t \\right)} \\right)} \\cos{\\left(\\theta{\\left(t \\right)} \\right)} \\frac{d}{d t} \\phi{\\left(t \\right)} \\frac{d}{d t} \\theta{\\left(t \\right)} - 1.0 I_{yy} \\sin{\\left(\\theta{\\left(t \\right)} \\right)} \\frac{d}{d t} \\psi{\\left(t \\right)} \\frac{d}{d t} \\theta{\\left(t \\right)} - 1.0 I_{zz} \\sin^{2}{\\left(\\theta{\\left(t \\right)} \\right)} \\frac{d^{2}}{d t^{2}} \\phi{\\left(t \\right)} - 2.0 I_{zz} \\sin{\\left(\\theta{\\left(t \\right)} \\right)} \\cos{\\left(\\theta{\\left(t \\right)} \\right)} \\frac{d}{d t} \\phi{\\left(t \\right)} \\frac{d}{d t} \\theta{\\left(t \\right)} - 1.0 I_{zz} \\sin{\\left(\\theta{\\left(t \\right)} \\right)} \\frac{d}{d t} \\psi{\\left(t \\right)} \\frac{d}{d t} \\theta{\\left(t \\right)} + 1.0 I_{zz} \\cos{\\left(\\theta{\\left(t \\right)} \\right)} \\frac{d^{2}}{d t^{2}} \\psi{\\left(t \\right)} + 1.0 I_{zz} \\frac{d^{2}}{d t^{2}} \\phi{\\left(t \\right)}\\\\- 0.125 I_{xx} \\sin{\\left(2 \\psi{\\left(t \\right)} - 2 \\theta{\\left(t \\right)} \\right)} \\left(\\frac{d}{d t} \\phi{\\left(t \\right)}\\right)^{2} - 0.5 I_{xx} \\sin{\\left(2 \\psi{\\left(t \\right)} - \\theta{\\left(t \\right)} \\right)} \\frac{d}{d t} \\phi{\\left(t \\right)} \\frac{d}{d t} \\psi{\\left(t \\right)} + 0.5 I_{xx} \\sin{\\left(2 \\psi{\\left(t \\right)} + \\theta{\\left(t \\right)} \\right)} \\frac{d}{d t} \\phi{\\left(t \\right)} \\frac{d}{d t} \\psi{\\left(t \\right)} + 0.125 I_{xx} \\sin{\\left(2 \\psi{\\left(t \\right)} + 2 \\theta{\\left(t \\right)} \\right)} \\left(\\frac{d}{d t} \\phi{\\left(t \\right)}\\right)^{2} - 1.0 I_{xx} \\sin{\\left(2 \\psi{\\left(t \\right)} \\right)} \\frac{d}{d t} \\psi{\\left(t \\right)} \\frac{d}{d t} \\theta{\\left(t \\right)} - 0.25 I_{xx} \\sin{\\left(2 \\theta{\\left(t \\right)} \\right)} \\left(\\frac{d}{d t} \\phi{\\left(t \\right)}\\right)^{2} + 0.25 I_{xx} \\cos{\\left(2 \\psi{\\left(t \\right)} - \\theta{\\left(t \\right)} \\right)} \\frac{d^{2}}{d t^{2}} \\phi{\\left(t \\right)} - 0.25 I_{xx} \\cos{\\left(2 \\psi{\\left(t \\right)} + \\theta{\\left(t \\right)} \\right)} \\frac{d^{2}}{d t^{2}} \\phi{\\left(t \\right)} + 0.5 I_{xx} \\cos{\\left(2 \\psi{\\left(t \\right)} \\right)} \\frac{d^{2}}{d t^{2}} \\theta{\\left(t \\right)} + 0.5 I_{xx} \\frac{d^{2}}{d t^{2}} \\theta{\\left(t \\right)} + 0.125 I_{yy} \\sin{\\left(2 \\psi{\\left(t \\right)} - 2 \\theta{\\left(t \\right)} \\right)} \\left(\\frac{d}{d t} \\phi{\\left(t \\right)}\\right)^{2} + 0.5 I_{yy} \\sin{\\left(2 \\psi{\\left(t \\right)} - \\theta{\\left(t \\right)} \\right)} \\frac{d}{d t} \\phi{\\left(t \\right)} \\frac{d}{d t} \\psi{\\left(t \\right)} - 0.5 I_{yy} \\sin{\\left(2 \\psi{\\left(t \\right)} + \\theta{\\left(t \\right)} \\right)} \\frac{d}{d t} \\phi{\\left(t \\right)} \\frac{d}{d t} \\psi{\\left(t \\right)} - 0.125 I_{yy} \\sin{\\left(2 \\psi{\\left(t \\right)} + 2 \\theta{\\left(t \\right)} \\right)} \\left(\\frac{d}{d t} \\phi{\\left(t \\right)}\\right)^{2} + 1.0 I_{yy} \\sin{\\left(2 \\psi{\\left(t \\right)} \\right)} \\frac{d}{d t} \\psi{\\left(t \\right)} \\frac{d}{d t} \\theta{\\left(t \\right)} - 0.25 I_{yy} \\sin{\\left(2 \\theta{\\left(t \\right)} \\right)} \\left(\\frac{d}{d t} \\phi{\\left(t \\right)}\\right)^{2} - 0.25 I_{yy} \\cos{\\left(2 \\psi{\\left(t \\right)} - \\theta{\\left(t \\right)} \\right)} \\frac{d^{2}}{d t^{2}} \\phi{\\left(t \\right)} + 0.25 I_{yy} \\cos{\\left(2 \\psi{\\left(t \\right)} + \\theta{\\left(t \\right)} \\right)} \\frac{d^{2}}{d t^{2}} \\phi{\\left(t \\right)} - 0.5 I_{yy} \\cos{\\left(2 \\psi{\\left(t \\right)} \\right)} \\frac{d^{2}}{d t^{2}} \\theta{\\left(t \\right)} + 0.5 I_{yy} \\frac{d^{2}}{d t^{2}} \\theta{\\left(t \\right)} + 1.0 I_{zz} \\sin{\\left(\\theta{\\left(t \\right)} \\right)} \\frac{d}{d t} \\phi{\\left(t \\right)} \\frac{d}{d t} \\psi{\\left(t \\right)} + 0.5 I_{zz} \\sin{\\left(2 \\theta{\\left(t \\right)} \\right)} \\left(\\frac{d}{d t} \\phi{\\left(t \\right)}\\right)^{2}\\\\1.0 I_{xx} \\left(\\sin{\\left(\\psi{\\left(t \\right)} \\right)} \\frac{d}{d t} \\theta{\\left(t \\right)} - \\sin{\\left(\\theta{\\left(t \\right)} \\right)} \\cos{\\left(\\psi{\\left(t \\right)} \\right)} \\frac{d}{d t} \\phi{\\left(t \\right)}\\right) \\left(\\sin{\\left(\\psi{\\left(t \\right)} \\right)} \\sin{\\left(\\theta{\\left(t \\right)} \\right)} \\frac{d}{d t} \\phi{\\left(t \\right)} + \\cos{\\left(\\psi{\\left(t \\right)} \\right)} \\frac{d}{d t} \\theta{\\left(t \\right)}\\right) - 1.0 I_{yy} \\left(\\sin{\\left(\\psi{\\left(t \\right)} \\right)} \\frac{d}{d t} \\theta{\\left(t \\right)} - \\sin{\\left(\\theta{\\left(t \\right)} \\right)} \\cos{\\left(\\psi{\\left(t \\right)} \\right)} \\frac{d}{d t} \\phi{\\left(t \\right)}\\right) \\left(\\sin{\\left(\\psi{\\left(t \\right)} \\right)} \\sin{\\left(\\theta{\\left(t \\right)} \\right)} \\frac{d}{d t} \\phi{\\left(t \\right)} + \\cos{\\left(\\psi{\\left(t \\right)} \\right)} \\frac{d}{d t} \\theta{\\left(t \\right)}\\right) + 1.0 I_{zz} \\left(- \\sin{\\left(\\theta{\\left(t \\right)} \\right)} \\frac{d}{d t} \\phi{\\left(t \\right)} \\frac{d}{d t} \\theta{\\left(t \\right)} + \\cos{\\left(\\theta{\\left(t \\right)} \\right)} \\frac{d^{2}}{d t^{2}} \\phi{\\left(t \\right)} + \\frac{d^{2}}{d t^{2}} \\psi{\\left(t \\right)}\\right)\\end{matrix}\\right]$"
      ],
      "text/plain": [
       "Eq(Matrix([\n",
       "[0],\n",
       "[0],\n",
       "[0]]), Matrix([\n",
       "[1.0*I_xx*sin(psi(t))**2*sin(theta(t))**2*Derivative(phi(t), (t, 2)) + 2.0*I_xx*sin(psi(t))**2*sin(theta(t))*cos(theta(t))*Derivative(phi(t), t)*Derivative(theta(t), t) - 2.0*I_xx*sin(psi(t))**2*sin(theta(t))*Derivative(psi(t), t)*Derivative(theta(t), t) + 2.0*I_xx*sin(psi(t))*sin(theta(t))**2*cos(psi(t))*Derivative(phi(t), t)*Derivative(psi(t), t) + 1.0*I_xx*sin(psi(t))*sin(theta(t))*cos(psi(t))*Derivative(theta(t), (t, 2)) + 1.0*I_xx*sin(psi(t))*cos(psi(t))*cos(theta(t))*Derivative(theta(t), t)**2 + 1.0*I_xx*sin(theta(t))*Derivative(psi(t), t)*Derivative(theta(t), t) - 1.0*I_yy*sin(psi(t))**2*sin(theta(t))**2*Derivative(phi(t), (t, 2)) - 2.0*I_yy*sin(psi(t))**2*sin(theta(t))*cos(theta(t))*Derivative(phi(t), t)*Derivative(theta(t), t) + 2.0*I_yy*sin(psi(t))**2*sin(theta(t))*Derivative(psi(t), t)*Derivative(theta(t), t) - 2.0*I_yy*sin(psi(t))*sin(theta(t))**2*cos(psi(t))*Derivative(phi(t), t)*Derivative(psi(t), t) - 1.0*I_yy*sin(psi(t))*sin(theta(t))*cos(psi(t))*Derivative(theta(t), (t, 2)) - 1.0*I_yy*sin(psi(t))*cos(psi(t))*cos(theta(t))*Derivative(theta(t), t)**2 + 1.0*I_yy*sin(theta(t))**2*Derivative(phi(t), (t, 2)) + 2.0*I_yy*sin(theta(t))*cos(theta(t))*Derivative(phi(t), t)*Derivative(theta(t), t) - 1.0*I_yy*sin(theta(t))*Derivative(psi(t), t)*Derivative(theta(t), t) - 1.0*I_zz*sin(theta(t))**2*Derivative(phi(t), (t, 2)) - 2.0*I_zz*sin(theta(t))*cos(theta(t))*Derivative(phi(t), t)*Derivative(theta(t), t) - 1.0*I_zz*sin(theta(t))*Derivative(psi(t), t)*Derivative(theta(t), t) + 1.0*I_zz*cos(theta(t))*Derivative(psi(t), (t, 2)) + 1.0*I_zz*Derivative(phi(t), (t, 2))],\n",
       "[                                                                                                                                                                                                         -0.125*I_xx*sin(2*psi(t) - 2*theta(t))*Derivative(phi(t), t)**2 - 0.5*I_xx*sin(2*psi(t) - theta(t))*Derivative(phi(t), t)*Derivative(psi(t), t) + 0.5*I_xx*sin(2*psi(t) + theta(t))*Derivative(phi(t), t)*Derivative(psi(t), t) + 0.125*I_xx*sin(2*psi(t) + 2*theta(t))*Derivative(phi(t), t)**2 - 1.0*I_xx*sin(2*psi(t))*Derivative(psi(t), t)*Derivative(theta(t), t) - 0.25*I_xx*sin(2*theta(t))*Derivative(phi(t), t)**2 + 0.25*I_xx*cos(2*psi(t) - theta(t))*Derivative(phi(t), (t, 2)) - 0.25*I_xx*cos(2*psi(t) + theta(t))*Derivative(phi(t), (t, 2)) + 0.5*I_xx*cos(2*psi(t))*Derivative(theta(t), (t, 2)) + 0.5*I_xx*Derivative(theta(t), (t, 2)) + 0.125*I_yy*sin(2*psi(t) - 2*theta(t))*Derivative(phi(t), t)**2 + 0.5*I_yy*sin(2*psi(t) - theta(t))*Derivative(phi(t), t)*Derivative(psi(t), t) - 0.5*I_yy*sin(2*psi(t) + theta(t))*Derivative(phi(t), t)*Derivative(psi(t), t) - 0.125*I_yy*sin(2*psi(t) + 2*theta(t))*Derivative(phi(t), t)**2 + 1.0*I_yy*sin(2*psi(t))*Derivative(psi(t), t)*Derivative(theta(t), t) - 0.25*I_yy*sin(2*theta(t))*Derivative(phi(t), t)**2 - 0.25*I_yy*cos(2*psi(t) - theta(t))*Derivative(phi(t), (t, 2)) + 0.25*I_yy*cos(2*psi(t) + theta(t))*Derivative(phi(t), (t, 2)) - 0.5*I_yy*cos(2*psi(t))*Derivative(theta(t), (t, 2)) + 0.5*I_yy*Derivative(theta(t), (t, 2)) + 1.0*I_zz*sin(theta(t))*Derivative(phi(t), t)*Derivative(psi(t), t) + 0.5*I_zz*sin(2*theta(t))*Derivative(phi(t), t)**2],\n",
       "[                                                                                                                                                                                                                                                                                                                                                                                                                                                                                                                                                                                                                                                                                                                                                                                                                                                                                                                                                                                                                                                                                                                   1.0*I_xx*(sin(psi(t))*Derivative(theta(t), t) - sin(theta(t))*cos(psi(t))*Derivative(phi(t), t))*(sin(psi(t))*sin(theta(t))*Derivative(phi(t), t) + cos(psi(t))*Derivative(theta(t), t)) - 1.0*I_yy*(sin(psi(t))*Derivative(theta(t), t) - sin(theta(t))*cos(psi(t))*Derivative(phi(t), t))*(sin(psi(t))*sin(theta(t))*Derivative(phi(t), t) + cos(psi(t))*Derivative(theta(t), t)) + 1.0*I_zz*(-sin(theta(t))*Derivative(phi(t), t)*Derivative(theta(t), t) + cos(theta(t))*Derivative(phi(t), (t, 2)) + Derivative(psi(t), (t, 2)))]]))"
      ]
     },
     "execution_count": 345,
     "metadata": {},
     "output_type": "execute_result"
    }
   ],
   "source": [
    "dL_ddot_q = L.diff(dot_q)\n",
    "dL_dq = L.diff(q)\n",
    "Q = sp.Matrix([0, 0, 0])  # no external generalized forces\n",
    "\n",
    "EL = sp.Eq(dL_ddot_q.diff(t) - dL_dq, Q)\n",
    "EL.simplify()"
   ]
  },
  {
   "cell_type": "code",
   "execution_count": 350,
   "id": "b8081214",
   "metadata": {},
   "outputs": [
    {
     "data": {
      "text/latex": [
       "$\\displaystyle \\left[\\begin{matrix}I_{xx} \\left(\\sin{\\left(\\psi{\\left(t \\right)} \\right)} \\sin{\\left(\\theta{\\left(t \\right)} \\right)} \\frac{d^{2}}{d t^{2}} \\phi{\\left(t \\right)} + \\sin{\\left(\\psi{\\left(t \\right)} \\right)} \\cos{\\left(\\theta{\\left(t \\right)} \\right)} \\frac{d}{d t} \\phi{\\left(t \\right)} \\frac{d}{d t} \\theta{\\left(t \\right)} - \\sin{\\left(\\psi{\\left(t \\right)} \\right)} \\frac{d}{d t} \\psi{\\left(t \\right)} \\frac{d}{d t} \\theta{\\left(t \\right)} + \\sin{\\left(\\theta{\\left(t \\right)} \\right)} \\cos{\\left(\\psi{\\left(t \\right)} \\right)} \\frac{d}{d t} \\phi{\\left(t \\right)} \\frac{d}{d t} \\psi{\\left(t \\right)} + \\cos{\\left(\\psi{\\left(t \\right)} \\right)} \\frac{d^{2}}{d t^{2}} \\theta{\\left(t \\right)}\\right) - I_{yy} \\left(- \\sin{\\left(\\psi{\\left(t \\right)} \\right)} \\frac{d}{d t} \\theta{\\left(t \\right)} + \\sin{\\left(\\theta{\\left(t \\right)} \\right)} \\cos{\\left(\\psi{\\left(t \\right)} \\right)} \\frac{d}{d t} \\phi{\\left(t \\right)}\\right) \\left(\\cos{\\left(\\theta{\\left(t \\right)} \\right)} \\frac{d}{d t} \\phi{\\left(t \\right)} + \\frac{d}{d t} \\psi{\\left(t \\right)}\\right) + I_{zz} \\left(- \\sin{\\left(\\psi{\\left(t \\right)} \\right)} \\frac{d}{d t} \\theta{\\left(t \\right)} + \\sin{\\left(\\theta{\\left(t \\right)} \\right)} \\cos{\\left(\\psi{\\left(t \\right)} \\right)} \\frac{d}{d t} \\phi{\\left(t \\right)}\\right) \\left(\\cos{\\left(\\theta{\\left(t \\right)} \\right)} \\frac{d}{d t} \\phi{\\left(t \\right)} + \\frac{d}{d t} \\psi{\\left(t \\right)}\\right)\\\\I_{xx} \\left(\\cos{\\left(\\theta{\\left(t \\right)} \\right)} \\frac{d}{d t} \\phi{\\left(t \\right)} + \\frac{d}{d t} \\psi{\\left(t \\right)}\\right) \\left(\\sin{\\left(\\psi{\\left(t \\right)} \\right)} \\sin{\\left(\\theta{\\left(t \\right)} \\right)} \\frac{d}{d t} \\phi{\\left(t \\right)} + \\cos{\\left(\\psi{\\left(t \\right)} \\right)} \\frac{d}{d t} \\theta{\\left(t \\right)}\\right) + I_{yy} \\left(- \\sin{\\left(\\psi{\\left(t \\right)} \\right)} \\sin{\\left(\\theta{\\left(t \\right)} \\right)} \\frac{d}{d t} \\phi{\\left(t \\right)} \\frac{d}{d t} \\psi{\\left(t \\right)} - \\sin{\\left(\\psi{\\left(t \\right)} \\right)} \\frac{d^{2}}{d t^{2}} \\theta{\\left(t \\right)} + \\sin{\\left(\\theta{\\left(t \\right)} \\right)} \\cos{\\left(\\psi{\\left(t \\right)} \\right)} \\frac{d^{2}}{d t^{2}} \\phi{\\left(t \\right)} + \\cos{\\left(\\psi{\\left(t \\right)} \\right)} \\cos{\\left(\\theta{\\left(t \\right)} \\right)} \\frac{d}{d t} \\phi{\\left(t \\right)} \\frac{d}{d t} \\theta{\\left(t \\right)} - \\cos{\\left(\\psi{\\left(t \\right)} \\right)} \\frac{d}{d t} \\psi{\\left(t \\right)} \\frac{d}{d t} \\theta{\\left(t \\right)}\\right) - I_{zz} \\left(\\cos{\\left(\\theta{\\left(t \\right)} \\right)} \\frac{d}{d t} \\phi{\\left(t \\right)} + \\frac{d}{d t} \\psi{\\left(t \\right)}\\right) \\left(\\sin{\\left(\\psi{\\left(t \\right)} \\right)} \\sin{\\left(\\theta{\\left(t \\right)} \\right)} \\frac{d}{d t} \\phi{\\left(t \\right)} + \\cos{\\left(\\psi{\\left(t \\right)} \\right)} \\frac{d}{d t} \\theta{\\left(t \\right)}\\right)\\\\- I_{xx} \\left(- \\sin{\\left(\\psi{\\left(t \\right)} \\right)} \\frac{d}{d t} \\theta{\\left(t \\right)} + \\sin{\\left(\\theta{\\left(t \\right)} \\right)} \\cos{\\left(\\psi{\\left(t \\right)} \\right)} \\frac{d}{d t} \\phi{\\left(t \\right)}\\right) \\left(\\sin{\\left(\\psi{\\left(t \\right)} \\right)} \\sin{\\left(\\theta{\\left(t \\right)} \\right)} \\frac{d}{d t} \\phi{\\left(t \\right)} + \\cos{\\left(\\psi{\\left(t \\right)} \\right)} \\frac{d}{d t} \\theta{\\left(t \\right)}\\right) + I_{yy} \\left(- \\sin{\\left(\\psi{\\left(t \\right)} \\right)} \\frac{d}{d t} \\theta{\\left(t \\right)} + \\sin{\\left(\\theta{\\left(t \\right)} \\right)} \\cos{\\left(\\psi{\\left(t \\right)} \\right)} \\frac{d}{d t} \\phi{\\left(t \\right)}\\right) \\left(\\sin{\\left(\\psi{\\left(t \\right)} \\right)} \\sin{\\left(\\theta{\\left(t \\right)} \\right)} \\frac{d}{d t} \\phi{\\left(t \\right)} + \\cos{\\left(\\psi{\\left(t \\right)} \\right)} \\frac{d}{d t} \\theta{\\left(t \\right)}\\right) + I_{zz} \\left(- \\sin{\\left(\\theta{\\left(t \\right)} \\right)} \\frac{d}{d t} \\phi{\\left(t \\right)} \\frac{d}{d t} \\theta{\\left(t \\right)} + \\cos{\\left(\\theta{\\left(t \\right)} \\right)} \\frac{d^{2}}{d t^{2}} \\phi{\\left(t \\right)} + \\frac{d^{2}}{d t^{2}} \\psi{\\left(t \\right)}\\right)\\end{matrix}\\right]$"
      ],
      "text/plain": [
       "Matrix([\n",
       "[I_xx*(sin(psi(t))*sin(theta(t))*Derivative(phi(t), (t, 2)) + sin(psi(t))*cos(theta(t))*Derivative(phi(t), t)*Derivative(theta(t), t) - sin(psi(t))*Derivative(psi(t), t)*Derivative(theta(t), t) + sin(theta(t))*cos(psi(t))*Derivative(phi(t), t)*Derivative(psi(t), t) + cos(psi(t))*Derivative(theta(t), (t, 2))) - I_yy*(-sin(psi(t))*Derivative(theta(t), t) + sin(theta(t))*cos(psi(t))*Derivative(phi(t), t))*(cos(theta(t))*Derivative(phi(t), t) + Derivative(psi(t), t)) + I_zz*(-sin(psi(t))*Derivative(theta(t), t) + sin(theta(t))*cos(psi(t))*Derivative(phi(t), t))*(cos(theta(t))*Derivative(phi(t), t) + Derivative(psi(t), t))],\n",
       "[ I_xx*(cos(theta(t))*Derivative(phi(t), t) + Derivative(psi(t), t))*(sin(psi(t))*sin(theta(t))*Derivative(phi(t), t) + cos(psi(t))*Derivative(theta(t), t)) + I_yy*(-sin(psi(t))*sin(theta(t))*Derivative(phi(t), t)*Derivative(psi(t), t) - sin(psi(t))*Derivative(theta(t), (t, 2)) + sin(theta(t))*cos(psi(t))*Derivative(phi(t), (t, 2)) + cos(psi(t))*cos(theta(t))*Derivative(phi(t), t)*Derivative(theta(t), t) - cos(psi(t))*Derivative(psi(t), t)*Derivative(theta(t), t)) - I_zz*(cos(theta(t))*Derivative(phi(t), t) + Derivative(psi(t), t))*(sin(psi(t))*sin(theta(t))*Derivative(phi(t), t) + cos(psi(t))*Derivative(theta(t), t))],\n",
       "[                                                                                                                    -I_xx*(-sin(psi(t))*Derivative(theta(t), t) + sin(theta(t))*cos(psi(t))*Derivative(phi(t), t))*(sin(psi(t))*sin(theta(t))*Derivative(phi(t), t) + cos(psi(t))*Derivative(theta(t), t)) + I_yy*(-sin(psi(t))*Derivative(theta(t), t) + sin(theta(t))*cos(psi(t))*Derivative(phi(t), t))*(sin(psi(t))*sin(theta(t))*Derivative(phi(t), t) + cos(psi(t))*Derivative(theta(t), t)) + I_zz*(-sin(theta(t))*Derivative(phi(t), t)*Derivative(theta(t), t) + cos(theta(t))*Derivative(phi(t), (t, 2)) + Derivative(psi(t), (t, 2)))]])"
      ]
     },
     "execution_count": 350,
     "metadata": {},
     "output_type": "execute_result"
    }
   ],
   "source": [
    "verify = I * omega.diff(t) + omega.cross(I * omega)\n",
    "verify"
   ]
  }
 ],
 "metadata": {
  "kernelspec": {
   "display_name": "py10",
   "language": "python",
   "name": "python3"
  },
  "language_info": {
   "codemirror_mode": {
    "name": "ipython",
    "version": 3
   },
   "file_extension": ".py",
   "mimetype": "text/x-python",
   "name": "python",
   "nbconvert_exporter": "python",
   "pygments_lexer": "ipython3",
   "version": "3.10.18"
  }
 },
 "nbformat": 4,
 "nbformat_minor": 5
}
