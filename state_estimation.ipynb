{
 "cells": [
  {
   "cell_type": "code",
   "execution_count": 1,
   "id": "1f954d98",
   "metadata": {},
   "outputs": [],
   "source": [
    "from sympy import symbols, Matrix, Function, init_printing, pprint, trigsimp\n",
    "\n",
    "init_printing(use_unicode=True)"
   ]
  },
  {
   "cell_type": "markdown",
   "id": "15b0ecca",
   "metadata": {},
   "source": [
    "# Kinematic Models and Constraints"
   ]
  },
  {
   "cell_type": "markdown",
   "id": "3f05efda",
   "metadata": {},
   "source": [
    "## Representing Robot Position"
   ]
  },
  {
   "cell_type": "code",
   "execution_count": 2,
   "id": "c9f4e015",
   "metadata": {},
   "outputs": [],
   "source": [
    "X_i, Y_i, X_R, Y_R, P = symbols('X_i Y_i X_R Y_R P')\n",
    "t = symbols(\"t\")\n",
    "\n",
    "# Define x, y, theta as functions of time\n",
    "x = Function(\"x\")(t)\n",
    "y = Function(\"y\")(t)\n",
    "theta = Function(\"theta\")(t)\n",
    "\n",
    "dot_X_R = X_R.diff(\"t\")\n",
    "dot_Y_R = Y_R.diff(\"t\")\n",
    "\n",
    "\n",
    "# State vector\n",
    "zeta_I = Matrix([x, y, theta]) # state vector in global frame\n",
    "dot_zeta_I = zeta_I.diff(t)"
   ]
  },
  {
   "cell_type": "code",
   "execution_count": 3,
   "id": "1a98939a",
   "metadata": {},
   "outputs": [],
   "source": [
    "from sympy import cos, sin, pi\n",
    "def rotation_matrix(theta):\n",
    "    # +ve rotation is clockwise\n",
    "    R = Matrix([[cos(theta), sin(theta), 0],\n",
    "                [-sin(theta),  cos(theta), 0],\n",
    "                [0, 0, 1]])\n",
    "    return R\n",
    "\n",
    "R = rotation_matrix(theta)\n",
    "R_2 = rotation_matrix(pi / 2)"
   ]
  },
  {
   "cell_type": "code",
   "execution_count": 4,
   "id": "4745c9d2",
   "metadata": {},
   "outputs": [],
   "source": [
    "e_1 = Matrix([1, 0, 0])"
   ]
  },
  {
   "cell_type": "code",
   "execution_count": 5,
   "id": "0794cfaa",
   "metadata": {},
   "outputs": [
    {
     "data": {
      "text/latex": [
       "$\\displaystyle \\left[\\begin{matrix}0\\\\-1\\\\0\\end{matrix}\\right]$"
      ],
      "text/plain": [
       "⎡0 ⎤\n",
       "⎢  ⎥\n",
       "⎢-1⎥\n",
       "⎢  ⎥\n",
       "⎣0 ⎦"
      ]
     },
     "execution_count": 5,
     "metadata": {},
     "output_type": "execute_result"
    }
   ],
   "source": [
    "R_2 * e_1\n"
   ]
  },
  {
   "cell_type": "code",
   "execution_count": 6,
   "id": "55e0d64d",
   "metadata": {},
   "outputs": [],
   "source": [
    "dot_zeta_R = R_2 * dot_zeta_I"
   ]
  },
  {
   "cell_type": "code",
   "execution_count": 7,
   "id": "ab3b7dbe",
   "metadata": {},
   "outputs": [
    {
     "data": {
      "text/latex": [
       "$\\displaystyle \\left[\\begin{matrix}\\frac{d}{d t} y{\\left(t \\right)}\\\\- \\frac{d}{d t} x{\\left(t \\right)}\\\\\\frac{d}{d t} \\theta{\\left(t \\right)}\\end{matrix}\\right]$"
      ],
      "text/plain": [
       "⎡d        ⎤\n",
       "⎢──(y(t)) ⎥\n",
       "⎢dt       ⎥\n",
       "⎢         ⎥\n",
       "⎢ d       ⎥\n",
       "⎢-──(x(t))⎥\n",
       "⎢ dt      ⎥\n",
       "⎢         ⎥\n",
       "⎢d        ⎥\n",
       "⎢──(θ(t)) ⎥\n",
       "⎣dt       ⎦"
      ]
     },
     "execution_count": 7,
     "metadata": {},
     "output_type": "execute_result"
    }
   ],
   "source": [
    "dot_zeta_R"
   ]
  },
  {
   "cell_type": "code",
   "execution_count": 8,
   "id": "699167e5",
   "metadata": {},
   "outputs": [
    {
     "data": {
      "text/latex": [
       "$\\displaystyle \\left[\\begin{matrix}\\frac{d}{d t} x{\\left(t \\right)}\\\\\\frac{d}{d t} y{\\left(t \\right)}\\\\\\frac{d}{d t} \\theta{\\left(t \\right)}\\end{matrix}\\right]$"
      ],
      "text/plain": [
       "⎡d       ⎤\n",
       "⎢──(x(t))⎥\n",
       "⎢dt      ⎥\n",
       "⎢        ⎥\n",
       "⎢d       ⎥\n",
       "⎢──(y(t))⎥\n",
       "⎢dt      ⎥\n",
       "⎢        ⎥\n",
       "⎢d       ⎥\n",
       "⎢──(θ(t))⎥\n",
       "⎣dt      ⎦"
      ]
     },
     "execution_count": 8,
     "metadata": {},
     "output_type": "execute_result"
    }
   ],
   "source": [
    "R_2.inv() * dot_zeta_R"
   ]
  },
  {
   "cell_type": "code",
   "execution_count": 9,
   "id": "e77cd8e8",
   "metadata": {},
   "outputs": [
    {
     "data": {
      "text/latex": [
       "$\\displaystyle \\left[\\begin{matrix}\\frac{d}{d t} x{\\left(t \\right)}\\\\\\frac{d}{d t} y{\\left(t \\right)}\\\\\\frac{d}{d t} \\theta{\\left(t \\right)}\\end{matrix}\\right]$"
      ],
      "text/plain": [
       "⎡d       ⎤\n",
       "⎢──(x(t))⎥\n",
       "⎢dt      ⎥\n",
       "⎢        ⎥\n",
       "⎢d       ⎥\n",
       "⎢──(y(t))⎥\n",
       "⎢dt      ⎥\n",
       "⎢        ⎥\n",
       "⎢d       ⎥\n",
       "⎢──(θ(t))⎥\n",
       "⎣dt      ⎦"
      ]
     },
     "execution_count": 9,
     "metadata": {},
     "output_type": "execute_result"
    }
   ],
   "source": [
    "dot_zeta_I\n"
   ]
  },
  {
   "cell_type": "markdown",
   "id": "0335e36b",
   "metadata": {},
   "source": [
    "## Forward Kinematics Model"
   ]
  },
  {
   "cell_type": "code",
   "execution_count": 10,
   "id": "8f1e63ff",
   "metadata": {},
   "outputs": [],
   "source": [
    "# differential drive robot parameters\n",
    "phi_1 = symbols(\"phi_1\")  # right wheel rotation\n",
    "phi_2 = symbols(\"phi_2\")  # left wheel rotation\n",
    "r = symbols(\"r\")          # wheel radius\n",
    "l = symbols(\"l\")          # half the distance between wheels\n",
    "\n"
   ]
  },
  {
   "cell_type": "code",
   "execution_count": 11,
   "id": "789c028a",
   "metadata": {},
   "outputs": [],
   "source": [
    "# forward axis = x-axis of robot frame\n",
    "# contribution comes from both wheels\n",
    "dot_X_R = r * (phi_1 + phi_2) / 2"
   ]
  },
  {
   "cell_type": "code",
   "execution_count": 12,
   "id": "bf9935ff",
   "metadata": {},
   "outputs": [
    {
     "data": {
      "image/png": "[encoded data removed]",
      "text/latex": [
       "$\\displaystyle \\frac{r \\left(\\phi_{1} + \\phi_{2}\\right)}{2}$"
      ],
      "text/plain": [
       "r⋅(φ₁ + φ₂)\n",
       "───────────\n",
       "     2     "
      ]
     },
     "execution_count": 12,
     "metadata": {},
     "output_type": "execute_result"
    }
   ],
   "source": [
    "dot_X_R\n"
   ]
  },
  {
   "cell_type": "code",
   "execution_count": 13,
   "id": "6d5928e0",
   "metadata": {},
   "outputs": [],
   "source": [
    "# horizontal axis = y-axis of robot frame\n",
    "# no lateral motion\n",
    "dot_Y_R = 0"
   ]
  },
  {
   "cell_type": "code",
   "execution_count": 14,
   "id": "a4704a2a",
   "metadata": {},
   "outputs": [
    {
     "data": {
      "image/png": "[encoded data removed]",
      "text/latex": [
       "$\\displaystyle 0$"
      ],
      "text/plain": [
       "0"
      ]
     },
     "execution_count": 14,
     "metadata": {},
     "output_type": "execute_result"
    }
   ],
   "source": [
    "dot_Y_R"
   ]
  },
  {
   "cell_type": "code",
   "execution_count": 15,
   "id": "c56649fc",
   "metadata": {},
   "outputs": [],
   "source": [
    "# rotational velocity around the center\n",
    "# difference in wheel rotations\n",
    "dot_theta = r * (phi_1 - phi_2) / (2 * l)"
   ]
  },
  {
   "cell_type": "code",
   "execution_count": 16,
   "id": "7dda6fb8",
   "metadata": {},
   "outputs": [
    {
     "data": {
      "image/png": "[encoded data removed]",
      "text/latex": [
       "$\\displaystyle \\frac{r \\left(\\phi_{1} - \\phi_{2}\\right)}{2 l}$"
      ],
      "text/plain": [
       "r⋅(φ₁ - φ₂)\n",
       "───────────\n",
       "    2⋅l    "
      ]
     },
     "execution_count": 16,
     "metadata": {},
     "output_type": "execute_result"
    }
   ],
   "source": [
    "dot_theta\n"
   ]
  },
  {
   "cell_type": "code",
   "execution_count": 17,
   "id": "4f4e59fd",
   "metadata": {},
   "outputs": [],
   "source": [
    "dot_zeta_R = Matrix([dot_X_R, dot_Y_R, dot_theta])"
   ]
  },
  {
   "cell_type": "code",
   "execution_count": 18,
   "id": "7a815ea7",
   "metadata": {},
   "outputs": [
    {
     "data": {
      "text/latex": [
       "$\\displaystyle \\left[\\begin{matrix}\\frac{r \\left(\\phi_{1} + \\phi_{2}\\right)}{2}\\\\0\\\\\\frac{r \\left(\\phi_{1} - \\phi_{2}\\right)}{2 l}\\end{matrix}\\right]$"
      ],
      "text/plain": [
       "⎡r⋅(φ₁ + φ₂)⎤\n",
       "⎢───────────⎥\n",
       "⎢     2     ⎥\n",
       "⎢           ⎥\n",
       "⎢     0     ⎥\n",
       "⎢           ⎥\n",
       "⎢r⋅(φ₁ - φ₂)⎥\n",
       "⎢───────────⎥\n",
       "⎣    2⋅l    ⎦"
      ]
     },
     "execution_count": 18,
     "metadata": {},
     "output_type": "execute_result"
    }
   ],
   "source": [
    "dot_zeta_R\n"
   ]
  },
  {
   "cell_type": "code",
   "execution_count": 19,
   "id": "64d23801",
   "metadata": {},
   "outputs": [],
   "source": [
    "R_inv = trigsimp(R.inv())"
   ]
  },
  {
   "cell_type": "code",
   "execution_count": 20,
   "id": "80346e67",
   "metadata": {},
   "outputs": [],
   "source": [
    "dot_zeta_I = R_inv * dot_zeta_R\n",
    "dot_zeta_R = R * dot_zeta_I"
   ]
  },
  {
   "cell_type": "code",
   "execution_count": 21,
   "id": "1dbe8bbf",
   "metadata": {},
   "outputs": [
    {
     "data": {
      "text/latex": [
       "$\\displaystyle \\left[\\begin{matrix}\\frac{r \\left(\\phi_{1} + \\phi_{2}\\right)}{2}\\\\0\\\\\\frac{r \\left(\\phi_{1} - \\phi_{2}\\right)}{2 l}\\end{matrix}\\right]$"
      ],
      "text/plain": [
       "⎡r⋅(φ₁ + φ₂)⎤\n",
       "⎢───────────⎥\n",
       "⎢     2     ⎥\n",
       "⎢           ⎥\n",
       "⎢     0     ⎥\n",
       "⎢           ⎥\n",
       "⎢r⋅(φ₁ - φ₂)⎥\n",
       "⎢───────────⎥\n",
       "⎣    2⋅l    ⎦"
      ]
     },
     "execution_count": 21,
     "metadata": {},
     "output_type": "execute_result"
    }
   ],
   "source": [
    "trigsimp(dot_zeta_R)"
   ]
  },
  {
   "cell_type": "code",
   "execution_count": 22,
   "id": "fededa98",
   "metadata": {},
   "outputs": [
    {
     "data": {
      "text/latex": [
       "$\\displaystyle \\left[\\begin{matrix}\\frac{r \\left(\\phi_{1} + \\phi_{2}\\right) \\cos{\\left(\\theta{\\left(t \\right)} \\right)}}{2}\\\\\\frac{r \\left(\\phi_{1} + \\phi_{2}\\right) \\sin{\\left(\\theta{\\left(t \\right)} \\right)}}{2}\\\\\\frac{r \\left(\\phi_{1} - \\phi_{2}\\right)}{2 l}\\end{matrix}\\right]$"
      ],
      "text/plain": [
       "⎡r⋅(φ₁ + φ₂)⋅cos(θ(t))⎤\n",
       "⎢─────────────────────⎥\n",
       "⎢          2          ⎥\n",
       "⎢                     ⎥\n",
       "⎢r⋅(φ₁ + φ₂)⋅sin(θ(t))⎥\n",
       "⎢─────────────────────⎥\n",
       "⎢          2          ⎥\n",
       "⎢                     ⎥\n",
       "⎢     r⋅(φ₁ - φ₂)     ⎥\n",
       "⎢     ───────────     ⎥\n",
       "⎣         2⋅l         ⎦"
      ]
     },
     "execution_count": 22,
     "metadata": {},
     "output_type": "execute_result"
    }
   ],
   "source": [
    "dot_zeta_I"
   ]
  },
  {
   "cell_type": "code",
   "execution_count": 23,
   "id": "8d0944bf",
   "metadata": {},
   "outputs": [
    {
     "data": {
      "text/latex": [
       "$\\displaystyle \\left[\\begin{matrix}0\\\\3\\\\1\\end{matrix}\\right]$"
      ],
      "text/plain": [
       "⎡0⎤\n",
       "⎢ ⎥\n",
       "⎢3⎥\n",
       "⎢ ⎥\n",
       "⎣1⎦"
      ]
     },
     "execution_count": 23,
     "metadata": {},
     "output_type": "execute_result"
    }
   ],
   "source": [
    "dot_zeta_I\\\n",
    "    .subs(l, 1)\\\n",
    "    .subs(r, 1)\\\n",
    "    .subs(theta, pi/2)\\\n",
    "    .subs(phi_1, 4)\\\n",
    "    .subs(phi_2, 2)"
   ]
  },
  {
   "cell_type": "markdown",
   "id": "16043273",
   "metadata": {},
   "source": [
    "## Wheel kinematic constraints"
   ]
  },
  {
   "cell_type": "markdown",
   "id": "676516e9",
   "metadata": {},
   "source": [
    "Assumptions:\n",
    "- No slipping or skidding of the wheels\n",
    "- the plan of the wheel is always vertical to the ground\n",
    "- only 1 single point of contact between the wheel and the ground\n",
    "- rolling contact\n",
    "- no lateral slippage"
   ]
  },
  {
   "cell_type": "markdown",
   "id": "313d1d18",
   "metadata": {},
   "source": [
    "### Fixed standard wheel constraints"
   ]
  },
  {
   "attachments": {
    "1D21C6F8-EE84-4647-9D7C-B05F2186AB31.png": {
     "image/png": "[encoded data removed]"
    }
   },
   "cell_type": "markdown",
   "id": "14eb686b",
   "metadata": {},
   "source": [
    "- no vertical axis of rotation for steering\n",
    "- only motion back and forth along the wheel plane\n",
    "\n",
    "all motion along the direction of the wheel plane must be accompanied by appropriate amount of wheel rotation so that there is no slipping at the contact point\n",
    "\n",
    "![1D21C6F8-EE84-4647-9D7C-B05F2186AB31.png](attachment:1D21C6F8-EE84-4647-9D7C-B05F2186AB31.png)"
   ]
  },
  {
   "cell_type": "code",
   "execution_count": 24,
   "id": "418bc852",
   "metadata": {},
   "outputs": [],
   "source": [
    "# Fixed wheel parameters\n",
    "t = symbols(\"t\")\n",
    "# P is the origin of the robot reference frame\n",
    "alpha, l = symbols(\"alpha l\")  # polar coordinates of wheel\n",
    "beta = symbols(\"beta\")  # the angle of the wheel plane relative to robot chassis\n",
    "r = symbols(\"r\")  # wheel radius\n",
    "phi = Function(\"phi\")(t)  # wheel rotational position, +ve = clockwise\n",
    "dot_phi = phi.diff(t)\n",
    "\n",
    "x, y, theta = Function(\"x\")(t), Function(\"y\")(t), Function(\"theta\")(t)\n",
    "zeta_I = Matrix([x, y, theta])  # state vector in global frame\n",
    "dot_zeta_I = zeta_I.diff(t)"
   ]
  },
  {
   "cell_type": "code",
   "execution_count": 25,
   "id": "1f71e82d",
   "metadata": {},
   "outputs": [
    {
     "data": {
      "text/latex": [
       "$\\displaystyle \\left[\\begin{matrix}\\sin{\\left(\\alpha + \\beta \\right)} & - \\cos{\\left(\\alpha + \\beta \\right)} & - l \\cos{\\left(\\beta \\right)}\\end{matrix}\\right]$"
      ],
      "text/plain": [
       "[sin(α + β)  -cos(α + β)  -l⋅cos(β)]"
      ]
     },
     "execution_count": 25,
     "metadata": {},
     "output_type": "execute_result"
    }
   ],
   "source": [
    "Matrix([sin(alpha + beta), -cos(alpha + beta), (-l) * cos(beta)]).transpose()"
   ]
  },
  {
   "cell_type": "code",
   "execution_count": 26,
   "id": "8d938b96",
   "metadata": {},
   "outputs": [
    {
     "data": {
      "image/png": "[encoded data removed]",
      "text/latex": [
       "$\\displaystyle - l \\cos{\\left(\\beta \\right)} \\frac{d}{d t} \\theta{\\left(t \\right)} - r \\frac{d}{d t} \\phi{\\left(t \\right)} - \\left(- \\sin{\\left(\\theta{\\left(t \\right)} \\right)} \\frac{d}{d t} x{\\left(t \\right)} + \\cos{\\left(\\theta{\\left(t \\right)} \\right)} \\frac{d}{d t} y{\\left(t \\right)}\\right) \\cos{\\left(\\alpha + \\beta \\right)} + \\left(\\sin{\\left(\\theta{\\left(t \\right)} \\right)} \\frac{d}{d t} y{\\left(t \\right)} + \\cos{\\left(\\theta{\\left(t \\right)} \\right)} \\frac{d}{d t} x{\\left(t \\right)}\\right) \\sin{\\left(\\alpha + \\beta \\right)} = 0$"
      ],
      "text/plain": [
       "           d            d          ⎛            d                    d       ⎞ ↪\n",
       "- l⋅cos(β)⋅──(θ(t)) - r⋅──(φ(t)) - ⎜- sin(θ(t))⋅──(x(t)) + cos(θ(t))⋅──(y(t))⎟ ↪\n",
       "           dt           dt         ⎝            dt                   dt      ⎠ ↪\n",
       "\n",
       "↪               ⎛          d                    d       ⎞               \n",
       "↪ ⋅cos(α + β) + ⎜sin(θ(t))⋅──(y(t)) + cos(θ(t))⋅──(x(t))⎟⋅sin(α + β) = 0\n",
       "↪               ⎝          dt                   dt      ⎠               "
      ]
     },
     "execution_count": 26,
     "metadata": {},
     "output_type": "execute_result"
    }
   ],
   "source": [
    "from sympy import Eq \n",
    "\n",
    "dot_zeta_R = R * dot_zeta_I\n",
    "\n",
    "A = Matrix([[sin(alpha + beta), -cos(alpha + beta), -l * cos(beta)]])\n",
    "lhs = (A * dot_zeta_R)[0]  # pick the scalar element of the 1x1 matrix\n",
    "\n",
    "rolling_constraint = Eq(lhs - r * dot_phi, 0)\n",
    "rolling_constraint"
   ]
  },
  {
   "cell_type": "code",
   "execution_count": 27,
   "id": "edbeabc5",
   "metadata": {},
   "outputs": [
    {
     "data": {
      "image/png": "[encoded data removed]",
      "text/latex": [
       "$\\displaystyle l \\sin{\\left(\\beta \\right)} \\frac{d}{d t} \\theta{\\left(t \\right)} + \\left(- \\sin{\\left(\\theta{\\left(t \\right)} \\right)} \\frac{d}{d t} x{\\left(t \\right)} + \\cos{\\left(\\theta{\\left(t \\right)} \\right)} \\frac{d}{d t} y{\\left(t \\right)}\\right) \\sin{\\left(\\alpha + \\beta \\right)} + \\left(\\sin{\\left(\\theta{\\left(t \\right)} \\right)} \\frac{d}{d t} y{\\left(t \\right)} + \\cos{\\left(\\theta{\\left(t \\right)} \\right)} \\frac{d}{d t} x{\\left(t \\right)}\\right) \\cos{\\left(\\alpha + \\beta \\right)} = 0$"
      ],
      "text/plain": [
       "         d          ⎛            d                    d       ⎞              ⎛ ↪\n",
       "l⋅sin(β)⋅──(θ(t)) + ⎜- sin(θ(t))⋅──(x(t)) + cos(θ(t))⋅──(y(t))⎟⋅sin(α + β) + ⎜ ↪\n",
       "         dt         ⎝            dt                   dt      ⎠              ⎝ ↪\n",
       "\n",
       "↪           d                    d       ⎞               \n",
       "↪ sin(θ(t))⋅──(y(t)) + cos(θ(t))⋅──(x(t))⎟⋅cos(α + β) = 0\n",
       "↪           dt                   dt      ⎠               "
      ]
     },
     "execution_count": 27,
     "metadata": {},
     "output_type": "execute_result"
    }
   ],
   "source": [
    "# sliding constraint\n",
    "dot_zeta_R = R * dot_zeta_I\n",
    "A = Matrix([[ cos(alpha + beta), sin(alpha + beta), l * sin(beta)]])\n",
    "lhs = (A * dot_zeta_R)[0]  # pick the scalar element of the 1x1 matrix\n",
    "\n",
    "sliding_constraint = Eq(lhs, 0)\n",
    "sliding_constraint"
   ]
  },
  {
   "cell_type": "code",
   "execution_count": 28,
   "id": "f1017ff2",
   "metadata": {},
   "outputs": [],
   "source": [
    "from sympy import solve\n",
    "dot_phi_solution = solve(rolling_constraint, dot_phi)[0]"
   ]
  },
  {
   "cell_type": "code",
   "execution_count": 29,
   "id": "eefcbf25",
   "metadata": {},
   "outputs": [
    {
     "data": {
      "image/png": "[encoded data removed]",
      "text/latex": [
       "$\\displaystyle \\frac{- l \\cos{\\left(\\beta \\right)} \\frac{d}{d t} \\theta{\\left(t \\right)} + \\sin{\\left(\\alpha + \\beta + \\theta{\\left(t \\right)} \\right)} \\frac{d}{d t} x{\\left(t \\right)} - \\cos{\\left(\\alpha + \\beta + \\theta{\\left(t \\right)} \\right)} \\frac{d}{d t} y{\\left(t \\right)}}{r}$"
      ],
      "text/plain": [
       "           d                            d                            d       \n",
       "- l⋅cos(β)⋅──(θ(t)) + sin(α + β + θ(t))⋅──(x(t)) - cos(α + β + θ(t))⋅──(y(t))\n",
       "           dt                           dt                           dt      \n",
       "─────────────────────────────────────────────────────────────────────────────\n",
       "                                      r                                      "
      ]
     },
     "execution_count": 29,
     "metadata": {},
     "output_type": "execute_result"
    }
   ],
   "source": [
    "dot_phi_solution"
   ]
  },
  {
   "cell_type": "markdown",
   "id": "d067c739",
   "metadata": {},
   "source": [
    "### Steering standard wheel constraints\n",
    "- beta is now a function of time\n",
    "- dot_beta does not have direct impact on the instantaneous motion constraints of the robot\n",
    "- lateral velocity at B equals that produced by steering roatation around A"
   ]
  },
  {
   "cell_type": "code",
   "execution_count": 30,
   "id": "bcbfdede",
   "metadata": {},
   "outputs": [],
   "source": [
    "beta = Function(\"beta\")(t)  # now a function of time\n",
    "dot_beta = beta.diff(t)"
   ]
  },
  {
   "cell_type": "code",
   "execution_count": 31,
   "id": "40eb7cb8",
   "metadata": {},
   "outputs": [
    {
     "data": {
      "image/png": "[encoded data removed]",
      "text/latex": [
       "$\\displaystyle - l \\cos{\\left(\\beta{\\left(t \\right)} \\right)} \\frac{d}{d t} \\theta{\\left(t \\right)} - r \\frac{d}{d t} \\phi{\\left(t \\right)} - \\left(- \\sin{\\left(\\theta{\\left(t \\right)} \\right)} \\frac{d}{d t} x{\\left(t \\right)} + \\cos{\\left(\\theta{\\left(t \\right)} \\right)} \\frac{d}{d t} y{\\left(t \\right)}\\right) \\cos{\\left(\\alpha + \\beta{\\left(t \\right)} \\right)} + \\left(\\sin{\\left(\\theta{\\left(t \\right)} \\right)} \\frac{d}{d t} y{\\left(t \\right)} + \\cos{\\left(\\theta{\\left(t \\right)} \\right)} \\frac{d}{d t} x{\\left(t \\right)}\\right) \\sin{\\left(\\alpha + \\beta{\\left(t \\right)} \\right)} = 0$"
      ],
      "text/plain": [
       "              d            d          ⎛            d                    d      ↪\n",
       "- l⋅cos(β(t))⋅──(θ(t)) - r⋅──(φ(t)) - ⎜- sin(θ(t))⋅──(x(t)) + cos(θ(t))⋅──(y(t ↪\n",
       "              dt           dt         ⎝            dt                   dt     ↪\n",
       "\n",
       "↪   ⎞                 ⎛          d                    d       ⎞                ↪\n",
       "↪ ))⎟⋅cos(α + β(t)) + ⎜sin(θ(t))⋅──(y(t)) + cos(θ(t))⋅──(x(t))⎟⋅sin(α + β(t))  ↪\n",
       "↪   ⎠                 ⎝          dt                   dt      ⎠                ↪\n",
       "\n",
       "↪    \n",
       "↪ = 0\n",
       "↪    "
      ]
     },
     "execution_count": 31,
     "metadata": {},
     "output_type": "execute_result"
    }
   ],
   "source": [
    "dot_zeta_R = R * dot_zeta_I\n",
    "\n",
    "A = Matrix([[sin(alpha + beta), -cos(alpha + beta), -l * cos(beta)]])\n",
    "lhs = (A * dot_zeta_R)[0]  # pick the scalar element of the 1x1 matrix\n",
    "\n",
    "rolling_constraint = Eq(lhs - r * dot_phi, 0)\n",
    "rolling_constraint\n"
   ]
  },
  {
   "cell_type": "code",
   "execution_count": 32,
   "id": "3a553a12",
   "metadata": {},
   "outputs": [
    {
     "data": {
      "image/png": "[encoded data removed]",
      "text/latex": [
       "$\\displaystyle l \\sin{\\left(\\beta{\\left(t \\right)} \\right)} \\frac{d}{d t} \\theta{\\left(t \\right)} + \\left(- \\sin{\\left(\\theta{\\left(t \\right)} \\right)} \\frac{d}{d t} x{\\left(t \\right)} + \\cos{\\left(\\theta{\\left(t \\right)} \\right)} \\frac{d}{d t} y{\\left(t \\right)}\\right) \\sin{\\left(\\alpha + \\beta{\\left(t \\right)} \\right)} + \\left(\\sin{\\left(\\theta{\\left(t \\right)} \\right)} \\frac{d}{d t} y{\\left(t \\right)} + \\cos{\\left(\\theta{\\left(t \\right)} \\right)} \\frac{d}{d t} x{\\left(t \\right)}\\right) \\cos{\\left(\\alpha + \\beta{\\left(t \\right)} \\right)} = 0$"
      ],
      "text/plain": [
       "            d          ⎛            d                    d       ⎞             ↪\n",
       "l⋅sin(β(t))⋅──(θ(t)) + ⎜- sin(θ(t))⋅──(x(t)) + cos(θ(t))⋅──(y(t))⎟⋅sin(α + β(t ↪\n",
       "            dt         ⎝            dt                   dt      ⎠             ↪\n",
       "\n",
       "↪      ⎛          d                    d       ⎞                  \n",
       "↪ )) + ⎜sin(θ(t))⋅──(y(t)) + cos(θ(t))⋅──(x(t))⎟⋅cos(α + β(t)) = 0\n",
       "↪      ⎝          dt                   dt      ⎠                  "
      ]
     },
     "execution_count": 32,
     "metadata": {},
     "output_type": "execute_result"
    }
   ],
   "source": [
    "# sliding constraint\n",
    "dot_zeta_R = R * dot_zeta_I\n",
    "A = Matrix([[cos(alpha + beta), sin(alpha + beta), l * sin(beta)]])\n",
    "lhs = (A * dot_zeta_R)[0]  # pick the scalar element of the 1x1 matrix\n",
    "\n",
    "sliding_constraint = Eq(lhs, 0)\n",
    "sliding_constraint\n"
   ]
  },
  {
   "cell_type": "markdown",
   "id": "09819402",
   "metadata": {},
   "source": [
    "### castor wheel constraints\n",
    "- the vertical axis of rotation does not pass through the ground contact point"
   ]
  },
  {
   "cell_type": "code",
   "execution_count": 33,
   "id": "b0ca0a85",
   "metadata": {},
   "outputs": [
    {
     "data": {
      "image/png": "[encoded data removed]",
      "text/latex": [
       "$\\displaystyle - l \\cos{\\left(\\beta{\\left(t \\right)} \\right)} \\frac{d}{d t} \\theta{\\left(t \\right)} - r \\frac{d}{d t} \\phi{\\left(t \\right)} - \\left(- \\sin{\\left(\\theta{\\left(t \\right)} \\right)} \\frac{d}{d t} x{\\left(t \\right)} + \\cos{\\left(\\theta{\\left(t \\right)} \\right)} \\frac{d}{d t} y{\\left(t \\right)}\\right) \\cos{\\left(\\alpha + \\beta{\\left(t \\right)} \\right)} + \\left(\\sin{\\left(\\theta{\\left(t \\right)} \\right)} \\frac{d}{d t} y{\\left(t \\right)} + \\cos{\\left(\\theta{\\left(t \\right)} \\right)} \\frac{d}{d t} x{\\left(t \\right)}\\right) \\sin{\\left(\\alpha + \\beta{\\left(t \\right)} \\right)} = 0$"
      ],
      "text/plain": [
       "              d            d          ⎛            d                    d      ↪\n",
       "- l⋅cos(β(t))⋅──(θ(t)) - r⋅──(φ(t)) - ⎜- sin(θ(t))⋅──(x(t)) + cos(θ(t))⋅──(y(t ↪\n",
       "              dt           dt         ⎝            dt                   dt     ↪\n",
       "\n",
       "↪   ⎞                 ⎛          d                    d       ⎞                ↪\n",
       "↪ ))⎟⋅cos(α + β(t)) + ⎜sin(θ(t))⋅──(y(t)) + cos(θ(t))⋅──(x(t))⎟⋅sin(α + β(t))  ↪\n",
       "↪   ⎠                 ⎝          dt                   dt      ⎠                ↪\n",
       "\n",
       "↪    \n",
       "↪ = 0\n",
       "↪    "
      ]
     },
     "execution_count": 33,
     "metadata": {},
     "output_type": "execute_result"
    }
   ],
   "source": [
    "dot_zeta_R = R * dot_zeta_I\n",
    "\n",
    "A = Matrix([[sin(alpha + beta), -cos(alpha + beta), -l * cos(beta)]])\n",
    "lhs = (A * dot_zeta_R)[0]  # pick the scalar element of the 1x1 matrix\n",
    "\n",
    "rolling_constraint = Eq(lhs - r * dot_phi, 0)\n",
    "rolling_constraint\n"
   ]
  },
  {
   "cell_type": "markdown",
   "id": "df7634e1",
   "metadata": {},
   "source": [
    "### Swedish wheel constraints"
   ]
  },
  {
   "cell_type": "code",
   "execution_count": 34,
   "id": "65a5ec5c",
   "metadata": {},
   "outputs": [
    {
     "data": {
      "image/png": "[encoded data removed]",
      "text/latex": [
       "$\\displaystyle \\left( - wheel_{base radius} \\cos{\\left(roller_{angle} + steer_{angle} \\right)} \\frac{d}{d t} \\operatorname{heading}{\\left(t \\right)} - wheel_{radius} \\cos{\\left(roller_{angle} \\right)} \\frac{d}{d t} \\operatorname{wheel}_{spin}{\\left(t \\right)} - \\left(- \\sin{\\left(\\operatorname{heading}{\\left(t \\right)} \\right)} \\frac{d}{d t} x_{robot}{\\left(t \\right)} + \\cos{\\left(\\operatorname{heading}{\\left(t \\right)} \\right)} \\frac{d}{d t} y_{robot}{\\left(t \\right)}\\right) \\cos{\\left(roller_{angle} + steer_{angle} + wheel_{pos angle} \\right)} + \\left(\\sin{\\left(\\operatorname{heading}{\\left(t \\right)} \\right)} \\frac{d}{d t} y_{robot}{\\left(t \\right)} + \\cos{\\left(\\operatorname{heading}{\\left(t \\right)} \\right)} \\frac{d}{d t} x_{robot}{\\left(t \\right)}\\right) \\sin{\\left(roller_{angle} + steer_{angle} + wheel_{pos angle} \\right)} = 0, \\  wheel_{base radius} \\sin{\\left(roller_{angle} + steer_{angle} \\right)} \\frac{d}{d t} \\operatorname{heading}{\\left(t \\right)} - wheel_{radius} \\sin{\\left(roller_{angle} \\right)} \\frac{d}{d t} \\operatorname{wheel}_{spin}{\\left(t \\right)} + \\left(- \\sin{\\left(\\operatorname{heading}{\\left(t \\right)} \\right)} \\frac{d}{d t} x_{robot}{\\left(t \\right)} + \\cos{\\left(\\operatorname{heading}{\\left(t \\right)} \\right)} \\frac{d}{d t} y_{robot}{\\left(t \\right)}\\right) \\sin{\\left(roller_{angle} + steer_{angle} + wheel_{pos angle} \\right)} + \\left(\\sin{\\left(\\operatorname{heading}{\\left(t \\right)} \\right)} \\frac{d}{d t} y_{robot}{\\left(t \\right)} + \\cos{\\left(\\operatorname{heading}{\\left(t \\right)} \\right)} \\frac{d}{d t} x_{robot}{\\left(t \\right)}\\right) \\cos{\\left(roller_{angle} + steer_{angle} + wheel_{pos angle} \\right)} = 0\\right)$"
      ],
      "text/plain": [
       "⎛                                                    d                         ↪\n",
       "⎜- wheel_base_radius⋅cos(roller_angle + steer_angle)⋅──(heading(t)) - wheel_ra ↪\n",
       "⎝                                                    dt                        ↪\n",
       "\n",
       "↪                        d                  ⎛                  d               ↪\n",
       "↪ dius⋅cos(roller_angle)⋅──(wheelₛₚᵢₙ(t)) - ⎜- sin(heading(t))⋅──(x_robot(t))  ↪\n",
       "↪                        dt                 ⎝                  dt              ↪\n",
       "\n",
       "↪                   d             ⎞                                            ↪\n",
       "↪ + cos(heading(t))⋅──(y_robot(t))⎟⋅cos(roller_angle + steer_angle + wheel_pos ↪\n",
       "↪                   dt            ⎠                                            ↪\n",
       "\n",
       "↪           ⎛                d                                d             ⎞  ↪\n",
       "↪ _angle) + ⎜sin(heading(t))⋅──(y_robot(t)) + cos(heading(t))⋅──(x_robot(t))⎟⋅ ↪\n",
       "↪           ⎝                dt                               dt            ⎠  ↪\n",
       "\n",
       "↪                                                                              ↪\n",
       "↪ sin(roller_angle + steer_angle + wheel_pos_angle) = 0, wheel_base_radius⋅sin ↪\n",
       "↪                                                                              ↪\n",
       "\n",
       "↪                              d                                               ↪\n",
       "↪ (roller_angle + steer_angle)⋅──(heading(t)) - wheel_radius⋅sin(roller_angle) ↪\n",
       "↪                              dt                                              ↪\n",
       "\n",
       "↪  d                  ⎛                  d                                d    ↪\n",
       "↪ ⋅──(wheelₛₚᵢₙ(t)) + ⎜- sin(heading(t))⋅──(x_robot(t)) + cos(heading(t))⋅──(y ↪\n",
       "↪  dt                 ⎝                  dt                               dt   ↪\n",
       "\n",
       "↪           ⎞                                                     ⎛            ↪\n",
       "↪ _robot(t))⎟⋅sin(roller_angle + steer_angle + wheel_pos_angle) + ⎜sin(heading ↪\n",
       "↪           ⎠                                                     ⎝            ↪\n",
       "\n",
       "↪      d                                d             ⎞                        ↪\n",
       "↪ (t))⋅──(y_robot(t)) + cos(heading(t))⋅──(x_robot(t))⎟⋅cos(roller_angle + ste ↪\n",
       "↪      dt                               dt            ⎠                        ↪\n",
       "\n",
       "↪                                ⎞\n",
       "↪ er_angle + wheel_pos_angle) = 0⎟\n",
       "↪                                ⎠"
      ]
     },
     "execution_count": 34,
     "metadata": {},
     "output_type": "execute_result"
    }
   ],
   "source": [
    "# Time symbol\n",
    "t = symbols(\"t\")\n",
    "\n",
    "# --- Wheel & robot parameters ---\n",
    "wheel_pos_angle, steer_angle, roller_angle = symbols(\n",
    "    \"wheel_pos_angle steer_angle roller_angle\"\n",
    ")  # geometry angles\n",
    "wheel_base_radius, wheel_radius = symbols(\n",
    "    \"wheel_base_radius wheel_radius\"\n",
    ")  # l, r in your notes\n",
    "\n",
    "# --- Robot state variables ---\n",
    "x_robot, y_robot, heading = (\n",
    "    Function(\"x_robot\")(t),\n",
    "    Function(\"y_robot\")(t),\n",
    "    Function(\"heading\")(t),\n",
    ")\n",
    "wheel_spin = Function(\"wheel_spin\")(t)  # wheel rotation φ(t)\n",
    "dot_wheel_spin = wheel_spin.diff(t)\n",
    "\n",
    "# --- Robot velocity in inertial frame ---\n",
    "x_dot, y_dot, heading_dot = x_robot.diff(t), y_robot.diff(t), heading.diff(t)\n",
    "dot_pose_I = Matrix([x_dot, y_dot, heading_dot])\n",
    "\n",
    "# --- Rotation matrix: from global (I) to robot (R) frame ---\n",
    "def rotation_matrix(th):\n",
    "    # +ve rotation is clockwise\n",
    "    R = Matrix([[cos(th), sin(th), 0], [-sin(th), cos(th), 0], [0, 0, 1]])\n",
    "    return R\n",
    "\n",
    "\n",
    "R = rotation_matrix(heading)\n",
    "\n",
    "# Velocity of robot expressed in robot frame\n",
    "dot_pose_R = R * dot_pose_I\n",
    "\n",
    "# ==========================================================\n",
    "# === Swedish wheel rolling and sliding constraints ========\n",
    "# ==========================================================\n",
    "\n",
    "# --- Rolling constraint (Eq. 3.19, rotated by roller_angle) ---\n",
    "A_roll = Matrix([[ sin(wheel_pos_angle + steer_angle + roller_angle),\n",
    "                  -cos(wheel_pos_angle + steer_angle + roller_angle),\n",
    "                  -wheel_base_radius * cos(steer_angle + roller_angle) ]])\n",
    "\n",
    "lhs_roll = (A_roll * dot_pose_R)[0]\n",
    "rolling_constraint_sw = Eq(lhs_roll - wheel_radius * dot_wheel_spin * cos(roller_angle), 0)\n",
    "\n",
    "# --- Sliding (free motion) direction (Eq. 3.20) ---\n",
    "A_slide = Matrix([[ cos(wheel_pos_angle + steer_angle + roller_angle),\n",
    "                   sin(wheel_pos_angle + steer_angle + roller_angle),\n",
    "                   wheel_base_radius * sin(steer_angle + roller_angle) ]])\n",
    "\n",
    "lhs_slide = (A_slide * dot_pose_R)[0]\n",
    "sliding_constraint_sw = Eq(lhs_slide - wheel_radius * dot_wheel_spin * sin(roller_angle), 0)\n",
    "\n",
    "# Display symbolic constraints\n",
    "rolling_constraint_sw, sliding_constraint_sw"
   ]
  },
  {
   "cell_type": "markdown",
   "id": "fcde0e2b",
   "metadata": {},
   "source": [
    "## Robot kinematic models and constraints"
   ]
  },
  {
   "cell_type": "markdown",
   "id": "12e4a984",
   "metadata": {},
   "source": [
    "The robot body velocity in the global frame, when transformed into the wheel frame, must satisfy each wheel's rolling and sliding constraints.\n",
    "\n",
    "LHS: robot's chassis movement\n",
    "\n",
    "RHS: wheel spins to produce that motion\n",
    "\n",
    "$$\n",
    "\\begin{bmatrix}\n",
    "J_1(\\beta_s) \\\\\n",
    "C_1(\\beta_s)\n",
    "\\end{bmatrix}\n",
    "R(\\theta)\\, \\dot{\\boldsymbol{\\xi}}_I\n",
    "=\n",
    "\\begin{bmatrix}\n",
    "J_2\\,\\dot{\\boldsymbol{\\phi}} \\\\\n",
    "0\n",
    "\\end{bmatrix}\n",
    "\\tag{★}\n",
    "$$\n",
    "\n",
    "- $\\dot{\\boldsymbol{\\xi}}_I = [\\dot{x}_I,\\, \\dot{y}_I,\\, \\dot{\\theta}_I]^T$ = robot's velocity in global frame\n",
    "- $R(\\theta)$ = rotation matrix converts global frame to robot's body frame\n",
    "- $J_1(\\beta_s)$ = rolling constraint matrix, depends on steering angles\n",
    "- $C_1(\\beta_s)$ = lateral sliding constraint matrix, depends on steering angles\n",
    "- $J_2$ = matrix maps wheel angular speed into linear motion at the wheel circumference\n",
    "- $\\dot{\\boldsymbol{\\phi}}$ = vector of wheel spin rates\n",
    "\n",
    "The top block $J_1(\\beta_s) R(\\theta)\\dot{\\xi}_I = J_2\\dot{\\phi}$ describes **rolling** (driven) wheels.\n",
    "\n",
    "The bottom block $C_1(\\beta_s)R(\\theta)\\dot{\\xi}_I = 0$ describes **non‑driven** constraints (e.g., directions that can’t move laterally, or passive castors).\n"
   ]
  },
  {
   "cell_type": "markdown",
   "id": "a7c09360",
   "metadata": {},
   "source": [
    "Dimension of each matrix:\n",
    "\n",
    "1. Rotation matrix $R(\\theta)$\n",
    "\n",
    "$$\n",
    "R(\\theta) = \n",
    "\\begin{bmatrix}\n",
    "\\cos\\theta & \\sin\\theta & 0 \\\\\n",
    "-\\sin\\theta & \\cos\\theta & 0 \\\\\n",
    "0 & 0 & 1\n",
    "\\end{bmatrix}\n",
    "$$\n",
    "\n",
    "**→Dimension:** $3 \\times 3$\n",
    "\n",
    "---\n",
    "\n",
    "2. $J_1(\\beta_s)$ — Rolling‑Constraint Matrix\n",
    "\n",
    "- Each **driven wheel** contributes **one scalar rolling constraint**,  \n",
    "  describing that the wheel rolls without slipping along its own rolling direction.\n",
    "\n",
    "So for **n₁ driven wheels**, we build an **n₁×3** matrix:\n",
    "\n",
    "$$\n",
    "J_1(\\beta_s) =\n",
    "\\begin{bmatrix}\n",
    "\\sin(\\alpha_1+\\beta_1) & -\\cos(\\alpha_1+\\beta_1) & -l\\cos(\\beta_1)\\\\[4pt]\n",
    "\\sin(\\alpha_2+\\beta_2) & -\\cos(\\alpha_2+\\beta_2) & -l\\cos(\\beta_2)\\\\\n",
    "\\vdots & \\vdots & \\vdots\n",
    "\\end{bmatrix}\n",
    "$$\n",
    "\n",
    "**→ Dimension:**  $n₁ × 3 $\n",
    "\n",
    "---\n",
    "\n",
    "3. $C_1(\\beta_s)$ — Sliding‑Constraint Matrix\n",
    "\n",
    "- Each wheel also imposes at least one **lateral (side‑slip) constraint**:  \n",
    "  the wheel cannot move sideways (for standard or steered wheels).\n",
    "\n",
    "If there are **n₂ passive or side‑slip‑constraining conditions**,  \n",
    "then $ C_1(\\beta_s) $ is an **n₂×3** matrix (same idea as $J_1$ but for constrained directions).\n",
    "\n",
    "**Each row** encodes a direction in the robot frame along which velocity must be zero.\n",
    "\n",
    "**→ Dimension:** $n₂ × 3$\n",
    "\n",
    "---\n",
    "\n",
    "4. $J_2$ — Wheel‑velocity mapping matrix\n",
    "\n",
    "The right‑hand side connects wheel rotation speeds $ \\dot{\\boldsymbol{\\phi}} $ to the linear velocities at the contact points.\n",
    "\n",
    "For **n₁ driven wheels**, $ J_2 $ is an **n₁×n** matrix.\n",
    "\n",
    "Typically $ n₁ = n $ (for fully driven systems), and:\n",
    "\n",
    "$$\n",
    "J_2 = r I_{n₁}\n",
    "$$\n",
    "if wheel radii are identical (each wheel translates rotation rate into linear speed).\n",
    "\n",
    "**→ Dimension:** $ n₁ × n $"
   ]
  },
  {
   "cell_type": "code",
   "execution_count": 37,
   "id": "6042fb18",
   "metadata": {},
   "outputs": [],
   "source": [
    "from sympy import symbols, Function, Matrix, Eq, sin, cos, simplify\n",
    "\n",
    "class FixedStandardWheel:\n",
    "    \"\"\"\n",
    "    Encapsulates the rolling and sliding (lateral) constraints for a fixed standard wheel.\n",
    "\n",
    "    Parameters\n",
    "    ----------\n",
    "    alpha : sympy.Symbol\n",
    "        The polar angle of the wheel's contact point (in chassis frame).\n",
    "    beta : sympy.Symbol\n",
    "        The orientation angle of the wheel plane relative to chassis X-axis.\n",
    "    l : sympy.Symbol\n",
    "        Distance from robot center to wheel contact point.\n",
    "    r : sympy.Symbol\n",
    "        Wheel radius.\n",
    "    R : sympy.Matrix (3x3)\n",
    "        Rotation matrix from inertial to robot frame.\n",
    "    x, y, theta : sympy.Function\n",
    "        State functions (time-dependent) of robot pose.\n",
    "    phi : sympy.Function\n",
    "        Wheel rotation angle (time-dependent).\n",
    "    \"\"\"\n",
    "\n",
    "    def __init__(self, alpha, beta, l, r, R, x, y, theta, phi):\n",
    "        # Store parameters\n",
    "        self.alpha = alpha\n",
    "        self.beta = beta\n",
    "        self.l = l\n",
    "        self.r = r\n",
    "        self.R = R\n",
    "        self.x = x\n",
    "        self.y = y\n",
    "        self.theta = theta\n",
    "        self.phi = phi\n",
    "\n",
    "        # Define time symbol\n",
    "        self.t = list(phi.atoms(Function))[0].args[\n",
    "            0\n",
    "        ]  # extract the time symbol from phi(t)\n",
    "\n",
    "        # Define time derivatives\n",
    "        self.dot_phi = phi.diff(self.t)\n",
    "        self.zeta_I = Matrix([x, y, theta])\n",
    "        self.dot_zeta_I = self.zeta_I.diff(self.t)\n",
    "\n",
    "        # Velocity in robot frame\n",
    "        self.dot_zeta_R = R * self.dot_zeta_I\n",
    "\n",
    "        # Construct both constraints\n",
    "        self.rolling_constraint = self._build_rolling_constraint()\n",
    "        self.sliding_constraint = self._build_sliding_constraint()\n",
    "\n",
    "    # ---------------------------------------------------------------\n",
    "    def _build_rolling_constraint(self):\n",
    "        \"\"\"Builds the rolling (no longitudinal slip) constraint.\"\"\"\n",
    "        alpha, beta, l, r = self.alpha, self.beta, self.l, self.r\n",
    "        A = Matrix([[sin(alpha + beta), -cos(alpha + beta), -l * cos(beta)]])\n",
    "        lhs = (A * self.dot_zeta_R)[0]  # scalar\n",
    "        return Eq(lhs - r * self.dot_phi, 0)\n",
    "\n",
    "    # ---------------------------------------------------------------\n",
    "    def _build_sliding_constraint(self):\n",
    "        \"\"\"Builds the lateral (no sideways slip) constraint.\"\"\"\n",
    "        alpha, beta, l = self.alpha, self.beta, self.l\n",
    "        A = Matrix([[cos(alpha + beta), sin(alpha + beta), l * sin(beta)]])\n",
    "        lhs = (A * self.dot_zeta_R)[0]  # scalar\n",
    "        return Eq(lhs, 0)\n",
    "\n",
    "    # ---------------------------------------------------------------\n",
    "    def constraints(self, simplify_eqs=False):\n",
    "        \"\"\"Returns both constraints as a tuple (rolling, sliding).\"\"\"\n",
    "        if simplify_eqs:\n",
    "            return simplify(self.rolling_constraint), simplify(self.sliding_constraint)\n",
    "        return self.rolling_constraint, self.sliding_constraint\n"
   ]
  },
  {
   "cell_type": "code",
   "execution_count": 39,
   "id": "55cf9942",
   "metadata": {},
   "outputs": [],
   "source": [
    "# Symbols\n",
    "t = symbols(\"t\")\n",
    "alpha, beta, l, r = symbols(\"alpha beta l r\")\n",
    "x, y, theta = Function(\"x\")(t), Function(\"y\")(t), Function(\"theta\")(t)\n",
    "phi = Function(\"phi\")(t)\n",
    "\n",
    "# Rotation from inertial → robot frame\n",
    "R = Matrix([\n",
    "    [cos(theta), sin(theta), 0],\n",
    "    [-sin(theta), cos(theta), 0],\n",
    "    [0, 0, 1]\n",
    "])\n",
    "\n",
    "# instantiate the wheel \n",
    "wheel = FixedStandardWheel(alpha, beta, l, r, R, x, y, theta, phi)\n",
    "\n",
    "# get constraints \n",
    "roll_eq, slide_eq = wheel.constraints(simplify_eqs=True)"
   ]
  },
  {
   "cell_type": "code",
   "execution_count": 45,
   "id": "befd5c32",
   "metadata": {},
   "outputs": [],
   "source": [
    "class DifferentialDriveRobot:\n",
    "    \"\"\"\n",
    "    Symbolic model of a differential-drive robot using two fixed standard wheels.\n",
    "    \"\"\"\n",
    "    def __init__(self):\n",
    "        # Define symbols and variables\n",
    "        t = symbols(\"t\")\n",
    "        self.t = t\n",
    "        self.l, self.r = symbols(\"l r\", real=True)\n",
    "        self.alpha_R, self.alpha_L = 0, 0\n",
    "        self.beta_R, self.beta_L = 0, 0  # wheel planes aligned with x-axis\n",
    "\n",
    "        # Robot pose variables\n",
    "        self.x, self.y, self.theta = (Function(\"x\")(t),\n",
    "                                     Function(\"y\")(t),\n",
    "                                     Function(\"theta\")(t))\n",
    "\n",
    "        # Wheel rotation variables\n",
    "        self.phi_R = Function(\"phi_R\")(t)\n",
    "        self.phi_L = Function(\"phi_L\")(t)\n",
    "\n",
    "        # Rotation from inertial → robot frame\n",
    "        self.R = Matrix([\n",
    "            [cos(self.theta), sin(self.theta), 0],\n",
    "            [-sin(self.theta), cos(self.theta), 0],\n",
    "            [0, 0, 1]\n",
    "        ])\n",
    "\n",
    "        # Create right and left wheel objects\n",
    "        self.right_wheel = FixedStandardWheel(\n",
    "            alpha=0, beta=0, l=self.l, r=self.r, R=self.R,\n",
    "            x=self.x, y=self.y, theta=self.theta, phi=self.phi_R\n",
    "        )\n",
    "        self.left_wheel = FixedStandardWheel(\n",
    "            alpha=0, beta=0, l=-self.l, r=self.r, R=self.R,\n",
    "            x=self.x, y=self.y, theta=self.theta, phi=self.phi_L\n",
    "        )\n",
    "\n",
    "        # Build complete matrices\n",
    "        self.build_robot_level_constraints()\n",
    "\n",
    "    # ---------------------------------------------------------------\n",
    "    def build_robot_level_constraints(self):\n",
    "        # Rebuild rolling matrix J1 and lateral constraint C1\n",
    "        l = self.l\n",
    "        self.J1 = Matrix([[1, 0, l], \n",
    "                          [1, 0, -l]])\n",
    "        self.C1 = Matrix([[0, 1, 0]])\n",
    "\n",
    "        # Collect wheel angular velocities\n",
    "        phiR_dot = self.phi_R.diff(self.t)\n",
    "        phiL_dot = self.phi_L.diff(self.t)\n",
    "        self.phi_dot = Matrix([phiR_dot, phiL_dot])\n",
    "\n",
    "        # Build complete equation\n",
    "        self.J2 = self.r * Matrix.eye(2)\n",
    "        self.dot_zeta_I = Matrix(\n",
    "            [self.x.diff(self.t), \n",
    "             self.y.diff(self.t), \n",
    "             self.theta.diff(self.t)]\n",
    "        )\n",
    "        self.dot_zeta_R = self.R * self.dot_zeta_I\n",
    "\n",
    "        # Left-hand side (LHS)\n",
    "        top = self.J1 * self.dot_zeta_R\n",
    "        bottom = self.C1 * self.dot_zeta_R\n",
    "        self.LHS = Matrix.vstack(top, bottom)\n",
    "\n",
    "        # Right-hand side (RHS)\n",
    "        top_rhs = self.J2 * self.phi_dot\n",
    "        bottom_rhs = Matrix.zeros(1, 1)\n",
    "        self.RHS = Matrix.vstack(top_rhs, bottom_rhs)\n",
    "\n",
    "        # Full symbolic form of the constraint equation\n",
    "        self.constraint_equation = Eq(self.LHS, self.RHS)\n",
    "\n",
    "    # ---------------------------------------------------------------\n",
    "    def forward_kinematics(self):\n",
    "        \"\"\"Solve for body velocities in the robot frame in terms of wheel speeds.\"\"\"\n",
    "        phiR_dot, phiL_dot = self.phi_dot\n",
    "        v_r = self.r / 2 * (phiR_dot + phiL_dot)\n",
    "        w_r = self.r / (2 * self.l) * (phiR_dot - phiL_dot)\n",
    "        # Body-frame velocity vector: [x_dot_R, y_dot_R, theta_dot_R]\n",
    "        v_body = Matrix([v_r, 0, w_r])\n",
    "        return v_body.simplify()\n",
    "\n",
    "    def show_equations(self):\n",
    "        print(\"\\n=== Differential Drive Robot Constraint Equation ===\")\n",
    "        print(self.constraint_equation)\n",
    "        print(\"\\nRolling matrix J1:\")\n",
    "        print(self.J1)\n",
    "        print(\"\\nSliding constraint C1:\")\n",
    "        print(self.C1)\n",
    "        print(\"\\nRotation matrix R(theta):\")\n",
    "        print(self.R)"
   ]
  },
  {
   "cell_type": "code",
   "execution_count": 46,
   "id": "154451a1",
   "metadata": {},
   "outputs": [
    {
     "name": "stdout",
     "output_type": "stream",
     "text": [
      "\n",
      "=== Differential Drive Robot Constraint Equation ===\n",
      "Eq(Matrix([\n",
      "[ l*Derivative(theta(t), t) + sin(theta(t))*Derivative(y(t), t) + cos(theta(t))*Derivative(x(t), t)],\n",
      "[-l*Derivative(theta(t), t) + sin(theta(t))*Derivative(y(t), t) + cos(theta(t))*Derivative(x(t), t)],\n",
      "[                            -sin(theta(t))*Derivative(x(t), t) + cos(theta(t))*Derivative(y(t), t)]]), Matrix([\n",
      "[r*Derivative(phi_R(t), t)],\n",
      "[r*Derivative(phi_L(t), t)],\n",
      "[                        0]]))\n",
      "\n",
      "Rolling matrix J1:\n",
      "Matrix([[1, 0, l], [1, 0, -l]])\n",
      "\n",
      "Sliding constraint C1:\n",
      "Matrix([[0, 1, 0]])\n",
      "\n",
      "Rotation matrix R(theta):\n",
      "Matrix([[cos(theta(t)), sin(theta(t)), 0], [-sin(theta(t)), cos(theta(t)), 0], [0, 0, 1]])\n",
      "\n",
      "Forward Kinematics (velocities in robot frame):\n",
      "None\n"
     ]
    }
   ],
   "source": [
    "robot = DifferentialDriveRobot()\n",
    "robot.show_equations()\n",
    "\n",
    "v_body = robot.forward_kinematics()\n",
    "print(\"\\nForward Kinematics (velocities in robot frame):\")\n",
    "print(v_body)"
   ]
  }
 ],
 "metadata": {
  "kernelspec": {
   "display_name": "py10",
   "language": "python",
   "name": "python3"
  },
  "language_info": {
   "codemirror_mode": {
    "name": "ipython",
    "version": 3
   },
   "file_extension": ".py",
   "mimetype": "text/x-python",
   "name": "python",
   "nbconvert_exporter": "python",
   "pygments_lexer": "ipython3",
   "version": "3.10.18"
  }
 },
 "nbformat": 4,
 "nbformat_minor": 5
}
